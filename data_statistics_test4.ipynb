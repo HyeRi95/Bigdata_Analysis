{
 "cells": [
  {
   "cell_type": "markdown",
   "metadata": {
    "vscode": {
     "languageId": "plaintext"
    }
   },
   "source": [
    "### 제 3유형 다중회귀분석 및 상관분석\n",
    "- 당뇨병 환자의 질병 진행정도 데이터셋"
   ]
  },
  {
   "cell_type": "code",
   "execution_count": 32,
   "metadata": {},
   "outputs": [],
   "source": [
    "import pandas as pd \n",
    "import numpy as np \n",
    "from sklearn.linear_model import LinearRegression, LogisticRegression\n",
    "from scipy.stats import pearsonr"
   ]
  },
  {
   "cell_type": "code",
   "execution_count": 33,
   "metadata": {},
   "outputs": [],
   "source": [
    "from sklearn.datasets import load_diabetes\n",
    "diabets = load_diabetes()\n",
    "\n",
    "x = pd.DataFrame(diabets.data, columns=diabets.feature_names)\n",
    "y = pd.DataFrame(diabets.target)\n",
    "\n",
    "y.columns=['target']"
   ]
  },
  {
   "cell_type": "code",
   "execution_count": 34,
   "metadata": {},
   "outputs": [
    {
     "data": {
      "text/html": [
       "<div>\n",
       "<style scoped>\n",
       "    .dataframe tbody tr th:only-of-type {\n",
       "        vertical-align: middle;\n",
       "    }\n",
       "\n",
       "    .dataframe tbody tr th {\n",
       "        vertical-align: top;\n",
       "    }\n",
       "\n",
       "    .dataframe thead th {\n",
       "        text-align: right;\n",
       "    }\n",
       "</style>\n",
       "<table border=\"1\" class=\"dataframe\">\n",
       "  <thead>\n",
       "    <tr style=\"text-align: right;\">\n",
       "      <th></th>\n",
       "      <th>age</th>\n",
       "      <th>sex</th>\n",
       "      <th>bmi</th>\n",
       "      <th>bp</th>\n",
       "      <th>s1</th>\n",
       "      <th>s2</th>\n",
       "      <th>s3</th>\n",
       "      <th>s4</th>\n",
       "      <th>s5</th>\n",
       "      <th>s6</th>\n",
       "    </tr>\n",
       "  </thead>\n",
       "  <tbody>\n",
       "    <tr>\n",
       "      <th>0</th>\n",
       "      <td>0.038076</td>\n",
       "      <td>0.050680</td>\n",
       "      <td>0.061696</td>\n",
       "      <td>0.021872</td>\n",
       "      <td>-0.044223</td>\n",
       "      <td>-0.034821</td>\n",
       "      <td>-0.043401</td>\n",
       "      <td>-0.002592</td>\n",
       "      <td>0.019908</td>\n",
       "      <td>-0.017646</td>\n",
       "    </tr>\n",
       "    <tr>\n",
       "      <th>1</th>\n",
       "      <td>-0.001882</td>\n",
       "      <td>-0.044642</td>\n",
       "      <td>-0.051474</td>\n",
       "      <td>-0.026328</td>\n",
       "      <td>-0.008449</td>\n",
       "      <td>-0.019163</td>\n",
       "      <td>0.074412</td>\n",
       "      <td>-0.039493</td>\n",
       "      <td>-0.068330</td>\n",
       "      <td>-0.092204</td>\n",
       "    </tr>\n",
       "    <tr>\n",
       "      <th>2</th>\n",
       "      <td>0.085299</td>\n",
       "      <td>0.050680</td>\n",
       "      <td>0.044451</td>\n",
       "      <td>-0.005671</td>\n",
       "      <td>-0.045599</td>\n",
       "      <td>-0.034194</td>\n",
       "      <td>-0.032356</td>\n",
       "      <td>-0.002592</td>\n",
       "      <td>0.002864</td>\n",
       "      <td>-0.025930</td>\n",
       "    </tr>\n",
       "    <tr>\n",
       "      <th>3</th>\n",
       "      <td>-0.089063</td>\n",
       "      <td>-0.044642</td>\n",
       "      <td>-0.011595</td>\n",
       "      <td>-0.036656</td>\n",
       "      <td>0.012191</td>\n",
       "      <td>0.024991</td>\n",
       "      <td>-0.036038</td>\n",
       "      <td>0.034309</td>\n",
       "      <td>0.022692</td>\n",
       "      <td>-0.009362</td>\n",
       "    </tr>\n",
       "    <tr>\n",
       "      <th>4</th>\n",
       "      <td>0.005383</td>\n",
       "      <td>-0.044642</td>\n",
       "      <td>-0.036385</td>\n",
       "      <td>0.021872</td>\n",
       "      <td>0.003935</td>\n",
       "      <td>0.015596</td>\n",
       "      <td>0.008142</td>\n",
       "      <td>-0.002592</td>\n",
       "      <td>-0.031991</td>\n",
       "      <td>-0.046641</td>\n",
       "    </tr>\n",
       "  </tbody>\n",
       "</table>\n",
       "</div>"
      ],
      "text/plain": [
       "        age       sex       bmi        bp        s1        s2        s3  \\\n",
       "0  0.038076  0.050680  0.061696  0.021872 -0.044223 -0.034821 -0.043401   \n",
       "1 -0.001882 -0.044642 -0.051474 -0.026328 -0.008449 -0.019163  0.074412   \n",
       "2  0.085299  0.050680  0.044451 -0.005671 -0.045599 -0.034194 -0.032356   \n",
       "3 -0.089063 -0.044642 -0.011595 -0.036656  0.012191  0.024991 -0.036038   \n",
       "4  0.005383 -0.044642 -0.036385  0.021872  0.003935  0.015596  0.008142   \n",
       "\n",
       "         s4        s5        s6  \n",
       "0 -0.002592  0.019908 -0.017646  \n",
       "1 -0.039493 -0.068330 -0.092204  \n",
       "2 -0.002592  0.002864 -0.025930  \n",
       "3  0.034309  0.022692 -0.009362  \n",
       "4 -0.002592 -0.031991 -0.046641  "
      ]
     },
     "execution_count": 34,
     "metadata": {},
     "output_type": "execute_result"
    }
   ],
   "source": [
    "x.head()"
   ]
  },
  {
   "cell_type": "code",
   "execution_count": 35,
   "metadata": {},
   "outputs": [
    {
     "name": "stdout",
     "output_type": "stream",
     "text": [
      "        age       sex       bmi\n",
      "0  0.038076  0.050680  0.061696\n",
      "1 -0.001882 -0.044642 -0.051474\n",
      "2  0.085299  0.050680  0.044451\n",
      "3 -0.089063 -0.044642 -0.011595\n",
      "4  0.005383 -0.044642 -0.036385\n",
      "   target\n",
      "0   151.0\n",
      "1    75.0\n",
      "2   141.0\n",
      "3   206.0\n",
      "4   135.0\n"
     ]
    }
   ],
   "source": [
    "# sklearn 라이브러리 (LinearRegression 활용)\n",
    "\n",
    "x = x[['age','sex','bmi']]\n",
    "print(x.head())\n",
    "print(y.head())"
   ]
  },
  {
   "cell_type": "markdown",
   "metadata": {},
   "source": [
    "- 회귀식 : y = b0 +b1x1 +b2x2 + b3x3     \n",
    "\n",
    "   (x1=age, x2=sex, x3=bmi)"
   ]
  },
  {
   "cell_type": "code",
   "execution_count": 36,
   "metadata": {},
   "outputs": [
    {
     "data": {
      "text/plain": [
       "LinearRegression()"
      ]
     },
     "execution_count": 36,
     "metadata": {},
     "output_type": "execute_result"
    }
   ],
   "source": [
    "linear_model = LinearRegression()\n",
    "linear_model.fit(x,y)"
   ]
  },
  {
   "cell_type": "code",
   "execution_count": 37,
   "metadata": {},
   "outputs": [
    {
     "name": "stdout",
     "output_type": "stream",
     "text": [
      "0.351\n"
     ]
    }
   ],
   "source": [
    "# 회귀분석 관련 지표 출력\n",
    "\n",
    "# 1. Rsq(R2 Score 결정계수) 출력하기\n",
    "print(round(linear_model.score(x,y),3)) # .score : 결정계수 의미!"
   ]
  },
  {
   "cell_type": "code",
   "execution_count": 38,
   "metadata": {},
   "outputs": [
    {
     "data": {
      "text/plain": [
       "numpy.ndarray"
      ]
     },
     "execution_count": 38,
     "metadata": {},
     "output_type": "execute_result"
    }
   ],
   "source": [
    "type(linear_model.coef_)"
   ]
  },
  {
   "cell_type": "code",
   "execution_count": 39,
   "metadata": {},
   "outputs": [
    {
     "name": "stdout",
     "output_type": "stream",
     "text": [
      "[[138.9  -36.14 926.91]]\n",
      "138.9\n",
      "-36.14\n",
      "926.91\n"
     ]
    }
   ],
   "source": [
    "# 2. 회귀계수 출력 (coef_)\n",
    "print(np.round(linear_model.coef_,2)) # 전체계수\n",
    "print(np.round(linear_model.coef_[0,0],2)) # X1의 회귀계수(b1)\n",
    "print(np.round(linear_model.coef_[0,1],2)) # X2의 회귀계수(b2)\n",
    "print(np.round(linear_model.coef_[0,2],2)) # X3의 회귀계수(b3)"
   ]
  },
  {
   "cell_type": "code",
   "execution_count": 40,
   "metadata": {},
   "outputs": [
    {
     "name": "stdout",
     "output_type": "stream",
     "text": [
      "152.13\n"
     ]
    }
   ],
   "source": [
    "# 회귀계수 (절편 b0), intercept_\n",
    "print(np.round(linear_model.intercept_,2)[0])"
   ]
  },
  {
   "cell_type": "markdown",
   "metadata": {},
   "source": [
    "즉, 회귀식은         \n",
    "**y=152.13 + 138.9*age -36.14*sex + 926.91*bmi**"
   ]
  },
  {
   "cell_type": "code",
   "execution_count": 41,
   "metadata": {},
   "outputs": [
    {
     "name": "stdout",
     "output_type": "stream",
     "text": [
      "        age       sex       bmi\n",
      "0  0.038076  0.050680  0.061696\n",
      "1 -0.001882 -0.044642 -0.051474\n",
      "2  0.085299  0.050680  0.044451\n",
      "3 -0.089063 -0.044642 -0.011595\n",
      "4  0.005383 -0.044642 -0.036385\n",
      "0    151.0\n",
      "1     75.0\n",
      "2    141.0\n",
      "3    206.0\n",
      "4    135.0\n",
      "Name: target, dtype: float64\n"
     ]
    }
   ],
   "source": [
    "# by statsmodel.formula 활용\n",
    "import statsmodels.api as sm\n",
    "\n",
    "# 독립변수와 종속변수 결정\n",
    "x = x[['age','sex','bmi']]\n",
    "y = y['target']\n",
    "\n",
    "print(x.head())\n",
    "print(y.head())"
   ]
  },
  {
   "cell_type": "code",
   "execution_count": 43,
   "metadata": {},
   "outputs": [
    {
     "name": "stdout",
     "output_type": "stream",
     "text": [
      "                            OLS Regression Results                            \n",
      "==============================================================================\n",
      "Dep. Variable:                 target   R-squared:                       0.351\n",
      "Model:                            OLS   Adj. R-squared:                  0.346\n",
      "Method:                 Least Squares   F-statistic:                     78.94\n",
      "Date:                Wed, 13 Nov 2024   Prob (F-statistic):           7.77e-41\n",
      "Time:                        13:49:45   Log-Likelihood:                -2451.6\n",
      "No. Observations:                 442   AIC:                             4911.\n",
      "Df Residuals:                     438   BIC:                             4928.\n",
      "Df Model:                           3                                         \n",
      "Covariance Type:            nonrobust                                         \n",
      "==============================================================================\n",
      "                 coef    std err          t      P>|t|      [0.025      0.975]\n",
      "------------------------------------------------------------------------------\n",
      "const        152.1335      2.964     51.321      0.000     146.307     157.960\n",
      "age          138.9039     64.254      2.162      0.031      12.618     265.189\n",
      "sex          -36.1353     63.391     -0.570      0.569    -160.724      88.453\n",
      "bmi          926.9120     63.525     14.591      0.000     802.061    1051.763\n",
      "==============================================================================\n",
      "Omnibus:                       14.687   Durbin-Watson:                   1.851\n",
      "Prob(Omnibus):                  0.001   Jarque-Bera (JB):                8.290\n",
      "Skew:                           0.150   Prob(JB):                       0.0158\n",
      "Kurtosis:                       2.400   Cond. No.                         23.7\n",
      "==============================================================================\n",
      "\n",
      "Notes:\n",
      "[1] Standard Errors assume that the covariance matrix of the errors is correctly specified.\n"
     ]
    }
   ],
   "source": [
    "x = sm.add_constant(x) # 주의! 반드시 상수항을 추가해주어야 한다!\n",
    "model = sm.OLS(y,x).fit() # 순서 주의! 종속변수, 독립변수\n",
    "\n",
    "summary = model.summary()\n",
    "\n",
    "print(summary) # 회귀식의 p-value를 요구할 경우 사용하여야 한다!"
   ]
  }
 ],
 "metadata": {
  "kernelspec": {
   "display_name": "base",
   "language": "python",
   "name": "python3"
  },
  "language_info": {
   "codemirror_mode": {
    "name": "ipython",
    "version": 3
   },
   "file_extension": ".py",
   "mimetype": "text/x-python",
   "name": "python",
   "nbconvert_exporter": "python",
   "pygments_lexer": "ipython3",
   "version": "3.9.12"
  }
 },
 "nbformat": 4,
 "nbformat_minor": 2
}
