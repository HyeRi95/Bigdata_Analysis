{
 "cells": [
  {
   "cell_type": "markdown",
   "metadata": {},
   "source": [
    "## 문제 풀이 1-10"
   ]
  },
  {
   "cell_type": "code",
   "execution_count": 1,
   "metadata": {},
   "outputs": [],
   "source": [
    "# 데이터 불러오기\n",
    "import pandas as pd \n",
    "import numpy as numpy\n",
    "from sklearn.preprocessing import MinMaxScaler, StandardScaler\n",
    "\n",
    "df=pd.read_csv('mtcars.csv')"
   ]
  },
  {
   "cell_type": "markdown",
   "metadata": {},
   "source": [
    "- 문제 1. mpg 변수의 제 1사분위수를 구하고 정수값으로 출력하시오"
   ]
  },
  {
   "cell_type": "code",
   "execution_count": 7,
   "metadata": {},
   "outputs": [
    {
     "name": "stdout",
     "output_type": "stream",
     "text": [
      "15\n"
     ]
    }
   ],
   "source": [
    "# 내 풀이 \n",
    "Q1 = int(df['mpg'].quantile(0.25))\n",
    "print(Q1)"
   ]
  },
  {
   "cell_type": "code",
   "execution_count": 9,
   "metadata": {},
   "outputs": [
    {
     "name": "stdout",
     "output_type": "stream",
     "text": [
      "15\n"
     ]
    }
   ],
   "source": [
    "# 답 \n",
    "Q1 = df['mpg'].quantile(0.25)\n",
    "print(round(Q1))"
   ]
  },
  {
   "cell_type": "markdown",
   "metadata": {},
   "source": [
    "- 문제 2. mpg 값이 19 이상 21 이하인 데이터의 수를 구하시오."
   ]
  },
  {
   "cell_type": "code",
   "execution_count": 11,
   "metadata": {},
   "outputs": [
    {
     "data": {
      "text/plain": [
       "5"
      ]
     },
     "execution_count": 11,
     "metadata": {},
     "output_type": "execute_result"
    }
   ],
   "source": [
    "# 내 풀이\n",
    "len(df[(df['mpg']>=19)&(df['mpg']<=21)])"
   ]
  },
  {
   "cell_type": "code",
   "execution_count": 12,
   "metadata": {},
   "outputs": [
    {
     "name": "stdout",
     "output_type": "stream",
     "text": [
      "5\n"
     ]
    }
   ],
   "source": [
    "# 답\n",
    "cond1 = df['mpg']>=19\n",
    "cond2 = df['mpg']<=21\n",
    "\n",
    "print(len(df[cond1&cond2]))"
   ]
  },
  {
   "cell_type": "markdown",
   "metadata": {},
   "source": [
    "- 문제 3. hp 변수의 IQR 값을 구하시오"
   ]
  },
  {
   "cell_type": "code",
   "execution_count": 13,
   "metadata": {},
   "outputs": [
    {
     "name": "stdout",
     "output_type": "stream",
     "text": [
      "83.5\n"
     ]
    }
   ],
   "source": [
    "# 내 풀이\n",
    "Q3 = df['hp'].quantile(0.75)\n",
    "Q1 = df['hp'].quantile(0.25)\n",
    "IQR = Q3-Q1\n",
    "\n",
    "print(IQR)"
   ]
  },
  {
   "cell_type": "code",
   "execution_count": 14,
   "metadata": {},
   "outputs": [
    {
     "name": "stdout",
     "output_type": "stream",
     "text": [
      "83.5\n"
     ]
    }
   ],
   "source": [
    "# 답\n",
    "Q3 = df['hp'].quantile(0.75)\n",
    "Q1 = df['hp'].quantile(0.25)\n",
    "IQR = Q1-Q3\n",
    "\n",
    "print(abs(IQR))"
   ]
  },
  {
   "cell_type": "markdown",
   "metadata": {},
   "source": [
    "- 문제 4. wt 변수의 상위 10개 값의 총합을 구하여 소수점을 버리고 정수로 출력하시오."
   ]
  },
  {
   "cell_type": "code",
   "execution_count": 20,
   "metadata": {},
   "outputs": [
    {
     "name": "stdout",
     "output_type": "stream",
     "text": [
      "42\n",
      "42\n"
     ]
    }
   ],
   "source": [
    "# 내 풀이\n",
    "sum_wt = ((df['wt'].sort_values(ascending=False)).head(10)).sum()\n",
    "print(round(sum_wt))\n",
    "print(int(sum_wt))"
   ]
  },
  {
   "cell_type": "code",
   "execution_count": 21,
   "metadata": {},
   "outputs": [
    {
     "name": "stdout",
     "output_type": "stream",
     "text": [
      "42\n"
     ]
    }
   ],
   "source": [
    "# 답 \n",
    "df3 = df.copy()\n",
    "sum_wt =sum(df3['wt'].sort_values(ascending=False)[:10])\n",
    "print(round(sum_wt))"
   ]
  },
  {
   "cell_type": "markdown",
   "metadata": {},
   "source": [
    "- 문제 5. 전체 자동차에서 cyl가 6인 비율이 얼마인지 소수점 첫째 자리까지 출력하시오."
   ]
  },
  {
   "cell_type": "code",
   "execution_count": 41,
   "metadata": {},
   "outputs": [
    {
     "name": "stdout",
     "output_type": "stream",
     "text": [
      "0.2\n"
     ]
    }
   ],
   "source": [
    "# 내 풀이\n",
    "df4 = df.copy()\n",
    "print(round(len(df4[df4['cyl']== 6])/len(df4['cyl']),1))"
   ]
  },
  {
   "cell_type": "code",
   "execution_count": 34,
   "metadata": {},
   "outputs": [
    {
     "name": "stdout",
     "output_type": "stream",
     "text": [
      "0.2\n"
     ]
    }
   ],
   "source": [
    "# 답 \n",
    "df4 = df.copy()\n",
    "\n",
    "total_cyl = len(df4['cyl'])\n",
    "\n",
    "cond1 = (df4['cyl'] == 6)\n",
    "cyl_6 = len(df4[cond1])\n",
    "\n",
    "ratio_cyl = cyl_6/total_cyl\n",
    "\n",
    "print(round(ratio_cyl, 1))"
   ]
  },
  {
   "cell_type": "markdown",
   "metadata": {},
   "source": [
    "- 문제 6. 첫번째 행부터 순서대로 10개 뽑은 후 mpg 열의 평균값을 반올림하여 정수로 출력하시오."
   ]
  },
  {
   "cell_type": "code",
   "execution_count": 44,
   "metadata": {},
   "outputs": [
    {
     "name": "stdout",
     "output_type": "stream",
     "text": [
      "20\n"
     ]
    }
   ],
   "source": [
    "# 내 풀이\n",
    "df5 = df.head(10)\n",
    "print(round(df5['mpg'].mean()))"
   ]
  },
  {
   "cell_type": "code",
   "execution_count": 45,
   "metadata": {},
   "outputs": [
    {
     "name": "stdout",
     "output_type": "stream",
     "text": [
      "20\n"
     ]
    }
   ],
   "source": [
    "# 답\n",
    "avg_df5 = df5['mpg'][:10].mean()\n",
    "\n",
    "print(round(avg_df5))"
   ]
  },
  {
   "cell_type": "markdown",
   "metadata": {},
   "source": [
    "- 문제 7. 첫번째 행부터 순서대로 50%까지 데이터를 뽑아 wt 변수의 중앙값을 구하시오."
   ]
  },
  {
   "cell_type": "code",
   "execution_count": 49,
   "metadata": {},
   "outputs": [
    {
     "name": "stdout",
     "output_type": "stream",
     "text": [
      "3.44\n"
     ]
    }
   ],
   "source": [
    "# 내 풀이 \n",
    "df_6 = df.copy()\n",
    "df_half = df_6.head(int((len(df_6))/2))\n",
    "wt_median = df_half['wt'].median()\n",
    "print(wt_median)"
   ]
  },
  {
   "cell_type": "code",
   "execution_count": 50,
   "metadata": {},
   "outputs": [
    {
     "name": "stdout",
     "output_type": "stream",
     "text": [
      "3.44\n"
     ]
    }
   ],
   "source": [
    "df_6 = df.copy()\n",
    "df_50per = df_6[:int(len(df_6)/2)]\n",
    "wt_median = df_50per['wt'].median()\n",
    "print(wt_median)"
   ]
  },
  {
   "cell_type": "markdown",
   "metadata": {},
   "source": [
    "- ★ 문제 8. 결측값이 있는 데이터의 수를 출력하시오."
   ]
  },
  {
   "cell_type": "code",
   "execution_count": 57,
   "metadata": {},
   "outputs": [
    {
     "name": "stdout",
     "output_type": "stream",
     "text": [
      "날짜      1\n",
      "제품      2\n",
      "판매수     2\n",
      "개당수익    0\n",
      "dtype: int64\n"
     ]
    }
   ],
   "source": [
    "# 답 \n",
    "new_df = pd.DataFrame({\n",
    "  \"날짜\": ['20220103', '20220105', None, '20230127', '20220203', '20220205', '20230223', '20230325', '20230427', '20230526', '20230603', '20230723'],\n",
    "  '제품': ['A', 'B', None, 'B', 'A', None, 'A', 'B', 'A', 'B', 'A', 'A'],\n",
    "  '판매수': [3, None, 5, 10, 10, 10, 15, 15, 20, None, 30, 40],\n",
    "  '개당수익': [300, 400, 500, 600, 400, 500, 500, 600, 600, 700, 600, 600]\n",
    "})\n",
    "\n",
    "# print(sum(new_df.isnull().sum()))\n",
    "new_df.isnull().sum()\n"
   ]
  },
  {
   "cell_type": "markdown",
   "metadata": {},
   "source": [
    "- 문제 9. '판매수' 컬럼의 결측값을 판매수의 중앙값으로 대체하고 판매수의 평균값을 정수로 출력하시오"
   ]
  },
  {
   "cell_type": "code",
   "execution_count": 68,
   "metadata": {},
   "outputs": [
    {
     "name": "stdout",
     "output_type": "stream",
     "text": [
      "15\n"
     ]
    }
   ],
   "source": [
    "# 내 풀이 \n",
    "new_df_2 = new_df.copy()\n",
    "new_df_2['판매수'] = new_df_2['판매수'].fillna(new_df_2['판매수'].median())\n",
    "print(round(new_df_2['판매수'].mean()))"
   ]
  },
  {
   "cell_type": "code",
   "execution_count": 69,
   "metadata": {},
   "outputs": [
    {
     "name": "stdout",
     "output_type": "stream",
     "text": [
      "15\n"
     ]
    }
   ],
   "source": [
    "# 답 \n",
    "new_df_2 = new_df.copy()\n",
    "new_df_2_median = new_df_2['판매수'].median()\n",
    "new_df_2_Q2 = new_df_2['판매수'].quantile(0.5)\n",
    "new_df_2['판매수'] = new_df_2['판매수'].fillna(new_df_2_median)\n",
    "print(round(new_df_2['판매수'].mean()))"
   ]
  },
  {
   "cell_type": "markdown",
   "metadata": {},
   "source": [
    "- 문제 10.\n",
    "판매수 컬럼에 결측치가 있는 행을 제거하고,   \n",
    "첫번째 행부터 순서대로 50%까지 데이터를 추출하여   \n",
    "판매수 변수의 Q1(제1사분위수) 값을 정수로 출력하시오.   "
   ]
  },
  {
   "cell_type": "code",
   "execution_count": 70,
   "metadata": {},
   "outputs": [
    {
     "name": "stdout",
     "output_type": "stream",
     "text": [
      "5\n"
     ]
    }
   ],
   "source": [
    "new_df_3 = new_df.copy()\n",
    "sale_df = new_df_3['판매수'].dropna()\n",
    "sale_50_per = sale_df[: int(len(sale_df)/2)]\n",
    "Q1 = sale_50_per.quantile(0.25)\n",
    "print(round(Q1))"
   ]
  }
 ],
 "metadata": {
  "kernelspec": {
   "display_name": "base",
   "language": "python",
   "name": "python3"
  },
  "language_info": {
   "codemirror_mode": {
    "name": "ipython",
    "version": 3
   },
   "file_extension": ".py",
   "mimetype": "text/x-python",
   "name": "python",
   "nbconvert_exporter": "python",
   "pygments_lexer": "ipython3",
   "version": "3.9.12"
  }
 },
 "nbformat": 4,
 "nbformat_minor": 2
}
