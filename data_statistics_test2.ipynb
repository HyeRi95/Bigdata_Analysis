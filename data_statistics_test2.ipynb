{
 "cells": [
  {
   "cell_type": "markdown",
   "metadata": {},
   "source": [
    "#### 제 3유형 \n",
    "검정 방법    \n",
    "1. 분산분석(ANOVA) : A 집단 VS B 집단 VS C집단...    \n",
    "- (정규성O) ANOVA 분석\n",
    "- (정규성X) 크루스칼-왈리스 검정(kruskal)    \n",
    "\n",
    "가설검정 순서\n",
    "1. 가설검정\n",
    "2. 유의수준 확인\n",
    "3. 정규성 검정 (주의) 집단 모두 정규성을 따라야 한다\n",
    "4. 등분산 검정\n",
    "5. 검정 실시(통계량, p-value확인)(주의) 등분산 여부 확인 (f_oneway 는 등분산을 가정하고 적용)\n",
    "6. 귀무가설 기각여부 결정(채택/기각)    \n",
    "    \n",
    "        \n",
    "예제문제    \n",
    "문제1-1 다음은 A,B,C 그룹 인원 성적 데이터이다.\n",
    "세 그룹의 성적 평균이 같다고 할 수 있는지 ANOVA 분석을 실시하시오.    \n",
    "유의수준 5%    \n",
    "- A,B,C : 각 그룹 인원의 성적\n",
    "- 귀무가설(H0) : 세그룹의 성적 평균이 같다\n",
    "- 대립가설(H1) : 세 그룹의 성적 평균이 같지 않다 "
   ]
  },
  {
   "cell_type": "code",
   "execution_count": 2,
   "metadata": {},
   "outputs": [],
   "source": [
    "import pandas as pd \n",
    "import numpy as numpy \n",
    "from sklearn.preprocessing import MinMaxScaler, StandardScaler\n",
    "from sklearn.model_selection import train_test_split\n",
    "from sklearn.ensemble import RandomForestRegressor, RandomForestClassifier\n",
    "from sklearn.linear_model import LogisticRegression,LinearRegression\n",
    "from sklearn.metrics import r2_score, mean_squared_error\n",
    "from scipy.stats import ttest_ind, ttest_rel, ttest_1samp,shapiro,levene,bartlett,f_oneway,chisquare, chi2_contingency,kruskal"
   ]
  },
  {
   "cell_type": "code",
   "execution_count": 3,
   "metadata": {},
   "outputs": [
    {
     "data": {
      "text/html": [
       "<div>\n",
       "<style scoped>\n",
       "    .dataframe tbody tr th:only-of-type {\n",
       "        vertical-align: middle;\n",
       "    }\n",
       "\n",
       "    .dataframe tbody tr th {\n",
       "        vertical-align: top;\n",
       "    }\n",
       "\n",
       "    .dataframe thead th {\n",
       "        text-align: right;\n",
       "    }\n",
       "</style>\n",
       "<table border=\"1\" class=\"dataframe\">\n",
       "  <thead>\n",
       "    <tr style=\"text-align: right;\">\n",
       "      <th></th>\n",
       "      <th>A</th>\n",
       "      <th>B</th>\n",
       "      <th>C</th>\n",
       "    </tr>\n",
       "  </thead>\n",
       "  <tbody>\n",
       "    <tr>\n",
       "      <th>0</th>\n",
       "      <td>120</td>\n",
       "      <td>110</td>\n",
       "      <td>130</td>\n",
       "    </tr>\n",
       "    <tr>\n",
       "      <th>1</th>\n",
       "      <td>135</td>\n",
       "      <td>132</td>\n",
       "      <td>120</td>\n",
       "    </tr>\n",
       "    <tr>\n",
       "      <th>2</th>\n",
       "      <td>122</td>\n",
       "      <td>123</td>\n",
       "      <td>115</td>\n",
       "    </tr>\n",
       "    <tr>\n",
       "      <th>3</th>\n",
       "      <td>124</td>\n",
       "      <td>119</td>\n",
       "      <td>122</td>\n",
       "    </tr>\n",
       "    <tr>\n",
       "      <th>4</th>\n",
       "      <td>135</td>\n",
       "      <td>123</td>\n",
       "      <td>133</td>\n",
       "    </tr>\n",
       "  </tbody>\n",
       "</table>\n",
       "</div>"
      ],
      "text/plain": [
       "     A    B    C\n",
       "0  120  110  130\n",
       "1  135  132  120\n",
       "2  122  123  115\n",
       "3  124  119  122\n",
       "4  135  123  133"
      ]
     },
     "execution_count": 3,
     "metadata": {},
     "output_type": "execute_result"
    }
   ],
   "source": [
    "# 데이터 만들기\n",
    "df = pd.DataFrame( {\n",
    "    'A': [120, 135, 122, 124, 135, 122, 145, 160, 155, 142, 144, 135, 167],\n",
    "    'B' : [110, 132, 123, 119, 123, 115, 140, 162, 142, 138, 135, 142, 160],\n",
    "    'C' : [130, 120, 115, 122, 133, 144, 122, 120, 110, 134, 125, 122, 122]})\n",
    "\n",
    "df.head()"
   ]
  },
  {
   "cell_type": "code",
   "execution_count": 4,
   "metadata": {},
   "outputs": [
    {
     "name": "stdout",
     "output_type": "stream",
     "text": [
      "0.35584837198257446 0.5955665707588196 0.452654629945755\n",
      "A,B,C 모두 정규성을 만족한다\n"
     ]
    }
   ],
   "source": [
    "# 각각 정규성 확인\n",
    "a_statistics, a_pvalue = shapiro(df['A'])\n",
    "b_statistics, b_pvalue = shapiro(df['B'])\n",
    "c_statistics, c_pvalue = shapiro(df['C'])\n",
    "print(a_pvalue,b_pvalue,c_pvalue)\n",
    "\n",
    "if a_pvalue >0.05 and b_pvalue >0.05 and c_pvalue>0.05 : \n",
    "    print('A,B,C 모두 정규성을 만족한다')\n",
    "else : \n",
    "    print('A,B,C 중 1개 이상 정규성을 만족하지 않는다')\n"
   ]
  },
  {
   "cell_type": "code",
   "execution_count": null,
   "metadata": {},
   "outputs": [],
   "source": [
    "# 등분산성 확인 \n",
    "eq_statistic, eq_pvalue = bartlett(df['A'],df['B'],df['C'])"
   ]
  },
  {
   "cell_type": "code",
   "execution_count": null,
   "metadata": {},
   "outputs": [],
   "source": []
  },
  {
   "cell_type": "code",
   "execution_count": null,
   "metadata": {},
   "outputs": [],
   "source": []
  },
  {
   "cell_type": "code",
   "execution_count": null,
   "metadata": {},
   "outputs": [],
   "source": []
  },
  {
   "cell_type": "code",
   "execution_count": null,
   "metadata": {},
   "outputs": [],
   "source": []
  },
  {
   "cell_type": "code",
   "execution_count": null,
   "metadata": {},
   "outputs": [],
   "source": []
  },
  {
   "cell_type": "code",
   "execution_count": null,
   "metadata": {},
   "outputs": [],
   "source": []
  },
  {
   "cell_type": "code",
   "execution_count": null,
   "metadata": {},
   "outputs": [],
   "source": []
  },
  {
   "cell_type": "code",
   "execution_count": null,
   "metadata": {},
   "outputs": [],
   "source": []
  },
  {
   "cell_type": "code",
   "execution_count": null,
   "metadata": {},
   "outputs": [],
   "source": []
  },
  {
   "cell_type": "code",
   "execution_count": null,
   "metadata": {},
   "outputs": [],
   "source": []
  },
  {
   "cell_type": "code",
   "execution_count": null,
   "metadata": {},
   "outputs": [],
   "source": []
  },
  {
   "cell_type": "code",
   "execution_count": null,
   "metadata": {},
   "outputs": [],
   "source": []
  },
  {
   "cell_type": "code",
   "execution_count": null,
   "metadata": {},
   "outputs": [],
   "source": []
  },
  {
   "cell_type": "code",
   "execution_count": null,
   "metadata": {},
   "outputs": [],
   "source": []
  }
 ],
 "metadata": {
  "kernelspec": {
   "display_name": "base",
   "language": "python",
   "name": "python3"
  },
  "language_info": {
   "codemirror_mode": {
    "name": "ipython",
    "version": 3
   },
   "file_extension": ".py",
   "mimetype": "text/x-python",
   "name": "python",
   "nbconvert_exporter": "python",
   "pygments_lexer": "ipython3",
   "version": "3.9.12"
  }
 },
 "nbformat": 4,
 "nbformat_minor": 2
}
