{
 "cells": [
  {
   "cell_type": "markdown",
   "metadata": {
    "vscode": {
     "languageId": "plaintext"
    }
   },
   "source": [
    "### 제 2유형 연습하기. 당뇨 진척 정도 (회귀)"
   ]
  },
  {
   "cell_type": "code",
   "execution_count": 280,
   "metadata": {},
   "outputs": [],
   "source": [
    "import pandas as pd \n",
    "import numpy as np \n",
    "\n",
    "#표준화, 정규화\n",
    "from sklearn.preprocessing import MinMaxScaler, StandardScaler\n",
    "\n",
    "# 데이터 분리 \n",
    "from sklearn.model_selection import train_test_split\n",
    "\n",
    "# 모델 선정 \n",
    "from sklearn.ensemble import RandomForestRegressor\n",
    "\n",
    "# 모델 성능평가 관련 \n",
    "from sklearn.metrics import accuracy_score, f1_score, precision_score, recall_score, roc_auc_score, mean_squared_error, r2_score\n",
    "\n",
    "from sklearn.datasets import load_diabetes\n",
    "\n",
    "# diabetes 데이터셋 로드\n",
    "diabets = load_diabetes()\n",
    "\n",
    "x=pd.DataFrame(diabets.data, columns=diabets.feature_names)\n",
    "y = pd.DataFrame(diabets.target)\n",
    "\n",
    "# 실기시험 데이터 셋팅\n",
    "x_train, x_test, y_train, y_test = train_test_split(x,y,test_size=0.2)\n",
    "\n",
    "# y_test는 실제로 주어지는 값 아니므로 무시\n",
    "\n",
    "x_train = pd.DataFrame(x_train.reset_index())\n",
    "x_test = pd.DataFrame(x_test.reset_index())\n",
    "y_train = pd.DataFrame(y_train.reset_index())\n",
    "\n",
    "x_train.rename(columns={'index':'cust_id'},inplace=True)\n",
    "x_test.rename(columns={'index' : 'cust_id'},inplace=True)\n",
    "y_train.columns = ({'cust_id', 'target'})"
   ]
  },
  {
   "cell_type": "code",
   "execution_count": 281,
   "metadata": {},
   "outputs": [
    {
     "name": "stdout",
     "output_type": "stream",
     "text": [
      ".. _diabetes_dataset:\n",
      "\n",
      "Diabetes dataset\n",
      "----------------\n",
      "\n",
      "Ten baseline variables, age, sex, body mass index, average blood\n",
      "pressure, and six blood serum measurements were obtained for each of n =\n",
      "442 diabetes patients, as well as the response of interest, a\n",
      "quantitative measure of disease progression one year after baseline.\n",
      "\n",
      "**Data Set Characteristics:**\n",
      "\n",
      "  :Number of Instances: 442\n",
      "\n",
      "  :Number of Attributes: First 10 columns are numeric predictive values\n",
      "\n",
      "  :Target: Column 11 is a quantitative measure of disease progression one year after baseline\n",
      "\n",
      "  :Attribute Information:\n",
      "      - age     age in years\n",
      "      - sex\n",
      "      - bmi     body mass index\n",
      "      - bp      average blood pressure\n",
      "      - s1      tc, total serum cholesterol\n",
      "      - s2      ldl, low-density lipoproteins\n",
      "      - s3      hdl, high-density lipoproteins\n",
      "      - s4      tch, total cholesterol / HDL\n",
      "      - s5      ltg, possibly log of serum triglycerides level\n",
      "      - s6      glu, blood sugar level\n",
      "\n",
      "Note: Each of these 10 feature variables have been mean centered and scaled by the standard deviation times `n_samples` (i.e. the sum of squares of each column totals 1).\n",
      "\n",
      "Source URL:\n",
      "https://www4.stat.ncsu.edu/~boos/var.select/diabetes.html\n",
      "\n",
      "For more information see:\n",
      "Bradley Efron, Trevor Hastie, Iain Johnstone and Robert Tibshirani (2004) \"Least Angle Regression,\" Annals of Statistics (with discussion), 407-499.\n",
      "(https://web.stanford.edu/~hastie/Papers/LARS/LeastAngle_2002.pdf)\n"
     ]
    }
   ],
   "source": [
    "print(diabets.DESCR)"
   ]
  },
  {
   "cell_type": "markdown",
   "metadata": {},
   "source": [
    "#### 01. 데이터 탐색 (EDA)"
   ]
  },
  {
   "cell_type": "code",
   "execution_count": 282,
   "metadata": {},
   "outputs": [
    {
     "name": "stdout",
     "output_type": "stream",
     "text": [
      "         count        mean         std       min         25%         50%  \\\n",
      "cust_id  353.0  225.745042  124.277972  1.000000  120.000000  231.000000   \n",
      "age      353.0    0.001092    0.047456 -0.107226   -0.034575    0.005383   \n",
      "sex      353.0   -0.001166    0.047544 -0.044642   -0.044642   -0.044642   \n",
      "bmi      353.0    0.000227    0.048342 -0.090275   -0.035307   -0.007284   \n",
      "bp       353.0    0.001111    0.047510 -0.112400   -0.033214   -0.005671   \n",
      "s1       353.0   -0.000216    0.045262 -0.108893   -0.033216   -0.002945   \n",
      "s2       353.0   -0.001689    0.044502 -0.115613   -0.030437   -0.003819   \n",
      "s3       353.0    0.002213    0.048880 -0.102307   -0.032356   -0.006584   \n",
      "s4       353.0   -0.001623    0.046891 -0.076395   -0.039493   -0.002592   \n",
      "s5       353.0    0.000830    0.047997 -0.126097   -0.033249   -0.001499   \n",
      "s6       353.0   -0.000198    0.047824 -0.129483   -0.034215   -0.001078   \n",
      "\n",
      "                75%         max  \n",
      "cust_id  330.000000  441.000000  \n",
      "age        0.038076    0.110727  \n",
      "sex        0.050680    0.050680  \n",
      "bmi        0.033673    0.170555  \n",
      "bp         0.035644    0.132044  \n",
      "s1         0.027326    0.153914  \n",
      "s2         0.026243    0.155887  \n",
      "s3         0.030232    0.181179  \n",
      "s4         0.034309    0.155345  \n",
      "s5         0.031193    0.133599  \n",
      "s6         0.027917    0.135612  \n",
      "--------------------------------------\n",
      "         count        mean         std       min        25%         50%  \\\n",
      "cust_id   89.0  199.696629  139.438680  0.000000  77.000000  171.000000   \n",
      "age       89.0   -0.004331    0.048287 -0.107226  -0.041840   -0.001882   \n",
      "sex       89.0    0.004626    0.047904 -0.044642  -0.044642    0.050680   \n",
      "bmi       89.0   -0.000902    0.044886 -0.083808  -0.033151   -0.007284   \n",
      "bp        89.0   -0.004407    0.048064 -0.102071  -0.040099   -0.012556   \n",
      "s1        89.0    0.000858    0.056285 -0.126781  -0.037344   -0.007073   \n",
      "s2        89.0    0.006698    0.058180 -0.106845  -0.029497   -0.004759   \n",
      "s3        89.0   -0.008777    0.041340 -0.076536  -0.039719   -0.013948   \n",
      "s4        89.0    0.006438    0.050161 -0.076395  -0.039493   -0.002592   \n",
      "s5        89.0   -0.003291    0.046207 -0.096433  -0.033249   -0.007979   \n",
      "s6        89.0    0.000784    0.047058 -0.137767  -0.030072    0.003064   \n",
      "\n",
      "                75%         max  \n",
      "cust_id  333.000000  439.000000  \n",
      "age        0.038076    0.081666  \n",
      "sex        0.050680    0.050680  \n",
      "bmi        0.025051    0.123131  \n",
      "bp         0.032201    0.107944  \n",
      "s1         0.031454    0.152538  \n",
      "s2         0.044719    0.198788  \n",
      "s3         0.019187    0.078093  \n",
      "s4         0.034309    0.185234  \n",
      "s5         0.033047    0.089899  \n",
      "s6         0.032059    0.098333  \n",
      "--------------------------------------\n",
      "         count        mean         std   min    25%    50%    75%    max\n",
      "cust_id  353.0  225.745042  124.277972   1.0  120.0  231.0  330.0  441.0\n",
      "target   353.0  153.473088   77.857205  25.0   88.0  141.0  214.0  346.0\n"
     ]
    }
   ],
   "source": [
    "# 1. describe로 데이터 확인 \n",
    "print(x_train.describe().T)\n",
    "print('--------------------------------------')\n",
    "print(x_test.describe().T)\n",
    "print('--------------------------------------')\n",
    "print(y_train.describe().T)"
   ]
  },
  {
   "cell_type": "markdown",
   "metadata": {},
   "source": [
    "#### 02. 데이터 전처리  "
   ]
  },
  {
   "cell_type": "code",
   "execution_count": 283,
   "metadata": {},
   "outputs": [
    {
     "name": "stdout",
     "output_type": "stream",
     "text": [
      "cust_id    0\n",
      "age        0\n",
      "sex        0\n",
      "bmi        0\n",
      "bp         0\n",
      "s1         0\n",
      "s2         0\n",
      "s3         0\n",
      "s4         0\n",
      "s5         0\n",
      "s6         0\n",
      "dtype: int64\n",
      "-------\n",
      "cust_id    0\n",
      "age        0\n",
      "sex        0\n",
      "bmi        0\n",
      "bp         0\n",
      "s1         0\n",
      "s2         0\n",
      "s3         0\n",
      "s4         0\n",
      "s5         0\n",
      "s6         0\n",
      "dtype: int64\n",
      "-------\n",
      "cust_id    0\n",
      "target     0\n",
      "dtype: int64\n"
     ]
    }
   ],
   "source": [
    "# 결측치 확인 \n",
    "print(x_train.isnull().sum())\n",
    "print('-------')\n",
    "print(x_test.isnull().sum())\n",
    "print('-------')\n",
    "print(y_train.isnull().sum())\n"
   ]
  },
  {
   "cell_type": "code",
   "execution_count": 284,
   "metadata": {},
   "outputs": [
    {
     "name": "stdout",
     "output_type": "stream",
     "text": [
      "<class 'pandas.core.frame.DataFrame'>\n",
      "RangeIndex: 353 entries, 0 to 352\n",
      "Data columns (total 11 columns):\n",
      " #   Column   Non-Null Count  Dtype  \n",
      "---  ------   --------------  -----  \n",
      " 0   cust_id  353 non-null    int64  \n",
      " 1   age      353 non-null    float64\n",
      " 2   sex      353 non-null    float64\n",
      " 3   bmi      353 non-null    float64\n",
      " 4   bp       353 non-null    float64\n",
      " 5   s1       353 non-null    float64\n",
      " 6   s2       353 non-null    float64\n",
      " 7   s3       353 non-null    float64\n",
      " 8   s4       353 non-null    float64\n",
      " 9   s5       353 non-null    float64\n",
      " 10  s6       353 non-null    float64\n",
      "dtypes: float64(10), int64(1)\n",
      "memory usage: 30.5 KB\n",
      "None\n",
      "<class 'pandas.core.frame.DataFrame'>\n",
      "RangeIndex: 89 entries, 0 to 88\n",
      "Data columns (total 11 columns):\n",
      " #   Column   Non-Null Count  Dtype  \n",
      "---  ------   --------------  -----  \n",
      " 0   cust_id  89 non-null     int64  \n",
      " 1   age      89 non-null     float64\n",
      " 2   sex      89 non-null     float64\n",
      " 3   bmi      89 non-null     float64\n",
      " 4   bp       89 non-null     float64\n",
      " 5   s1       89 non-null     float64\n",
      " 6   s2       89 non-null     float64\n",
      " 7   s3       89 non-null     float64\n",
      " 8   s4       89 non-null     float64\n",
      " 9   s5       89 non-null     float64\n",
      " 10  s6       89 non-null     float64\n",
      "dtypes: float64(10), int64(1)\n",
      "memory usage: 7.8 KB\n",
      "None\n",
      "<class 'pandas.core.frame.DataFrame'>\n",
      "RangeIndex: 353 entries, 0 to 352\n",
      "Data columns (total 2 columns):\n",
      " #   Column   Non-Null Count  Dtype  \n",
      "---  ------   --------------  -----  \n",
      " 0   cust_id  353 non-null    int64  \n",
      " 1   target   353 non-null    float64\n",
      "dtypes: float64(1), int64(1)\n",
      "memory usage: 5.6 KB\n",
      "None\n"
     ]
    }
   ],
   "source": [
    "# info로 데이터 확인하기\n",
    "print(x_train.info())\n",
    "print(x_test.info())\n",
    "print(y_train.info())"
   ]
  },
  {
   "cell_type": "markdown",
   "metadata": {},
   "source": [
    "#### 03. 데이터 분리 "
   ]
  },
  {
   "cell_type": "code",
   "execution_count": 285,
   "metadata": {},
   "outputs": [],
   "source": [
    "# 변수 처리 \n",
    "# cust_id는 모델에는 반영이 되면 안되는 데이터! \n",
    "# cust_id = x_test['cust_id'].copy() # cust_id 복사해두기\n",
    "x_train.drop(columns='cust_id',inplace=True)\n",
    "x_test.drop(columns='cust_id',inplace=True)\n"
   ]
  },
  {
   "cell_type": "code",
   "execution_count": 286,
   "metadata": {},
   "outputs": [
    {
     "name": "stdout",
     "output_type": "stream",
     "text": [
      "(282, 10)\n",
      "(71, 10)\n",
      "(282,)\n",
      "(71,)\n"
     ]
    }
   ],
   "source": [
    "# 데이터 훈련 세트와 검증용 세트로 분할 (80% 훈련, 20% 검증)\n",
    "#  stratify=y_train['target'] 는 분류모델일때 \n",
    "x_train, x_val, y_train, y_val = train_test_split(x_train,y_train['target'],test_size=0.2)\n",
    "print(x_train.shape)\n",
    "print(x_val.shape)\n",
    "print(y_train.shape)\n",
    "print(y_val.shape)"
   ]
  },
  {
   "cell_type": "markdown",
   "metadata": {},
   "source": [
    "#### 04. 모델링 및 성능평가"
   ]
  },
  {
   "cell_type": "markdown",
   "metadata": {},
   "source": [
    "##### 당뇨병 환자의 질병 진행 정도 예측\n",
    "- 데이터의 결측치, 이상치, 변수들에 대해 전처리\n",
    "- 회귀모델을 사용하여 Rsq, MSE 값 산출\n",
    "- 제출은 cust_id, target 변수를 가진 DataFrame 형태로 제출  "
   ]
  },
  {
   "cell_type": "code",
   "execution_count": 287,
   "metadata": {},
   "outputs": [
    {
     "data": {
      "text/plain": [
       "RandomForestRegressor()"
      ]
     },
     "execution_count": 287,
     "metadata": {},
     "output_type": "execute_result"
    }
   ],
   "source": [
    "# 모델 적용\n",
    "model = RandomForestRegressor()\n",
    "model.fit(x_train,y_train)"
   ]
  },
  {
   "cell_type": "code",
   "execution_count": 288,
   "metadata": {},
   "outputs": [],
   "source": [
    "# 모델을 이용한 검증용 데이터 예측 \n",
    "y_pred=model.predict(x_val)\n"
   ]
  },
  {
   "cell_type": "code",
   "execution_count": 289,
   "metadata": {},
   "outputs": [
    {
     "name": "stdout",
     "output_type": "stream",
     "text": [
      "MSE :  3788.393912676057\n",
      "r2 :  0.38753655533689035\n"
     ]
    }
   ],
   "source": [
    "mse = mean_squared_error(y_val,y_pred)\n",
    "r2 = r2_score(y_val,y_pred)\n",
    "print('MSE : ',mse )\n",
    "print('r2 : ', r2)"
   ]
  },
  {
   "cell_type": "code",
   "execution_count": 290,
   "metadata": {},
   "outputs": [
    {
     "name": "stdout",
     "output_type": "stream",
     "text": [
      "MSE :  3980.993661971831\n",
      "r2 :  0.35639926903193586\n"
     ]
    }
   ],
   "source": [
    "model = RandomForestRegressor()\n",
    "model.fit(x_train,y_train)\n",
    "y_pred=model.predict(x_val)\n",
    "mse = mean_squared_error(y_val,y_pred)\n",
    "r2 = r2_score(y_val,y_pred)\n",
    "print('MSE : ',mse )\n",
    "print('r2 : ', r2)"
   ]
  }
 ],
 "metadata": {
  "kernelspec": {
   "display_name": "base",
   "language": "python",
   "name": "python3"
  },
  "language_info": {
   "codemirror_mode": {
    "name": "ipython",
    "version": 3
   },
   "file_extension": ".py",
   "mimetype": "text/x-python",
   "name": "python",
   "nbconvert_exporter": "python",
   "pygments_lexer": "ipython3",
   "version": "3.9.12"
  }
 },
 "nbformat": 4,
 "nbformat_minor": 2
}
