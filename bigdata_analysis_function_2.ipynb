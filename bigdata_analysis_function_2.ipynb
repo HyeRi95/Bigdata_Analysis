{
 "cells": [
  {
   "cell_type": "markdown",
   "metadata": {},
   "source": [
    "## 시험설명 \n",
    "- 시험시간 : 3시간 (180분)\n",
    "- 시험유형 : 총 6문제\n",
    "\n",
    "__제 2유형__\n",
    "- 1문제 (40점)\n",
    "- 주제 : 데이터 분석(분류/회귀/비지도학습)    \n",
    "\n",
    "    \n",
    "\n",
    "__데이터 분석 순서__\n",
    "1. 라이브러리 및 데이터확인\n",
    "2. 데이터탐색(EDA)\n",
    "3. 데이터 전처리 및 분리\n",
    "4. 모델링 및 성능평가\n",
    "5. 예측값 제출 "
   ]
  },
  {
   "cell_type": "markdown",
   "metadata": {},
   "source": [
    "#### 1. 암기할 클래스  및 라이브러리 모음"
   ]
  },
  {
   "cell_type": "markdown",
   "metadata": {},
   "source": [
    "##### 표준화 정규화"
   ]
  },
  {
   "cell_type": "code",
   "execution_count": null,
   "metadata": {},
   "outputs": [],
   "source": [
    "from sklearn.preprocessing import MinMaxScaler, StandardScaler"
   ]
  },
  {
   "cell_type": "markdown",
   "metadata": {},
   "source": [
    "##### 데이터 분리"
   ]
  },
  {
   "cell_type": "code",
   "execution_count": null,
   "metadata": {},
   "outputs": [],
   "source": [
    "from sklearn.model_selection import train_test_split "
   ]
  },
  {
   "cell_type": "markdown",
   "metadata": {},
   "source": [
    "##### 모델 선정"
   ]
  },
  {
   "cell_type": "code",
   "execution_count": null,
   "metadata": {},
   "outputs": [],
   "source": [
    "from sklearn.ensemble import RandomForestRegressor, RandomForestClassifier"
   ]
  },
  {
   "cell_type": "markdown",
   "metadata": {},
   "source": [
    "##### 모델 성능 평가관련 \n",
    "- 분류 모델 성능평가 : 정확도, 정밀도, 재현율, f1_score \n",
    "- roc_auc_score : 이진분류일때만 사용가능! "
   ]
  },
  {
   "cell_type": "code",
   "execution_count": null,
   "metadata": {},
   "outputs": [],
   "source": [
    "from sklearn.metrics import accuracy_score, f1_score, recall_score,precision_score, roc_auc_score"
   ]
  },
  {
   "cell_type": "markdown",
   "metadata": {},
   "source": [
    "- 회귀 모델 성능평가 : MSE, RMSE, MAE, MAPE, r2_score\n",
    "- MSE(평균 제곱 오차 )\n",
    "- RMSE(평균 제곱근 오차) : MSE에 루트 씌운 값 \n",
    "- MAE(평균 절대 오차): (실제값 - 예측값)의 절댓값의 평균\n",
    "- MAPE(평균 절대비율 오차) : MSE, RMSE 단점 보완 \n",
    "- r2_score(결정계수)"
   ]
  },
  {
   "cell_type": "code",
   "execution_count": null,
   "metadata": {},
   "outputs": [],
   "source": [
    "from sklearn.metrics import mean_squared_error, r2_score"
   ]
  },
  {
   "cell_type": "markdown",
   "metadata": {},
   "source": [
    "##### 01. 데이터 탐색 (EDA)"
   ]
  },
  {
   "cell_type": "code",
   "execution_count": null,
   "metadata": {},
   "outputs": [],
   "source": [
    "# 데이터 행렬 확인\n",
    "df.shape()\n",
    "\n",
    "# 초기 데이터 확인 \n",
    "df.head()\n",
    "\n",
    "# 변수명과 데이터 타입이 매칭되는지, 결측치 있는지 확인\n",
    "df.info()\n",
    "\n",
    "# 결측치 확인 \n",
    "df.isnull().sum()\n",
    "\n",
    "# 데이터 형태 확인 \n",
    "df.dtypes\n",
    "\n",
    "# 각 카테고리별 종류 확인 \n",
    "df['컬럼1'].value_counts()\n",
    "\n",
    "# 연속값 - 이상치 확인\n",
    "df.describe().T\n",
    "\n",
    "# 범주형 데이터 - include='category' | 'object'\n",
    "df.describe(include='category').T\n",
    "\n",
    "# cust_id 추가 하기\n",
    "x_train.rename(columns={'index':'cust_id'},inplace=True)\n",
    "x_test.rename(columns={'index':'cust_id'},inplace=True)\n",
    "\n",
    "# 아래두개 같은 코드 \n",
    "y_train.columns = ({'cust_id','target'})\n",
    "y_train.columns = ['cust_id','target']"
   ]
  },
  {
   "cell_type": "markdown",
   "metadata": {},
   "source": [
    "##### 02. 데이터 전처리 및 분리 \n",
    "- 결측치 처리\n",
    "    - 결측치 제거\n",
    "    - 결측치 대체\n",
    "- 이상치\n",
    "    - 이상치 제거\n",
    "    - 이상치 대체\n",
    "- 변수처리 \n",
    "    - 불필요한 변수 제거\n",
    "    - 필요시 변수 추가 (파생변수 생성)\n",
    "    - 원핫 인코딩(범주형 데이터)"
   ]
  },
  {
   "cell_type": "markdown",
   "metadata": {},
   "source": [
    "결측치 처리 "
   ]
  },
  {
   "cell_type": "code",
   "execution_count": null,
   "metadata": {},
   "outputs": [],
   "source": [
    "# 결측치 제거 \n",
    "#   - 행을 기준으로 결측치가 있는 행을 삭제 한다 \n",
    "df = df.dropna()\n",
    "\n",
    "# 결측치 대체 (평균값, 중앙값, 최빈값)\n",
    "#   - 연속형의 경우 이상값에 영향이 가장 적은 중앙값 활용\n",
    "#   - 범주형의 경우 최빈값  활용 \n",
    "\n",
    "# 연속형 \n",
    "col1_median = df['col1'].median()\n",
    "df['컬럼1'].fillna(col1_median)\n",
    "\n",
    "# 범주형\n",
    "col1_mode = df['col1'].mode()\n",
    "df['컬럼1'].fillna(col1_mode)"
   ]
  },
  {
   "cell_type": "markdown",
   "metadata": {},
   "source": [
    "이상치 처리 "
   ]
  },
  {
   "cell_type": "code",
   "execution_count": null,
   "metadata": {},
   "outputs": [],
   "source": [
    "# 이상치 제거 \n",
    "# - 이상치 확인 (IQR로 확인)\n",
    "Q1 = df['col1'].quantile(0.25)\n",
    "Q3 = df['col1'].quantile(0.75)\n",
    "IQR = abs(Q1-Q3)\n",
    "\n",
    "upper = Q3 + 1.5*IQR\n",
    "lower = Q1 - 1.5*IQR\n",
    "\n",
    "cond1 = df['col1'] <= upper \n",
    "cond2 = df['col1'] >= lower\n",
    "\n",
    "df = df[cond1 & cond2] \n"
   ]
  },
  {
   "cell_type": "code",
   "execution_count": null,
   "metadata": {},
   "outputs": [],
   "source": [
    "# 이상치 대체 (최대값 or 최솟값으로 대체)\n",
    "\n",
    "# 예시 - 최대값 대체 \n",
    "cond1 = (df['col1']<=10)\n",
    "col1_max = df[cond1]['col'].max()\n",
    "\n",
    "# df 데이터 프레임의 col1 컬럼 값이 10보다 크면 col1_max 값으로, 그렇지 않으면 col1 값 그대로 유지 \n",
    "df['col1'] = np.where(df['col1']>=10, col1_max,df['col1'])\n"
   ]
  },
  {
   "cell_type": "markdown",
   "metadata": {},
   "source": [
    "변수 처리 \n"
   ]
  },
  {
   "cell_type": "code",
   "execution_count": null,
   "metadata": {},
   "outputs": [],
   "source": [
    "# 불필요한 변수 제거\n",
    "방법 1. df = df.drop(columns = ['변수1','변수2'])\n",
    "방법 2. df = df.drop(['변수1','변수2'],axis=1)\n",
    "\n",
    "# 필요시 변수 추가 (파생변수 생성)\n",
    "df['파생변수'] = df['A']+df['B'] (파생변수 생성 형태)\n",
    "\n",
    "# 원핫인코딩 (가변수 처리) : 범주형 데이터 다룰때\n",
    "x_train = pd.get_dummies(x_train)\n",
    "x_test = pd.get_dummies(x_test)\n",
    "y_train = pd.get_dummies(y_train)\n",
    "\n",
    "# 원핫인코딩 후 feature 변수가 다른 경우\n",
    "# reindex 활용\n",
    "\n",
    "x_train = x_train.reindex(columns = x_test.columns, fill_value=0)"
   ]
  },
  {
   "cell_type": "markdown",
   "metadata": {},
   "source": [
    "##### 03. 데이터분리"
   ]
  },
  {
   "cell_type": "code",
   "execution_count": null,
   "metadata": {},
   "outputs": [],
   "source": [
    "# 회귀모델\n",
    "x_train, x_val, y_train, y_val = train_test_split(x_train,y_train['col1'],test_size=0.2, randomstate=2024)\n",
    "\n",
    "# 분류모델 : 계층적 데이터 추출옵션 사용 -> stratify=y_trian['col1']\n",
    "x_train, x_val, y_train, y_val = train_test_split(x_train, y_train['col1'],test_size=0.2,stratify=y_train['col1'],random_state=2024)"
   ]
  },
  {
   "cell_type": "markdown",
   "metadata": {},
   "source": [
    "##### 04. 모델링 및 성능평가"
   ]
  },
  {
   "cell_type": "code",
   "execution_count": null,
   "metadata": {},
   "outputs": [],
   "source": [
    "# cust_id 변수 처리 하기 \n",
    "# cust_id는 모델에 반영이 되면 안된다 \n",
    "cust_id = x_test['cust_id'].copy()\n",
    "x_train = x_train.drop(columns=['cust_id'],axis=1)\n",
    "x_test = x_test.drop(columns=['cust_id'], axis=1)\n"
   ]
  },
  {
   "cell_type": "markdown",
   "metadata": {},
   "source": [
    "회귀모델 - 생성 및 예측"
   ]
  },
  {
   "cell_type": "code",
   "execution_count": null,
   "metadata": {},
   "outputs": [],
   "source": [
    "model = RandomForestRegressor()\n",
    "model.fit(x_train,y_train)\n",
    "\n",
    "# 모델을 이용한 테스트 데이터 예측 \n",
    "y_pred = model.predict(x_val)"
   ]
  },
  {
   "cell_type": "markdown",
   "metadata": {},
   "source": [
    "분류모델 - 생성 및 예측"
   ]
  },
  {
   "cell_type": "code",
   "execution_count": null,
   "metadata": {},
   "outputs": [],
   "source": [
    "model = RandomForestClassifier()\n",
    "model.fit(x_train,y_train)\n",
    "\n",
    "# 모델을 이용한 테스트 데이터 예측 \n",
    "y_pred = model.predict(x_val)"
   ]
  },
  {
   "cell_type": "markdown",
   "metadata": {},
   "source": [
    "성능평가 - 회귀모델"
   ]
  },
  {
   "cell_type": "code",
   "execution_count": null,
   "metadata": {},
   "outputs": [],
   "source": [
    "mse = mean_squared_error(y_val,y_pred) # 순서 주의! 실제값, 예측값\n",
    "rsq = r2_score(y_val,y_pred) # 순서 주의! 실제값, 예측값 \n",
    "RSME = mse**2\n"
   ]
  },
  {
   "cell_type": "markdown",
   "metadata": {},
   "source": [
    "성능평가 - 분류모델"
   ]
  },
  {
   "cell_type": "code",
   "execution_count": null,
   "metadata": {},
   "outputs": [],
   "source": [
    "accuracy = accuracy_score(y_val, y_pred)\n",
    "f1_s = f1_score(y_val,y_pred)\n",
    "\n",
    "# roc_auc_score은 이진분류일때만 사용 가능 \n",
    "roc_auc = roc_auc_score(y_val,y_pred)"
   ]
  },
  {
   "cell_type": "markdown",
   "metadata": {},
   "source": [
    "##### 05. 예측값 제출"
   ]
  },
  {
   "cell_type": "code",
   "execution_count": null,
   "metadata": {},
   "outputs": [],
   "source": [
    "y_result = model.predict(x_test)\n",
    "\n",
    "# 미리 추출해둔 cust_id랑 합치기 \n",
    "result = pd.DataFrame({'cust_id' : cust_id , 'result' : y_result})\n",
    "\n",
    "# 저장 \n",
    "result.to_csv('test_result.csv', index=False)"
   ]
  },
  {
   "cell_type": "code",
   "execution_count": null,
   "metadata": {},
   "outputs": [],
   "source": []
  },
  {
   "cell_type": "code",
   "execution_count": null,
   "metadata": {},
   "outputs": [],
   "source": []
  },
  {
   "cell_type": "code",
   "execution_count": null,
   "metadata": {},
   "outputs": [],
   "source": []
  },
  {
   "cell_type": "code",
   "execution_count": null,
   "metadata": {},
   "outputs": [],
   "source": []
  }
 ],
 "metadata": {
  "kernelspec": {
   "display_name": "base",
   "language": "python",
   "name": "python3"
  },
  "language_info": {
   "codemirror_mode": {
    "name": "ipython",
    "version": 3
   },
   "file_extension": ".py",
   "mimetype": "text/x-python",
   "name": "python",
   "nbconvert_exporter": "python",
   "pygments_lexer": "ipython3",
   "version": "3.9.12"
  }
 },
 "nbformat": 4,
 "nbformat_minor": 2
}
