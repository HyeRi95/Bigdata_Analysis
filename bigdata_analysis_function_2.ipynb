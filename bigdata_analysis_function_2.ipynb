{
 "cells": [
  {
   "cell_type": "markdown",
   "metadata": {},
   "source": [
    "## 시험설명 \n",
    "- 시험시간 : 3시간 (180분)\n",
    "- 시험유형 : 총 6문제\n",
    "\n",
    "__제 2유형__\n",
    "- 1문제 (40점)\n",
    "- 주제 : 데이터 분석(분류/회귀/비지도학습)    \n",
    "\n",
    "    \n",
    "\n",
    "__데이터 분석 순서__\n",
    "1. 라이브러리 및 데이터확인\n",
    "2. 데이터탐색(EDA)\n",
    "3. 데이터 전처리 및 분리\n",
    "4. 모델링 및 성능평가\n",
    "5. 예측값 제출 "
   ]
  },
  {
   "cell_type": "markdown",
   "metadata": {},
   "source": [
    "#### 1. 암기할 클래스  및 라이브러리 모음"
   ]
  },
  {
   "cell_type": "markdown",
   "metadata": {},
   "source": [
    "##### 표준화 정규화"
   ]
  },
  {
   "cell_type": "code",
   "execution_count": null,
   "metadata": {},
   "outputs": [],
   "source": [
    "from sklearn.preprocessing import MinMaxScaler, StandardScaler"
   ]
  },
  {
   "cell_type": "markdown",
   "metadata": {},
   "source": [
    "##### 데이터 분리"
   ]
  },
  {
   "cell_type": "code",
   "execution_count": null,
   "metadata": {},
   "outputs": [],
   "source": [
    "from sklearn.model_selection import train_test_split "
   ]
  },
  {
   "cell_type": "markdown",
   "metadata": {},
   "source": [
    "##### 모델 선정"
   ]
  },
  {
   "cell_type": "code",
   "execution_count": null,
   "metadata": {},
   "outputs": [],
   "source": [
    "from sklearn.ensemble import RandomForestRegressor, RandomForestClassifier"
   ]
  },
  {
   "cell_type": "markdown",
   "metadata": {},
   "source": [
    "##### 모델 성능 평가관련 \n",
    "- 분류 모델 성능평가 : 정확도, 정밀도, 재현율, f1_score \n",
    "- roc_auc_score : 이진분류일때만 사용가능! "
   ]
  },
  {
   "cell_type": "code",
   "execution_count": null,
   "metadata": {},
   "outputs": [],
   "source": [
    "from sklearn.metrics import accuracy_score, f1_score, recall_score,precision_score, roc_auc_score"
   ]
  },
  {
   "cell_type": "markdown",
   "metadata": {},
   "source": [
    "- 회귀 모델 성능평가 : MSE, RMSE, MAE, MAPE, r2_score\n",
    "- MSE(평균 제곱 오차 )\n",
    "- RMSE(평균 제곱근 오차) : MSE에 루트 씌운 값 \n",
    "- MAE(평균 절대 오차): (실제값 - 예측값)의 절댓값의 평균\n",
    "- MAPE(평균 절대비율 오차) : MSE, RMSE 단점 보완 \n",
    "- r2_score(결정계수)"
   ]
  },
  {
   "cell_type": "code",
   "execution_count": null,
   "metadata": {},
   "outputs": [],
   "source": [
    "from sklearn.metrics import mean_squared_error, r2_score"
   ]
  },
  {
   "cell_type": "markdown",
   "metadata": {},
   "source": [
    "##### 01. 데이터 탐색 (EDA)"
   ]
  },
  {
   "cell_type": "code",
   "execution_count": null,
   "metadata": {},
   "outputs": [],
   "source": [
    "# 데이터 행렬 확인\n",
    "df.shape()\n",
    "\n",
    "# 초기 데이터 확인 \n",
    "df.head()\n",
    "\n",
    "# 변수명과 데이터 타입이 매칭되는지, 결측치 있는지 확인\n",
    "df.info()\n",
    "\n",
    "# 결측치 확인 \n",
    "df.isnull().sum()\n",
    "\n",
    "# 데이터 형태 확인 \n",
    "df.dtypes\n",
    "\n",
    "# 각 카테고리별 종류 확인 \n",
    "df['컬럼1'].value_counts()\n",
    "\n",
    "# 연속값 - 이상치 확인\n",
    "df.describe().T\n",
    "\n",
    "# 범주형 데이터 - include='category' | 'object'\n",
    "df.describe(include='category').T"
   ]
  },
  {
   "cell_type": "markdown",
   "metadata": {},
   "source": [
    "##### 02. 데이터 전처리 및 분리 \n",
    "- 결측치 처리\n",
    "    - 결측치 제거\n",
    "    - 결측치 대체\n",
    "- 이상치\n",
    "    - 이상치 제거\n",
    "    - 이상치 대체\n",
    "- 변수처리 \n",
    "    - 불필요한 변수 제거\n",
    "    - 필요시 변수 추가 (파생변수 생성)\n",
    "    - 원핫 인코등(범주형 데이터)"
   ]
  },
  {
   "cell_type": "code",
   "execution_count": null,
   "metadata": {},
   "outputs": [],
   "source": []
  },
  {
   "cell_type": "code",
   "execution_count": null,
   "metadata": {},
   "outputs": [],
   "source": [
    "03. 데이터분리"
   ]
  },
  {
   "cell_type": "code",
   "execution_count": null,
   "metadata": {},
   "outputs": [],
   "source": [
    "04. 모델링 및 성능평가"
   ]
  },
  {
   "cell_type": "code",
   "execution_count": null,
   "metadata": {},
   "outputs": [],
   "source": [
    "05. 예측값 제출"
   ]
  },
  {
   "cell_type": "code",
   "execution_count": null,
   "metadata": {},
   "outputs": [],
   "source": []
  },
  {
   "cell_type": "code",
   "execution_count": null,
   "metadata": {},
   "outputs": [],
   "source": []
  },
  {
   "cell_type": "code",
   "execution_count": null,
   "metadata": {},
   "outputs": [],
   "source": []
  },
  {
   "cell_type": "code",
   "execution_count": null,
   "metadata": {},
   "outputs": [],
   "source": []
  },
  {
   "cell_type": "code",
   "execution_count": null,
   "metadata": {},
   "outputs": [],
   "source": []
  }
 ],
 "metadata": {
  "kernelspec": {
   "display_name": "base",
   "language": "python",
   "name": "python3"
  },
  "language_info": {
   "codemirror_mode": {
    "name": "ipython",
    "version": 3
   },
   "file_extension": ".py",
   "mimetype": "text/x-python",
   "name": "python",
   "nbconvert_exporter": "python",
   "pygments_lexer": "ipython3",
   "version": "3.9.12"
  }
 },
 "nbformat": 4,
 "nbformat_minor": 2
}
