{
 "cells": [
  {
   "cell_type": "markdown",
   "metadata": {},
   "source": [
    "## 시험설명 \n",
    "- 시험시간 : 3시간 (180분)\n",
    "- 시험유형 : 총 6문제\n",
    "\n",
    "### 제 3유형\n",
    "- 2문제 (각 15점, 30점)\n",
    "- 주제 : 통계적 가설 검정 "
   ]
  },
  {
   "cell_type": "markdown",
   "metadata": {},
   "source": [
    "#### 라이브러리 임포트"
   ]
  },
  {
   "cell_type": "code",
   "execution_count": null,
   "metadata": {},
   "outputs": [],
   "source": [
    "from scipy.stats import ttest_1samp, ttest_ind, ttest_rel, shapiro, levene,bartlett, f_oneway, wilcoxon,kruskal,chi2_contingency,ranksums, mannwhitneyu\n",
    "from sklearn.linear_model import LinearRegression, LogisticRegression"
   ]
  },
  {
   "cell_type": "markdown",
   "metadata": {},
   "source": [
    "#### 1) 모집단 1개 (집단의 평균 vs 특정값)\n",
    "\n",
    "1. 정규성 O :단일표본 검정(ttest_1samp) (모수검정)    \n",
    "2. 정규성 X : 윌콕슨 부호순위 검정 (비모수 검정)    \n",
    "\n",
    "__가설검정 순서__    \n",
    "1. 가설 설정    \n",
    "2. 유의수준확인    \n",
    "3. 정규성 검정    \n",
    "4. 검정실시 (통계랑, p-value)    \n",
    "5. 귀무가설 기각 여부 결정    \n",
    "\n",
    "예시)    \n",
    "- df 데이터셋의 col1 열 데이터의 평균이 20과 같다고 할 수 있는지 검정하시오. (유의수준 5%)    \n",
    "    - 귀무가설(H0) : 모평균 = 20\n",
    "    - 대립가설(H1) : 모평균 <> 20    \n",
    "\n",
    "- df 데이터셋의 col2 열 데이터의 평균이 17보다 크다고 할 수 있는지 검정하시오 (유의수준 5%)\n",
    "    - 귀무가설 (H0) : 모평균 <= 17\n",
    "    - 대립가설 (H1) : 모평균 > 17"
   ]
  },
  {
   "cell_type": "code",
   "execution_count": null,
   "metadata": {},
   "outputs": [],
   "source": [
    "# 정규성 검정 shapiro\n",
    "# n_s : 검정 통계량\n",
    "# p_value : p_value값 \n",
    "n_s, n_pvalue =shapiro(df['col1'])"
   ]
  },
  {
   "cell_type": "markdown",
   "metadata": {},
   "source": [
    "- n_pvalue>0.05  정규성을 따른다 -> ttest_1samp"
   ]
  },
  {
   "cell_type": "code",
   "execution_count": null,
   "metadata": {},
   "outputs": [],
   "source": [
    "t,p_value = ttest_1samp(df['col'],popmean=20, alternative='two-sided')\n",
    "# p_value>0.05 : 귀무가설 채택\n",
    "# p_value<=0.05 : 대립가설 채택\n",
    "\n",
    "# popmean 옵션 \n",
    "# 모평균 값 (가정할 값)\n",
    "\n",
    "# alternative 옵션\n",
    "# alternative = 'two-sided' or 디폴트값 -> H1(대립가설) : 어떤 그룹의 평균(또는 중간값 등)이 특정한 값과 같지 않다. \n",
    "# alternative = 'greater'              -> H1(대립가설) : 어떤 그룹의 평균(또는 중간값 등)이 특정한 값보다 크다. \n",
    "# alternative = 'less'                 -> H1(대립가설) : 어떤 그룹의 평균(또는 중간값 등)이 특정한 값보다 작다.\n"
   ]
  },
  {
   "cell_type": "markdown",
   "metadata": {},
   "source": [
    "- n_pvalue<=0.05 정규성을 따르지 않는다 ->  wilcoxon"
   ]
  },
  {
   "cell_type": "code",
   "execution_count": null,
   "metadata": {},
   "outputs": [],
   "source": [
    "nx_statistic, nx_pvalue = wilcoxon(df['col1']-20,alternative='two-sided')\n",
    "\n",
    "# p_value>0.05 : 귀무가설 채택\n",
    "# p_value<=0.05 : 대립가설 채택"
   ]
  },
  {
   "cell_type": "markdown",
   "metadata": {},
   "source": [
    "#### 2) 모집단 2개 (대응표본-동일객체 전/후 , 독립표본 - A집단/B집단)\n",
    "  \n",
    "__1. 대응표본(쌍체) : 동일한 객체의 전 vs 후 평균 비교__ \n",
    "- 정규성 O : 대응표본 t-test(paired t-test) : ttest_rel 사용\n",
    "- 정규성 X : 윌콕슨 부호순위 검정 - wilcoxon\n",
    "\n",
    "> 대응표본(쌍체) t검정 (paired t-test)    \n",
    "\n",
    "__가설검정 순서__    \n",
    "1. 가설 설정    \n",
    "2. 유의수준 확인    \n",
    "3. 정규성 검정 (주의) 차이값에 대한 정규성!    \n",
    "4. 검정 실시(통계량, p-value)    \n",
    "5. 귀무가설 기각 여부 결정     \n",
    "\n",
    "\n",
    "__2. 독립표본 : A집단 평균 vs B 집단 평균__    \n",
    "- 정규성 O : 독립표본 t-test  : ttest_ind 사용\n",
    "- 정규성 X : 윌콕슨 순위합 검정 : ranksums 사용    \n",
    "\n",
    "> 독립표본 t검정 (2sample t-test)    \n",
    "\n",
    "__가설검정 순서__    \n",
    "1. 가설 설정    \n",
    "2. 유의수준 확인     \n",
    "3. 정규성 검정(주의) 두 집단 모두 정규성을 만족해야 모수 검정이 가능하다!    \n",
    "4. 등분산성 검정    \n",
    "5. 검정실시 (통계량, p-value) (주의) 등분산성 여부 확인 (equal_var)    \n",
    "6. 귀무가설 기각여부 결정    "
   ]
  },
  {
   "cell_type": "markdown",
   "metadata": {},
   "source": [
    "예시문제)    \n",
    "__대응표본(쌍체) t검정(paired t-test)__    \n",
    "- 혈압약을 먹기 전, 후의 차이가 있는지 쌍체 t 검정 실시 \n",
    "    - before : 혈압약을 먹기 전 혈압, after : 혈압약을 먹은 후의 혈압    \n",
    "    - 귀무가설(H0) : 먹기 전, 후가 같다 (after - before =0)    \n",
    "    - 대립가설(H1) : 먹기 전, 후가 다르다 (after-before <>0)    \n",
    "    \n",
    "__독립표본 t 검정(2sample t-test)__\n",
    "- A 그룹과 B 그룹의 혈압 평균이 다르다고 할 수 있는지 독립표본 t 검정을 실시\n",
    "    - A: A그룹 인원의 혈압, B: B그룹 인원의 혈압\n",
    "    - H0(귀무가설) : A=B\n",
    "    - H1(대립가설) : A<>B"
   ]
  },
  {
   "cell_type": "markdown",
   "metadata": {},
   "source": [
    "> 대응표본(쌍체) t 검정 (paired_t-test) : 차이값에 대한 정규성 "
   ]
  },
  {
   "cell_type": "code",
   "execution_count": null,
   "metadata": {},
   "outputs": [],
   "source": [
    "# 정규성 검정(차이값에 대한 정규성) - shapiro\n",
    "diff = df['after']-df['before']\n",
    "n_s, n_pvalue = shapiro(diff)\n",
    "\n",
    "# p_value>0.05 : 귀무가설 채택\n",
    "# p_value<=0.05 : 대립가설 채택"
   ]
  },
  {
   "cell_type": "markdown",
   "metadata": {},
   "source": [
    "- n_pvalue<=0.05 정규성을 따른다 -> ttest_rel"
   ]
  },
  {
   "cell_type": "code",
   "execution_count": null,
   "metadata": {},
   "outputs": [],
   "source": [
    "static, pvalue = ttest_rel(df['after'],df['before'],alternative='two-sided') # 순서는 after-before\n",
    "# p_value>0.05 : 귀무가설 채택\n",
    "# p_value<=0.05 : 대립가설 채택"
   ]
  },
  {
   "cell_type": "markdown",
   "metadata": {},
   "source": [
    "- n_pvalue<=0.05 정규성을 따르지 않는다 ->  wilcoxon"
   ]
  },
  {
   "cell_type": "code",
   "execution_count": null,
   "metadata": {},
   "outputs": [],
   "source": [
    "nx_statistic, nx_pvalue = wilcoxon(diff, alternative='two-sided')\n",
    "# p_value>0.05 : 귀무가설 채택\n",
    "# p_value<=0.05 : 대립가설 채택"
   ]
  },
  {
   "cell_type": "markdown",
   "metadata": {},
   "source": [
    "> 독립표본 t 검정 (2sample t-test) : A,B 각각 정규성 검정 \n",
    ">> 하나라도 만족하지 않을경우 wilcoxon"
   ]
  },
  {
   "cell_type": "code",
   "execution_count": null,
   "metadata": {},
   "outputs": [],
   "source": [
    "a_statistics, a_pvalue = shapiro(df['A'])\n",
    "b_statistics, b_pvalue = shapiro(df['B'])\n",
    "# a_pvalue >0.05 & b_pvalue>0.05 : 모두 정규성을 만족해야 ttest 가능\n",
    "# 하나라도 만족하지 않을 경우 wilcoxon"
   ]
  },
  {
   "cell_type": "markdown",
   "metadata": {},
   "source": [
    "독립표본 검정에서는 등분산성 고려하여야 한다     \n",
    "    정규성이 확실한 경우 : bartlett    \n",
    "    정규성이 확실하지 않은 경우 : levene"
   ]
  },
  {
   "cell_type": "code",
   "execution_count": null,
   "metadata": {},
   "outputs": [],
   "source": [
    "eq_statistic1, eq_pvalue1 = levene(df['A'], df['B'])\n",
    "eq_statistic2, eq_pvalue2 = bartlett(df['A'],df['B'])\n",
    "# eq_pvalue >0.05 :  등분산성을 가진다\n",
    "# eq_pvalue <=0.05 : 등분산성을 가지지않는다"
   ]
  },
  {
   "cell_type": "markdown",
   "metadata": {},
   "source": [
    "- 정규성과 등분산성을 모두 만족하는경우 t-test 진행 -> ttest_ind    \n",
    " (등분산을 하지않으면 equal_var을 False로 지정 )"
   ]
  },
  {
   "cell_type": "code",
   "execution_count": null,
   "metadata": {},
   "outputs": [],
   "source": [
    "statistic, pvale = ttest_ind(df['A'],df['B'], equal_var =True, alternative='two-sided')\n",
    "# p_value>0.05 : 귀무가설 채택\n",
    "# p_value<=0.05 : 대립가설 채택"
   ]
  },
  {
   "cell_type": "markdown",
   "metadata": {},
   "source": [
    "- 정규성을 만족하지 않는 경우 비모수 검정 (순위합 검정 실시) -> ranksums"
   ]
  },
  {
   "cell_type": "code",
   "execution_count": null,
   "metadata": {},
   "outputs": [],
   "source": [
    "statistic, pvalue = ranksums(df['A'],df['B'], alternative='two-sided')\n",
    "# p_value>0.05 : 귀무가설 채택\n",
    "# p_value<=0.05 : 대립가설 채택"
   ]
  },
  {
   "cell_type": "markdown",
   "metadata": {},
   "source": [
    "#### 3) 모집단 3개 이상 \n",
    "__분산분석(ANOVA) : A 집단 VS B 집단 VS C집단...__    \n",
    "- (정규성O) ANOVA 분석\n",
    "- (정규성X) 크루스칼-왈리스 검정(kruskal)    \n",
    "\n",
    "가설검정 순서\n",
    "1. 가설검정\n",
    "2. 유의수준 확인\n",
    "3. 정규성 검정 (주의) 집단 모두 정규성을 따라야 한다\n",
    "4. 등분산 검정\n",
    "5. 검정 실시(통계량, p-value확인)(주의) 등분산 여부 확인 (f_oneway 는 등분산을 가정하고 적용)\n",
    "6. 귀무가설 기각여부 결정(채택/기각)   "
   ]
  },
  {
   "cell_type": "markdown",
   "metadata": {},
   "source": [
    "#### 4) 카이제곱 검정\n",
    "__분석 Case__ \n",
    "- Case 1. 적합도 검정 - 각 범주에 속할 확률이 같은지?\n",
    "- Case 2. 독립성 검정 - 두 개의 범주형 변수가 서로 독립인지?    \n",
    "\n",
    "가설 검정 순서\n",
    "1. 가설 설정\n",
    "2. 유의수준 확인\n",
    "3. 검정 실시(통계량, p-value 확인) + 기대값 확인\n",
    "4. 귀무가설 기각여부 결정(채택/기각)    \n"
   ]
  },
  {
   "cell_type": "code",
   "execution_count": null,
   "metadata": {},
   "outputs": [],
   "source": []
  },
  {
   "cell_type": "code",
   "execution_count": null,
   "metadata": {},
   "outputs": [],
   "source": []
  },
  {
   "cell_type": "code",
   "execution_count": null,
   "metadata": {},
   "outputs": [],
   "source": []
  },
  {
   "cell_type": "code",
   "execution_count": null,
   "metadata": {},
   "outputs": [],
   "source": []
  },
  {
   "cell_type": "code",
   "execution_count": null,
   "metadata": {},
   "outputs": [],
   "source": []
  },
  {
   "cell_type": "code",
   "execution_count": null,
   "metadata": {},
   "outputs": [],
   "source": []
  },
  {
   "cell_type": "code",
   "execution_count": null,
   "metadata": {},
   "outputs": [],
   "source": []
  },
  {
   "cell_type": "code",
   "execution_count": null,
   "metadata": {},
   "outputs": [],
   "source": []
  },
  {
   "cell_type": "code",
   "execution_count": null,
   "metadata": {},
   "outputs": [],
   "source": []
  },
  {
   "cell_type": "code",
   "execution_count": null,
   "metadata": {},
   "outputs": [],
   "source": []
  },
  {
   "cell_type": "code",
   "execution_count": null,
   "metadata": {},
   "outputs": [],
   "source": []
  },
  {
   "cell_type": "code",
   "execution_count": null,
   "metadata": {},
   "outputs": [],
   "source": []
  },
  {
   "cell_type": "code",
   "execution_count": null,
   "metadata": {},
   "outputs": [],
   "source": []
  },
  {
   "cell_type": "code",
   "execution_count": null,
   "metadata": {},
   "outputs": [],
   "source": []
  }
 ],
 "metadata": {
  "kernelspec": {
   "display_name": "base",
   "language": "python",
   "name": "python3"
  },
  "language_info": {
   "codemirror_mode": {
    "name": "ipython",
    "version": 3
   },
   "file_extension": ".py",
   "mimetype": "text/x-python",
   "name": "python",
   "nbconvert_exporter": "python",
   "pygments_lexer": "ipython3",
   "version": "3.9.12"
  }
 },
 "nbformat": 4,
 "nbformat_minor": 2
}
