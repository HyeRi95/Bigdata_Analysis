{
 "cells": [
  {
   "cell_type": "markdown",
   "metadata": {},
   "source": [
    "## 시험설명 \n",
    "- 시험시간 : 3시간 (180분)\n",
    "- 시험유형 : 총 6문제\n",
    "\n",
    "__제 1유형__\n",
    "- 3문제 (각 10점, 총 30점)\n",
    "- 주제 : 데이터 전처리 \n",
    "\n",
    "__제 2유형__\n",
    "- 1문제 (40점)\n",
    "- 주제 : 데이터 분석(분류/회귀/비지도학습)\n",
    "\n",
    "__제 3유형__\n",
    "- 2문제 (각 15점, 30점)\n",
    "- 주제 : 통계적 가설 검정 "
   ]
  },
  {
   "cell_type": "markdown",
   "metadata": {},
   "source": [
    "### 제 1유형 \n",
    "#### 1. python 함수 "
   ]
  },
  {
   "cell_type": "code",
   "execution_count": null,
   "metadata": {},
   "outputs": [],
   "source": [
    "# iterable : 여러개의 순회가능한 객체\n",
    "\n",
    "abs(x) # x의 절대값\n",
    "\n",
    "round(x,3) # x를 소수점 이하 3자리로 반올림\n",
    "\n",
    "max(x) # x의 최대값\n",
    "\n",
    "min(X) # x의 최소값\n",
    "\n",
    "sum(iterable) # x의 모든 요소의 합\n",
    "\n",
    "pow(x,y) # x의 y 제곱 (=x**y)\n",
    "\n",
    "# 내장 함수로 제공되는 통계 메소드\n",
    "\n",
    "all(iterable) # iterable의 모든 요소가 True 인지 검사\n",
    "\n",
    "any(iterable) # iterable의 하나 이상의 요소가 True 인지 검사\n",
    "\n",
    "# 내장 함수로 제공되는 기타 메소드\n",
    "enumerate(iterable, start=0) # iterable의 요소를 인덱스와 함께 반환\n",
    "\n",
    "filter(function, iterable) # function의 조건을만족하는 iterable의 요소를 반환\n",
    "\n",
    "map(function, iterable) # function을 iterable의 모든 요소에 적용\n",
    "\n",
    "zip(*iterables) # 여러 iterable의 요소를 병렬로 묶어서 반환"
   ]
  },
  {
   "cell_type": "code",
   "execution_count": 8,
   "metadata": {},
   "outputs": [
    {
     "name": "stdout",
     "output_type": "stream",
     "text": [
      "(0, 'A')\n",
      "(1, 'B')\n",
      "(2, 'C')\n"
     ]
    }
   ],
   "source": [
    "# enumerate 함수 예시\n",
    "\n",
    "for entry in enumerate(['A','B','C']):\n",
    "    print(entry)"
   ]
  },
  {
   "cell_type": "code",
   "execution_count": null,
   "metadata": {},
   "outputs": [
    {
     "name": "stdout",
     "output_type": "stream",
     "text": [
      "[1, 4, 9, 16, 25]\n"
     ]
    }
   ],
   "source": [
    "# map 함수 예시 \n",
    "\n",
    "def square(x):\n",
    "    return x**2\n",
    "\n",
    "numbers = [1, 2, 3, 4, 5]\n",
    "squared_numbers = map(square, numbers)\n",
    "print(list(squared_numbers))"
   ]
  },
  {
   "cell_type": "code",
   "execution_count": 7,
   "metadata": {},
   "outputs": [
    {
     "name": "stdout",
     "output_type": "stream",
     "text": [
      "(1, 'A')\n",
      "(2, 'B')\n",
      "(3, 'C')\n",
      "[(1, 'A'), (2, 'B'), (3, 'C')]\n"
     ]
    }
   ],
   "source": [
    "# zip 함수 예시 \n",
    "numbers = [1, 2, 3]\n",
    "letters = [\"A\", \"B\", \"C\"]\n",
    "for pair in zip(numbers, letters):\n",
    "    print(pair)\n",
    "\n",
    "pairs = zip(numbers,letters)\n",
    "print(list(pairs))"
   ]
  },
  {
   "cell_type": "markdown",
   "metadata": {},
   "source": [
    "#### 2. 판다스(pandas )"
   ]
  },
  {
   "cell_type": "markdown",
   "metadata": {},
   "source": [
    "##### 데이터 타입확인하기"
   ]
  },
  {
   "cell_type": "code",
   "execution_count": null,
   "metadata": {},
   "outputs": [],
   "source": [
    "df.dtypes"
   ]
  },
  {
   "cell_type": "markdown",
   "metadata": {},
   "source": [
    "##### 고유값 개수 카운팅"
   ]
  },
  {
   "cell_type": "code",
   "execution_count": null,
   "metadata": {},
   "outputs": [],
   "source": [
    "df['컬럼'].value_counts()"
   ]
  },
  {
   "cell_type": "markdown",
   "metadata": {},
   "source": [
    "#####  행,열 구성 확인 "
   ]
  },
  {
   "cell_type": "code",
   "execution_count": null,
   "metadata": {},
   "outputs": [],
   "source": [
    "df.shape"
   ]
  },
  {
   "cell_type": "markdown",
   "metadata": {},
   "source": [
    "#####  데이터 프레임 컬럼 형 변환"
   ]
  },
  {
   "cell_type": "code",
   "execution_count": null,
   "metadata": {},
   "outputs": [],
   "source": [
    "# 형변환\n",
    "df['컬럼이름'] = df['컬럼이름'].astype(str) # str, int, float, bool\n",
    "df.astype({'컬럼1': 'int', '컬럼2' : 'str'})"
   ]
  },
  {
   "cell_type": "markdown",
   "metadata": {},
   "source": [
    "##### 통계연산 : 기본 통계 함수 "
   ]
  },
  {
   "cell_type": "code",
   "execution_count": 10,
   "metadata": {},
   "outputs": [
    {
     "ename": "NameError",
     "evalue": "name 'df' is not defined",
     "output_type": "error",
     "traceback": [
      "\u001b[1;31m---------------------------------------------------------------------------\u001b[0m",
      "\u001b[1;31mNameError\u001b[0m                                 Traceback (most recent call last)",
      "Input \u001b[1;32mIn [10]\u001b[0m, in \u001b[0;36m<cell line: 1>\u001b[1;34m()\u001b[0m\n\u001b[1;32m----> 1\u001b[0m \u001b[43mdf\u001b[49m\u001b[38;5;241m.\u001b[39mmean() \u001b[38;5;66;03m# 각 컬럼의 평균 계산\u001b[39;00m\n\u001b[0;32m      2\u001b[0m df[\u001b[38;5;124m'\u001b[39m\u001b[38;5;124m컬럼1\u001b[39m\u001b[38;5;124m'\u001b[39m] \u001b[38;5;66;03m# 컬럼1의 평균 계산\u001b[39;00m\n\u001b[0;32m      4\u001b[0m df\u001b[38;5;241m.\u001b[39mmedian() \u001b[38;5;66;03m# 각 컬럼의 중앙값 계산\u001b[39;00m\n",
      "\u001b[1;31mNameError\u001b[0m: name 'df' is not defined"
     ]
    }
   ],
   "source": [
    "df.mean() # 각 컬럼의 평균 계산\n",
    "df['컬럼1'] # 컬럼1의 평균 계산\n",
    "\n",
    "df.median() # 각 컬럼의 중앙값 계산\n",
    "\n",
    "df.mode() # 각 컬럼의 최빈값 계산\n",
    "\n",
    "df.std() # 각 컬럼의 표준편차 계산\n",
    "\n",
    "df.var() # 각 컬럼의 분산 계산\n",
    "\n",
    "df.min() # 각 컬럼의 최솟값 계산\n",
    "\n",
    "df.max() # 각 컬럼의 최댓값 계산"
   ]
  },
  {
   "cell_type": "markdown",
   "metadata": {},
   "source": [
    "##### 통계 연산 : 누적 통계 함수 "
   ]
  },
  {
   "cell_type": "code",
   "execution_count": null,
   "metadata": {},
   "outputs": [],
   "source": [
    "\n",
    "df.cumsum() #  해당 행/열 까지의 누적합 계산 \n",
    "\n",
    "df.cumprod() # 해당 행/열 까지의 누적곱 계산\n",
    "\n",
    "df.cummax() # 각 컬럼의 누적 최댓값 계산\n",
    "\n",
    "df.cummin() # 각 컬럼의 누적 최솟값 계산 \n"
   ]
  },
  {
   "cell_type": "markdown",
   "metadata": {},
   "source": [
    "##### 상관관계 및 공분산"
   ]
  },
  {
   "cell_type": "code",
   "execution_count": null,
   "metadata": {},
   "outputs": [],
   "source": [
    "df.corr()"
   ]
  },
  {
   "cell_type": "code",
   "execution_count": null,
   "metadata": {},
   "outputs": [],
   "source": []
  },
  {
   "cell_type": "code",
   "execution_count": null,
   "metadata": {},
   "outputs": [],
   "source": []
  },
  {
   "cell_type": "code",
   "execution_count": null,
   "metadata": {},
   "outputs": [],
   "source": []
  }
 ],
 "metadata": {
  "kernelspec": {
   "display_name": "base",
   "language": "python",
   "name": "python3"
  },
  "language_info": {
   "codemirror_mode": {
    "name": "ipython",
    "version": 3
   },
   "file_extension": ".py",
   "mimetype": "text/x-python",
   "name": "python",
   "nbconvert_exporter": "python",
   "pygments_lexer": "ipython3",
   "version": "3.9.12"
  }
 },
 "nbformat": 4,
 "nbformat_minor": 2
}
