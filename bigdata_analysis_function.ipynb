{
 "cells": [
  {
   "cell_type": "markdown",
   "metadata": {},
   "source": [
    "## 시험설명 \n",
    "- 시험시간 : 3시간 (180분)\n",
    "- 시험유형 : 총 6문제\n",
    "\n",
    "__제 1유형__\n",
    "- 3문제 (각 10점, 총 30점)\n",
    "- 주제 : 데이터 전처리 \n",
    "\n",
    "__제 2유형__\n",
    "- 1문제 (40점)\n",
    "- 주제 : 데이터 분석(분류/회귀/비지도학습)\n",
    "\n",
    "__제 3유형__\n",
    "- 2문제 (각 15점, 30점)\n",
    "- 주제 : 통계적 가설 검정 "
   ]
  },
  {
   "cell_type": "markdown",
   "metadata": {},
   "source": [
    "### 제 1유형 \n",
    "#### 1. python 함수 "
   ]
  },
  {
   "cell_type": "code",
   "execution_count": null,
   "metadata": {},
   "outputs": [],
   "source": [
    "# iterable : 여러개의 순회가능한 객체\n",
    "\n",
    "abs(x) # x의 절대값\n",
    "\n",
    "round(x,3) # x를 소수점 이하 3자리로 반올림\n",
    "\n",
    "max(x) # x의 최대값\n",
    "\n",
    "min(X) # x의 최소값\n",
    "\n",
    "sum(iterable) # x의 모든 요소의 합\n",
    "\n",
    "pow(x,y) # x의 y 제곱 (=x**y)\n",
    "\n",
    "# 내장 함수로 제공되는 통계 메소드\n",
    "\n",
    "all(iterable) # iterable의 모든 요소가 True 인지 검사\n",
    "\n",
    "any(iterable) # iterable의 하나 이상의 요소가 True 인지 검사\n",
    "\n",
    "# 내장 함수로 제공되는 기타 메소드\n",
    "enumerate(iterable, start=0) # iterable의 요소를 인덱스와 함께 반환\n",
    "\n",
    "filter(function, iterable) # function의 조건을만족하는 iterable의 요소를 반환\n",
    "\n",
    "map(function, iterable) # function을 iterable의 모든 요소에 적용\n",
    "\n",
    "zip(*iterables) # 여러 iterable의 요소를 병렬로 묶어서 반환"
   ]
  },
  {
   "cell_type": "code",
   "execution_count": 8,
   "metadata": {},
   "outputs": [
    {
     "name": "stdout",
     "output_type": "stream",
     "text": [
      "(0, 'A')\n",
      "(1, 'B')\n",
      "(2, 'C')\n"
     ]
    }
   ],
   "source": [
    "# enumerate 함수 예시\n",
    "\n",
    "for entry in enumerate(['A','B','C']):\n",
    "    print(entry)"
   ]
  },
  {
   "cell_type": "code",
   "execution_count": null,
   "metadata": {},
   "outputs": [
    {
     "name": "stdout",
     "output_type": "stream",
     "text": [
      "[1, 4, 9, 16, 25]\n"
     ]
    }
   ],
   "source": [
    "# map 함수 예시 \n",
    "\n",
    "def square(x):\n",
    "    return x**2\n",
    "\n",
    "numbers = [1, 2, 3, 4, 5]\n",
    "squared_numbers = map(square, numbers)\n",
    "print(list(squared_numbers))"
   ]
  },
  {
   "cell_type": "code",
   "execution_count": 7,
   "metadata": {},
   "outputs": [
    {
     "name": "stdout",
     "output_type": "stream",
     "text": [
      "(1, 'A')\n",
      "(2, 'B')\n",
      "(3, 'C')\n",
      "[(1, 'A'), (2, 'B'), (3, 'C')]\n"
     ]
    }
   ],
   "source": [
    "# zip 함수 예시 \n",
    "numbers = [1, 2, 3]\n",
    "letters = [\"A\", \"B\", \"C\"]\n",
    "for pair in zip(numbers, letters):\n",
    "    print(pair)\n",
    "\n",
    "pairs = zip(numbers,letters)\n",
    "print(list(pairs))"
   ]
  },
  {
   "cell_type": "markdown",
   "metadata": {},
   "source": [
    "#### 2. 판다스(pandas )"
   ]
  },
  {
   "cell_type": "markdown",
   "metadata": {},
   "source": [
    "##### 데이터 타입확인하기"
   ]
  },
  {
   "cell_type": "code",
   "execution_count": null,
   "metadata": {},
   "outputs": [],
   "source": [
    "df.dtypes"
   ]
  },
  {
   "cell_type": "markdown",
   "metadata": {},
   "source": [
    "##### 고유값 개수 카운팅"
   ]
  },
  {
   "cell_type": "code",
   "execution_count": null,
   "metadata": {},
   "outputs": [],
   "source": [
    "df['컬럼'].value_counts()"
   ]
  },
  {
   "cell_type": "markdown",
   "metadata": {},
   "source": [
    "#####  행,열 구성 확인 "
   ]
  },
  {
   "cell_type": "code",
   "execution_count": null,
   "metadata": {},
   "outputs": [],
   "source": [
    "df.shape"
   ]
  },
  {
   "cell_type": "markdown",
   "metadata": {},
   "source": [
    "#####  데이터 프레임 컬럼 형 변환"
   ]
  },
  {
   "cell_type": "code",
   "execution_count": null,
   "metadata": {},
   "outputs": [],
   "source": [
    "# 형변환\n",
    "df['컬럼이름'] = df['컬럼이름'].astype(str) # str, int, float, bool\n",
    "df.astype({'컬럼1': 'int', '컬럼2' : 'str'})"
   ]
  },
  {
   "cell_type": "markdown",
   "metadata": {},
   "source": [
    "##### groupby "
   ]
  },
  {
   "cell_type": "code",
   "execution_count": null,
   "metadata": {},
   "outputs": [],
   "source": [
    "df.groupby(by='컬럼이름').sum() # 합계\n",
    "\n",
    "df.groupby(by='컬럼이름').mean() # 평균\n",
    "\n",
    "df.groupby(by='컬럼이름').count() # NaN은 빼고 세어줌 \n",
    "\n",
    "df.groupby(by='컬럼이름').size() # NaN도 세어줌\n",
    "\n",
    "df.groupby(by='컬럼이름').max() # 최대값\n",
    " \n",
    "df.groupby(by='컬럼이름').min() # 최솟값\n",
    "\n",
    "df.groupby(by='컬럼이름').std() # 표준편차\n",
    "\n",
    "df.groupby(by='컬럼이름').var() # 분산\n",
    "\n",
    "df.groupby(by='컬럼이름').median() # 중앙값\n",
    "\n",
    "df.groupby(by='컬럼이름').first() \n",
    "\n",
    "df.groupby(by='컬럼이름').last()\n",
    "\n",
    "# 사용자 정의 함수\n",
    "df.groupby(by='컬럼이름').apply(lamda x: x.sum())\n",
    "\n",
    "# 여러 연산을 동시에 \n",
    "df.groupby(by='컬럼이름').agg(['sum','mean','count'])"
   ]
  },
  {
   "cell_type": "markdown",
   "metadata": {},
   "source": [
    "##### 데이터프레임 다루기 - 데이터프레임 데이터 조작"
   ]
  },
  {
   "cell_type": "code",
   "execution_count": null,
   "metadata": {},
   "outputs": [],
   "source": [
    "df.drop('col1',axis=1) # '컬럼1' 삭제 \n",
    "df.drop(0,axis=0) # 첫번째 행 삭제 \n",
    "df.rename(columns={'col1' : 'new_col1'}) # 컬럼명 변경"
   ]
  },
  {
   "cell_type": "markdown",
   "metadata": {},
   "source": [
    "##### 데이터프레임 다루기 - 데이터프레임 결합"
   ]
  },
  {
   "cell_type": "code",
   "execution_count": null,
   "metadata": {},
   "outputs": [],
   "source": [
    "pd.concat([df1,df2]) # 데이터프레임 연결 (행 기준)\n",
    "pd.concat([df1,df2], axis=1) # 데이터프레임 연결 (열 기준)\n",
    "pd.merge(df1,df2, left_on='key', right_on='key', how='left') # 키를 기준으로 데이터프레임 병합"
   ]
  },
  {
   "cell_type": "markdown",
   "metadata": {},
   "source": [
    "##### 데이터프레임 다루기 - 데이터프레임 결측치 처리 \n"
   ]
  },
  {
   "cell_type": "code",
   "execution_count": null,
   "metadata": {},
   "outputs": [],
   "source": [
    "df.isna() # 결측치 여부를 불린 값으로 출력 \n",
    "df.dropna() # 결측치가 있는 행 제거\n",
    "df.dropna(subset=['컬럼1','컬럼2']) # '컬럼1', '컬럼2' 에서 결측치가 있는 행만 제거\n",
    "\n",
    "df['컬럼이름'] = df['컬럼이름'].fillna(0)\n",
    "df['컬럼이름'] = df['컬럼이름'].fillna(method='ffill') # 결측값이 바로 아래값과 동일하게 설정\n",
    "df['컬럼이름'] = df['컬럼이름'].fillna(method='bfill') # 결측값이 바로 위값과 동일하게 설정 "
   ]
  },
  {
   "cell_type": "markdown",
   "metadata": {},
   "source": [
    "##### 데이터 프레임 정렬 "
   ]
  },
  {
   "cell_type": "code",
   "execution_count": null,
   "metadata": {},
   "outputs": [],
   "source": [
    "df.sort_values(by='col1') # 'col' 컬럼 기준으로 정렬\n",
    "df.sort_index() # 인덱스 기준으로 정렬 "
   ]
  },
  {
   "cell_type": "markdown",
   "metadata": {},
   "source": [
    "##### 데이터프레임에서 중복 제거 "
   ]
  },
  {
   "cell_type": "code",
   "execution_count": null,
   "metadata": {},
   "outputs": [],
   "source": [
    "df.drop_duplicates()\n",
    "df.drop_duplicates(subset=['col1']) # 'col1' 컬럼 기준으로 중복 행 제거"
   ]
  },
  {
   "cell_type": "markdown",
   "metadata": {},
   "source": [
    "##### 통계연산 : 기본 통계 함수 "
   ]
  },
  {
   "cell_type": "code",
   "execution_count": null,
   "metadata": {},
   "outputs": [],
   "source": [
    "df.mean() # 각 컬럼의 평균 계산\n",
    "\n",
    "df.median() # 각 컬럼의 중앙값 계산\n",
    "\n",
    "df.mode() # 각 컬럼의 최빈값 계산\n",
    "\n",
    "df.std() # 각 컬럼의 표준편차 계산\n",
    "\n",
    "df.var() # 각 컬럼의 분산 계산\n",
    "\n",
    "df.min() # 각 컬럼의 최솟값 계산\n",
    "\n",
    "df.max() # 각 컬럼의 최댓값 계산"
   ]
  },
  {
   "cell_type": "markdown",
   "metadata": {},
   "source": [
    "##### 통계 연산 : 누적 통계 함수 "
   ]
  },
  {
   "cell_type": "code",
   "execution_count": null,
   "metadata": {},
   "outputs": [],
   "source": [
    "\n",
    "df.cumsum() #  해당 행/열 까지의 누적합 계산 \n",
    "\n",
    "df.cumprod() # 해당 행/열 까지의 누적곱 계산\n",
    "\n",
    "df.cummax() # 각 컬럼의 누적 최댓값 계산\n",
    "\n",
    "df.cummin() # 각 컬럼의 누적 최솟값 계산 \n"
   ]
  },
  {
   "cell_type": "markdown",
   "metadata": {},
   "source": [
    "##### 상관관계 및 공분산"
   ]
  },
  {
   "cell_type": "code",
   "execution_count": null,
   "metadata": {},
   "outputs": [],
   "source": [
    "df.corr() # 컬럼 간의 상관계수 계산 \n",
    "df.corrwith(df2) # 다른 데이터프레임과의 상관계수 계산 df와 df2 사이의 상관계수 계산 \n",
    "df.cov() # 컬럼간의 공분산 계산"
   ]
  },
  {
   "cell_type": "markdown",
   "metadata": {},
   "source": [
    "##### 데이터 프레임 요약 통계"
   ]
  },
  {
   "cell_type": "code",
   "execution_count": null,
   "metadata": {},
   "outputs": [],
   "source": [
    "df.describe() # 데이터프레임의 통계 요약 정보 출력"
   ]
  },
  {
   "cell_type": "markdown",
   "metadata": {},
   "source": [
    "##### 특정 통계 연산"
   ]
  },
  {
   "cell_type": "code",
   "execution_count": null,
   "metadata": {},
   "outputs": [],
   "source": [
    "df['컬럼1'].mean() # 컬럼1의 평균 계산\n",
    "\n",
    "df['컬럼1'].median() # 각 컬럼의 중앙값 계산\n",
    "\n",
    "df['컬럼1'].mode() # 각 컬럼의 최빈값 계산\n",
    "\n",
    "df['컬럼1'].std() # 각 컬럼의 표준편차 계산\n",
    "\n",
    "df['컬럼1'].var() # 각 컬럼의 분산 계산\n",
    "\n",
    "df['컬럼1'].min() # 각 컬럼의 최솟값 계산\n",
    "\n",
    "df['컬럼1'].max() # 각 컬럼의 최댓값 계산\n",
    "\n",
    "df['컬럼1'].quantile(0.25) # 특정 컬럼의 1사분위수 계산 \n",
    "\n",
    "df['컬럼1'].quantile(0.5) # 특정 컬럼의 중앙값 (2사분위수) 계산 = 중앙값 (median)\n",
    "\n",
    "df['컬럼1'].quantile(0.25) # 특정 컬럼의 3사분위수 계산\n"
   ]
  },
  {
   "cell_type": "markdown",
   "metadata": {},
   "source": [
    "##### 왜도 / 첨도"
   ]
  },
  {
   "cell_type": "code",
   "execution_count": null,
   "metadata": {},
   "outputs": [],
   "source": [
    "df['컬럼1'].skew() # 왜도\n",
    "df['컬럼1'].kurt() # 첨도 "
   ]
  },
  {
   "cell_type": "markdown",
   "metadata": {},
   "source": [
    "##### 지수 이동 통계"
   ]
  },
  {
   "cell_type": "code",
   "execution_count": null,
   "metadata": {},
   "outputs": [],
   "source": [
    "df.rolling(window=3).mean() # 3개 행 기준 이동평균 계산\n",
    "\n",
    "df.rolling(window=3).sum() # 3개 행 기준 이동 합계 계산\n",
    "\n",
    "df.ewm(span=3).mean() # 지수 가중 이동 평균 계싼 "
   ]
  },
  {
   "cell_type": "markdown",
   "metadata": {},
   "source": [
    "##### 변동성 측정 "
   ]
  },
  {
   "cell_type": "code",
   "execution_count": null,
   "metadata": {},
   "outputs": [],
   "source": [
    "df.pct_change() # 각 행의 퍼센트 변화율 계산\n",
    "df.diff() # 각행의 차분 계산 "
   ]
  },
  {
   "cell_type": "markdown",
   "metadata": {},
   "source": [
    "##### 결측값 데이터 수 확인 "
   ]
  },
  {
   "cell_type": "code",
   "execution_count": null,
   "metadata": {},
   "outputs": [],
   "source": [
    "df['컬럼1'].isnull().sum()"
   ]
  },
  {
   "cell_type": "markdown",
   "metadata": {},
   "source": [
    "##### 시계열 "
   ]
  },
  {
   "cell_type": "code",
   "execution_count": null,
   "metadata": {},
   "outputs": [],
   "source": [
    "# 단순 이동 평균 계산 (Window=3, 이동거리)\n",
    "df['SMA'] = df['value'].rolling(window=3).mean()\n",
    "\n",
    "# 지수 가중 이동 평균 계산\n",
    "# span: 가중치를 계산할 때 사용할 기간의 길아, 값이 작을수록 최근 데이터에 더 큰 가중치를 부여)\n",
    "# adjust : 초기 값을 고려하여 가중치를 조정할지 여부를 결정\n",
    "df['EMA'] = df['value'].ewm(sapn=3, adust=False).mean()\n"
   ]
  },
  {
   "cell_type": "markdown",
   "metadata": {},
   "source": [
    "#### 3. 넘파이(numpy)"
   ]
  },
  {
   "cell_type": "markdown",
   "metadata": {},
   "source": [
    "##### 기본연산 함수 - 덧셈, 뺼셈, 곱셈 및 나눗셈 "
   ]
  },
  {
   "cell_type": "code",
   "execution_count": null,
   "metadata": {},
   "outputs": [],
   "source": [
    "np.add(x1,x2) # 요소별 덧셈\n",
    "\n",
    "np.subtract(x1,x2) # 요소별 뺄셈\n",
    "\n",
    "np.multiply(x1,x2) # 요소별 곱셈\n",
    "\n",
    "np.divide(x1,x2) # 요소별 나눗셈\n",
    "\n",
    "np.dot(a,b) # 행렬 곱셈 또는 내적(dot product)"
   ]
  },
  {
   "cell_type": "markdown",
   "metadata": {},
   "source": [
    "##### 기본연산 함수 - 거듭제곱, 제곱근, 절대값 및 부호 "
   ]
  },
  {
   "cell_type": "code",
   "execution_count": null,
   "metadata": {},
   "outputs": [],
   "source": [
    "np.power(x1, x2) # 요소별 멱승\n",
    "\n",
    "np.sqrt(x) # 요소별 제곱근\n",
    "\n",
    "np.abs(x) # 요소별 절댓값\n",
    "\n",
    "np.sign(x) # 요소별 부호 (양수는 1, 음수는 -1, 0은 0)"
   ]
  },
  {
   "cell_type": "markdown",
   "metadata": {},
   "source": [
    "##### 통계 함수"
   ]
  },
  {
   "cell_type": "code",
   "execution_count": null,
   "metadata": {},
   "outputs": [],
   "source": [
    "np.max(a, axis=None) # 최대값\n",
    "\n",
    "np.min(a, axis=None) # 최소값\n",
    "\n",
    "np.sum(a,axis=None) # 합계\n",
    "\n",
    "np.mean(a, axis=None) # 평균\n",
    "\n",
    "np.median(a, axis=None) # 중앙값\n",
    "\n",
    "np.std(a, axis=None) # 표준편차\n",
    "\n",
    "np.var(a, axis=None) # 분산\n",
    "\n",
    "np.cumsum(a,axis=None) # 누적 합계\n",
    "\n",
    "np.cumprod(a, axis=None) # 누적 곱\n"
   ]
  },
  {
   "cell_type": "markdown",
   "metadata": {},
   "source": [
    "##### 기타 연산 함수 "
   ]
  },
  {
   "cell_type": "code",
   "execution_count": null,
   "metadata": {},
   "outputs": [],
   "source": [
    "np.sin(x) # 사인\n",
    "\n",
    "np.cos(x) # 코사인 \n",
    "\n",
    "np.tan(x) # 탄젠트\n",
    "\n",
    "np.arcsin(x) # 아크사인\n",
    "\n",
    "np.arccos(x) # 아크코사인\n",
    "\n",
    "np.arctan(x) # 아크 탄젠트\n",
    "\n",
    "np.exp(x) # 자연 지수 함수 (e^x) \n",
    "\n",
    "np.log(x) # 자연로그\n",
    "\n",
    "np.log10(x) # 상용로그\n",
    "\n",
    "np.log2(x) # 이진로그 \n",
    "\n",
    "np.round(x, deciamals=0) # 소수점 반올림\n",
    "\n",
    "np.floor(x) # 소수점 내림(버림)\n",
    "\n",
    "np.ceil(x) # 소수점 올림 \n",
    "\n",
    "np.sort(a,axis=-1) # 배열 정렬\n",
    "np.argsort(a, axis=-1) # 정렬된 요소의 인덱스\n",
    "np.argmax(a,axis=None) # 최대값의 인덱스\n",
    "np.argmin(a,axis=None) # 최소값의 인덱스 "
   ]
  },
  {
   "cell_type": "markdown",
   "metadata": {},
   "source": [
    "#### 4. Matplotlib\n"
   ]
  },
  {
   "cell_type": "code",
   "execution_count": null,
   "metadata": {},
   "outputs": [],
   "source": [
    "import matplotlib.pyplot as plt "
   ]
  },
  {
   "cell_type": "markdown",
   "metadata": {},
   "source": [
    "##### 히스토그램 "
   ]
  },
  {
   "cell_type": "code",
   "execution_count": null,
   "metadata": {},
   "outputs": [],
   "source": [
    "plt.hist(df['수치형변수'])\n",
    "plt.show()"
   ]
  },
  {
   "cell_type": "markdown",
   "metadata": {},
   "source": [
    "##### 박스플랏(boxplot)"
   ]
  },
  {
   "cell_type": "code",
   "execution_count": null,
   "metadata": {},
   "outputs": [],
   "source": [
    "# 타겟이 0일때와 1일때 비교\n",
    "series0 = df[df['타겟']==0]['수치형변수']\n",
    "series1 = df[df['타겟']==1]['수치형 변수']\n",
    "\n",
    "plt.boxplot(series0, series1)\n",
    "plt.show()"
   ]
  },
  {
   "cell_type": "markdown",
   "metadata": {},
   "source": [
    "#### 5. scipy"
   ]
  },
  {
   "cell_type": "code",
   "execution_count": null,
   "metadata": {},
   "outputs": [],
   "source": [
    "import scipy.stats as ss "
   ]
  },
  {
   "cell_type": "markdown",
   "metadata": {},
   "source": [
    "##### 통계"
   ]
  },
  {
   "cell_type": "code",
   "execution_count": null,
   "metadata": {},
   "outputs": [],
   "source": [
    "ss.zscore(df['컬럼이름']) # z-score\n",
    "ss.skew(df['컬럼이름']) # 왜도\n",
    "ss.kurtosis(df['컬럼이름']) # 첨도 "
   ]
  },
  {
   "cell_type": "markdown",
   "metadata": {},
   "source": [
    "#### 6. sklearn"
   ]
  },
  {
   "cell_type": "code",
   "execution_count": null,
   "metadata": {},
   "outputs": [],
   "source": [
    "from sklearn.preprocessing MinMaxScaler, StandardScaler, Normalizer"
   ]
  },
  {
   "cell_type": "markdown",
   "metadata": {},
   "source": [
    "##### 스케일러"
   ]
  },
  {
   "cell_type": "code",
   "execution_count": null,
   "metadata": {},
   "outputs": [],
   "source": [
    "scaler = StandardScaler()\n",
    "arr_data = scaler.fit_transform(df['컬럼이름'])"
   ]
  },
  {
   "cell_type": "markdown",
   "metadata": {},
   "source": [
    "##### 차원축소"
   ]
  },
  {
   "cell_type": "code",
   "execution_count": null,
   "metadata": {},
   "outputs": [],
   "source": [
    "from sklearn.decomposition import PCA"
   ]
  },
  {
   "cell_type": "code",
   "execution_count": null,
   "metadata": {},
   "outputs": [],
   "source": [
    "pca = PCA(n_components=3)\n",
    "arr_data =pca.fit_transform(df) # np.array() 형태"
   ]
  },
  {
   "cell_type": "markdown",
   "metadata": {},
   "source": [
    "##### 라벨인코더"
   ]
  },
  {
   "cell_type": "code",
   "execution_count": null,
   "metadata": {},
   "outputs": [],
   "source": [
    "from sklearn.preprocessing import LabelEncoder\n",
    "encoder = LableEncoder()\n",
    "df['A'] = encoder.fit_transform(df['A'])"
   ]
  },
  {
   "cell_type": "markdown",
   "metadata": {},
   "source": [
    "##### 원핫인코더"
   ]
  },
  {
   "cell_type": "code",
   "execution_count": null,
   "metadata": {},
   "outputs": [],
   "source": [
    "from sklearn.preprocessing import OneHotEncoder"
   ]
  },
  {
   "cell_type": "code",
   "execution_count": null,
   "metadata": {},
   "outputs": [],
   "source": [
    "encoder = OneHotEncoder(sparse=False)\n",
    "encoded_data = encoder.fit_transform(df['A'])\n",
    "columns = encoder.get_feature_names_out(['A'])\n",
    "\n",
    "encoded_df = pd.DataFrame(encoded_data, columns=columns)\n",
    "\n",
    "# 원본 데이터와 인코딩된 데이터 합치기 \n",
    "result_df = pd.concat([df,encoded_df],axis=1)"
   ]
  },
  {
   "cell_type": "markdown",
   "metadata": {},
   "source": [
    "##### ** 원핫인코딩은 아래 코드로 암기하자"
   ]
  },
  {
   "cell_type": "code",
   "execution_count": null,
   "metadata": {},
   "outputs": [],
   "source": [
    "encoded_df = pd.get_dummies(df['A'])\n",
    "\n",
    "df = pd.concat([df,encoded_df], axis=1)"
   ]
  }
 ],
 "metadata": {
  "kernelspec": {
   "display_name": "base",
   "language": "python",
   "name": "python3"
  },
  "language_info": {
   "codemirror_mode": {
    "name": "ipython",
    "version": 3
   },
   "file_extension": ".py",
   "mimetype": "text/x-python",
   "name": "python",
   "nbconvert_exporter": "python",
   "pygments_lexer": "ipython3",
   "version": "3.9.12"
  }
 },
 "nbformat": 4,
 "nbformat_minor": 2
}
