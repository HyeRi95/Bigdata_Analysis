{
 "cells": [
  {
   "cell_type": "markdown",
   "metadata": {},
   "source": [
    "### 제 3유형 카이제곱 검정\n",
    "분석 Case \n",
    "- Case 1. 적합도 검정 - 각 범주에 속할 확률이 같은지?\n",
    "- Case 2. 독립성 검정 - 두 개의 범주형 변수가 서로 독립인지?    \n",
    "\n",
    "가설 검정 순서\n",
    "1. 가설 설정\n",
    "2. 유의수준 확인\n",
    "3. 검정 실시(통계량, p-value 확인) + 기대값 확인\n",
    "4. 귀무가설 기각여부 결정(채택/기각)    \n",
    "\n",
    "예제문제\n",
    "Case1. 적합도 검정 - 각 범주에 속할 확률이 같은지?    \n",
    "\n",
    "문제 1-1    \n",
    "랜덤박스에 상품 A,B,C,D가 들어있다.    \n",
    "다음은 랜덤박스에서 100번 상품을 꺼냈을 떄의 상품 데이터라고 할 때    \n",
    "상품이 동일한 비율로 들어있다고 할 수 있는지 검정해보시오.    \n",
    "- 귀무가설(H0) : 상품이 동일한 비율로 들어있다.\n",
    "- 대립가설(H1) : 상품이 동일한 비율로 들어있지 않다."
   ]
  },
  {
   "cell_type": "code",
   "execution_count": 1,
   "metadata": {},
   "outputs": [],
   "source": [
    "import pandas as pd \n",
    "import numpy as np\n",
    "from scipy.stats import chisquare, chi2_contingency"
   ]
  },
  {
   "cell_type": "code",
   "execution_count": null,
   "metadata": {},
   "outputs": [],
   "source": [
    "# 데이터 생성\n",
    "row1 = [30, 20, 15, 35]\n",
    "\n",
    "df = pd.DataFrame([row1], columns=['A','B','C','D'])\n",
    "\n",
    "df"
   ]
  },
  {
   "cell_type": "code",
   "execution_count": 2,
   "metadata": {},
   "outputs": [
    {
     "name": "stdout",
     "output_type": "stream",
     "text": [
      "10.0 0.01856613546304325\n",
      "A,B,C,D가 동일한 비율로 들어있지 않다\n"
     ]
    }
   ],
   "source": [
    "# 관측빈도와 기대빈도 구하기\n",
    "f_obs = [30,20,15,35]\n",
    "f_exp = [100*0.25, 100*0.25, 100*0.25,100*0.25]\n",
    "\n",
    "statistic, pvalue = chisquare(f_obs=f_obs, f_exp=f_exp)\n",
    "\n",
    "print(statistic, pvalue)\n",
    "\n",
    "if pvalue>0.05:\n",
    "    print('A,B,C,D가 동일한 비율로 들어있다')\n",
    "else : \n",
    "    print('A,B,C,D가 동일한 비율로 들어있지 않다')"
   ]
  },
  {
   "cell_type": "markdown",
   "metadata": {},
   "source": [
    "문제 1-2    \n",
    "    \n",
    "랜덤박스에 상품 A,B,C가 들어있다.    \n",
    "    \n",
    "다음은 랜덤박스에서 150번 상품을 꺼냇을 떄의 상품 데이터라고 할 때    \n",
    "    \n",
    "상품별로 A 30%, B 15%, C 55% 비율로 들어있다고 할 수 있는지 검정 해보시오 "
   ]
  },
  {
   "cell_type": "code",
   "execution_count": 4,
   "metadata": {},
   "outputs": [
    {
     "data": {
      "text/html": [
       "<div>\n",
       "<style scoped>\n",
       "    .dataframe tbody tr th:only-of-type {\n",
       "        vertical-align: middle;\n",
       "    }\n",
       "\n",
       "    .dataframe tbody tr th {\n",
       "        vertical-align: top;\n",
       "    }\n",
       "\n",
       "    .dataframe thead th {\n",
       "        text-align: right;\n",
       "    }\n",
       "</style>\n",
       "<table border=\"1\" class=\"dataframe\">\n",
       "  <thead>\n",
       "    <tr style=\"text-align: right;\">\n",
       "      <th></th>\n",
       "      <th>A</th>\n",
       "      <th>B</th>\n",
       "      <th>C</th>\n",
       "    </tr>\n",
       "  </thead>\n",
       "  <tbody>\n",
       "    <tr>\n",
       "      <th>0</th>\n",
       "      <td>50</td>\n",
       "      <td>25</td>\n",
       "      <td>75</td>\n",
       "    </tr>\n",
       "  </tbody>\n",
       "</table>\n",
       "</div>"
      ],
      "text/plain": [
       "    A   B   C\n",
       "0  50  25  75"
      ]
     },
     "execution_count": 4,
     "metadata": {},
     "output_type": "execute_result"
    }
   ],
   "source": [
    "# 데이터 생성\n",
    "row1 = [50,25,75]\n",
    "\n",
    "df= pd.DataFrame([row1],columns=['A','B','C'])\n",
    "\n",
    "df"
   ]
  },
  {
   "cell_type": "code",
   "execution_count": 5,
   "metadata": {},
   "outputs": [
    {
     "name": "stdout",
     "output_type": "stream",
     "text": [
      "0.46880153914023537\n",
      "A,B,C가 해당 비율로 들어있다\n"
     ]
    }
   ],
   "source": [
    "# 카이제곱 검정 실시\n",
    "f_obs = [50,25,75]\n",
    "f_exp = [150*0.3,150*0.15,150*0.55]\n",
    "\n",
    "statistics, pvalue = chisquare(f_obs=f_obs,f_exp=f_exp)\n",
    "\n",
    "print(pvalue)\n",
    "\n",
    "if pvalue>0.05 : \n",
    "    print('A,B,C가 해당 비율로 들어있다')\n",
    "else : \n",
    "    print('A,B,C가 해당 비율로 들어있지 않다')"
   ]
  },
  {
   "cell_type": "markdown",
   "metadata": {},
   "source": [
    "문제 2-1     \n",
    "    \n",
    "연령대에 따라 먹는 아이스크림의 차이가 있는지 독립성 검정을 실시하시오\n",
    "    \n",
    "- 귀무가설(H0) : 연령대와 먹는 아이스크림 종류는 서로 관련이 없다.   \n",
    "- 대립가설(H1) : 연령대와 먹는 아이스크림 종류는 서로 관련이 있다."
   ]
  },
  {
   "cell_type": "code",
   "execution_count": 7,
   "metadata": {},
   "outputs": [
    {
     "data": {
      "text/html": [
       "<div>\n",
       "<style scoped>\n",
       "    .dataframe tbody tr th:only-of-type {\n",
       "        vertical-align: middle;\n",
       "    }\n",
       "\n",
       "    .dataframe tbody tr th {\n",
       "        vertical-align: top;\n",
       "    }\n",
       "\n",
       "    .dataframe thead th {\n",
       "        text-align: right;\n",
       "    }\n",
       "</style>\n",
       "<table border=\"1\" class=\"dataframe\">\n",
       "  <thead>\n",
       "    <tr style=\"text-align: right;\">\n",
       "      <th></th>\n",
       "      <th>딸기</th>\n",
       "      <th>초코</th>\n",
       "      <th>바닐라</th>\n",
       "    </tr>\n",
       "  </thead>\n",
       "  <tbody>\n",
       "    <tr>\n",
       "      <th>10대</th>\n",
       "      <td>200</td>\n",
       "      <td>190</td>\n",
       "      <td>250</td>\n",
       "    </tr>\n",
       "    <tr>\n",
       "      <th>20대</th>\n",
       "      <td>220</td>\n",
       "      <td>250</td>\n",
       "      <td>300</td>\n",
       "    </tr>\n",
       "  </tbody>\n",
       "</table>\n",
       "</div>"
      ],
      "text/plain": [
       "      딸기   초코  바닐라\n",
       "10대  200  190  250\n",
       "20대  220  250  300"
      ]
     },
     "execution_count": 7,
     "metadata": {},
     "output_type": "execute_result"
    }
   ],
   "source": [
    "# 데이터 생성\n",
    "\n",
    "row1, row2 = [200, 190, 250], [220, 250, 300]\n",
    "\n",
    "df = pd.DataFrame([row1, row2], columns=['딸기','초코','바닐라'], index=['10대','20대'])\n",
    "\n",
    "df"
   ]
  },
  {
   "cell_type": "code",
   "execution_count": 8,
   "metadata": {},
   "outputs": [
    {
     "name": "stdout",
     "output_type": "stream",
     "text": [
      "1.708360126075226\n",
      "0.4256320394874311\n",
      "2\n",
      "[[190.64 199.72 249.65]\n",
      " [229.36 240.28 300.35]]\n",
      "귀무가설 채택 - 연령대와 먹는 아이스크림 종류는 관련이 없다 (영향을 주지 않는다)\n"
     ]
    }
   ],
   "source": [
    "# chi2_contingency 항목 순서\n",
    "# 검정통계량, p-value, 자유도, 기대값 \n",
    "\n",
    "statistic, pvalue, dof, expected = chi2_contingency(df)\n",
    "\n",
    "print(statistic)\n",
    "print(pvalue)\n",
    "print(dof)\n",
    "print(np.round(expected,2))\n",
    "\n",
    "if pvalue>0.05 :\n",
    "    print('귀무가설 채택 - 연령대와 먹는 아이스크림 종류는 관련이 없다 (영향을 주지 않는다)')\n",
    "else:\n",
    "    print('귀무가설 기각 - 연령대와 먹는 아이스크림 종류는 관련이 있다 (영향을 준다)')\n"
   ]
  },
  {
   "cell_type": "code",
   "execution_count": null,
   "metadata": {},
   "outputs": [],
   "source": []
  },
  {
   "cell_type": "code",
   "execution_count": null,
   "metadata": {},
   "outputs": [],
   "source": []
  },
  {
   "cell_type": "code",
   "execution_count": null,
   "metadata": {},
   "outputs": [],
   "source": []
  },
  {
   "cell_type": "code",
   "execution_count": null,
   "metadata": {},
   "outputs": [],
   "source": []
  },
  {
   "cell_type": "code",
   "execution_count": null,
   "metadata": {},
   "outputs": [],
   "source": []
  },
  {
   "cell_type": "code",
   "execution_count": null,
   "metadata": {},
   "outputs": [],
   "source": []
  },
  {
   "cell_type": "code",
   "execution_count": null,
   "metadata": {},
   "outputs": [],
   "source": []
  }
 ],
 "metadata": {
  "kernelspec": {
   "display_name": "base",
   "language": "python",
   "name": "python3"
  },
  "language_info": {
   "codemirror_mode": {
    "name": "ipython",
    "version": 3
   },
   "file_extension": ".py",
   "mimetype": "text/x-python",
   "name": "python",
   "nbconvert_exporter": "python",
   "pygments_lexer": "ipython3",
   "version": "3.9.12"
  }
 },
 "nbformat": 4,
 "nbformat_minor": 2
}
