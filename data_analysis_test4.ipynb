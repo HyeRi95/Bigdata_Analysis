{
 "cells": [
  {
   "cell_type": "markdown",
   "metadata": {
    "vscode": {
     "languageId": "plaintext"
    }
   },
   "source": [
    "### 제 2유형 연습하기. 타이타닉 생존자 분류하기 풀이"
   ]
  },
  {
   "cell_type": "markdown",
   "metadata": {
    "vscode": {
     "languageId": "plaintext"
    }
   },
   "source": [
    "#### 1. 라이브러리 및 데이터 확인 \n",
    "#### 2. 데이터 탐색(EDA)\n",
    "#### 3. 데이터 전처리 및 분리 (결측치, 이상치 대체)\n",
    "#### 4. 모델링 및 성능평가\n",
    "#### 5. 예측값 제출"
   ]
  },
  {
   "cell_type": "code",
   "execution_count": 145,
   "metadata": {},
   "outputs": [],
   "source": [
    "# 라이브러리 및 데이터 확인 \n",
    "import pandas as pd \n",
    "import numpy as np  \n",
    "from sklearn.model_selection import train_test_split\n",
    "from sklearn.ensemble import RandomForestRegressor, RandomForestClassifier\n",
    "from sklearn.preprocessing import MinMaxScaler, StandardScaler\n",
    "# 7개 \n",
    "from sklearn.metrics import accuracy_score, f1_score, recall_score, mean_squared_error,roc_auc_score,r2_score, precision_score"
   ]
  },
  {
   "cell_type": "code",
   "execution_count": 146,
   "metadata": {},
   "outputs": [],
   "source": [
    "# 데이터셋 불러오기\n",
    "import seaborn as sns\n",
    "df = sns.load_dataset('titanic')\n",
    "x=df.drop('survived', axis = 1)\n",
    "y = df['survived']\n",
    "\n",
    "x_train, x_test , y_train , y_test = train_test_split(x,y,stratify=y, test_size=0.2, random_state=2023)\n",
    "\n",
    "cust_id = pd.DataFrame(x_test.reset_index())['index']\n",
    "\n",
    "x_train = pd.DataFrame(x_train)\n",
    "x_test = pd.DataFrame(x_test)\n",
    "y_train = pd.DataFrame(y_train)\n",
    "y_test = pd.DataFrame(y_test)\n",
    "\n",
    "y_train.columns = ['target']\n",
    "y_test.columns =['target']"
   ]
  },
  {
   "cell_type": "code",
   "execution_count": 147,
   "metadata": {},
   "outputs": [
    {
     "name": "stdout",
     "output_type": "stream",
     "text": [
      "<class 'pandas.core.frame.DataFrame'>\n",
      "Int64Index: 712 entries, 3 to 608\n",
      "Data columns (total 14 columns):\n",
      " #   Column       Non-Null Count  Dtype   \n",
      "---  ------       --------------  -----   \n",
      " 0   pclass       712 non-null    int64   \n",
      " 1   sex          712 non-null    object  \n",
      " 2   age          579 non-null    float64 \n",
      " 3   sibsp        712 non-null    int64   \n",
      " 4   parch        712 non-null    int64   \n",
      " 5   fare         712 non-null    float64 \n",
      " 6   embarked     710 non-null    object  \n",
      " 7   class        712 non-null    category\n",
      " 8   who          712 non-null    object  \n",
      " 9   adult_male   712 non-null    bool    \n",
      " 10  deck         164 non-null    category\n",
      " 11  embark_town  710 non-null    object  \n",
      " 12  alive        712 non-null    object  \n",
      " 13  alone        712 non-null    bool    \n",
      "dtypes: bool(2), category(2), float64(2), int64(3), object(5)\n",
      "memory usage: 64.4+ KB\n",
      "None\n",
      "<class 'pandas.core.frame.DataFrame'>\n",
      "Int64Index: 179 entries, 800 to 410\n",
      "Data columns (total 14 columns):\n",
      " #   Column       Non-Null Count  Dtype   \n",
      "---  ------       --------------  -----   \n",
      " 0   pclass       179 non-null    int64   \n",
      " 1   sex          179 non-null    object  \n",
      " 2   age          135 non-null    float64 \n",
      " 3   sibsp        179 non-null    int64   \n",
      " 4   parch        179 non-null    int64   \n",
      " 5   fare         179 non-null    float64 \n",
      " 6   embarked     179 non-null    object  \n",
      " 7   class        179 non-null    category\n",
      " 8   who          179 non-null    object  \n",
      " 9   adult_male   179 non-null    bool    \n",
      " 10  deck         39 non-null     category\n",
      " 11  embark_town  179 non-null    object  \n",
      " 12  alive        179 non-null    object  \n",
      " 13  alone        179 non-null    bool    \n",
      "dtypes: bool(2), category(2), float64(2), int64(3), object(5)\n",
      "memory usage: 16.6+ KB\n",
      "None\n",
      "<class 'pandas.core.frame.DataFrame'>\n",
      "Int64Index: 712 entries, 3 to 608\n",
      "Data columns (total 1 columns):\n",
      " #   Column  Non-Null Count  Dtype\n",
      "---  ------  --------------  -----\n",
      " 0   target  712 non-null    int64\n",
      "dtypes: int64(1)\n",
      "memory usage: 11.1 KB\n",
      "None\n"
     ]
    }
   ],
   "source": [
    "## 데이터 전처리 시작 \n",
    "# 1. info \n",
    "# 2. describe \n",
    "# 3. isnull().sum() \n",
    "# 4. value_counts() 범주형 몇개 있는지  \n",
    "# 5. shape\n",
    "print(x_train.info())\n",
    "print(x_test.info())\n",
    "print(y_train.info())"
   ]
  },
  {
   "cell_type": "code",
   "execution_count": 148,
   "metadata": {},
   "outputs": [
    {
     "name": "stdout",
     "output_type": "stream",
     "text": [
      "        count       mean        std   min      25%      50%     75%       max\n",
      "pclass  712.0   2.307584   0.834926  1.00   2.0000   3.0000   3.000    3.0000\n",
      "age     579.0  29.479568  14.355304  0.42  20.0000  28.0000  38.000   74.0000\n",
      "sibsp   712.0   0.518258   1.094522  0.00   0.0000   0.0000   1.000    8.0000\n",
      "parch   712.0   0.372191   0.792341  0.00   0.0000   0.0000   0.000    6.0000\n",
      "fare    712.0  31.741836  45.403910  0.00   7.8958  14.4542  31.275  512.3292\n",
      "        count       mean        std  min     25%   50%      75%       max\n",
      "pclass  179.0   2.312849   0.842950  1.0   2.000   3.0   3.0000    3.0000\n",
      "age     135.0  30.640741  15.258427  1.0  22.000  29.0  39.0000   80.0000\n",
      "sibsp   179.0   0.541899   1.137797  0.0   0.000   0.0   1.0000    8.0000\n",
      "parch   179.0   0.418994   0.859760  0.0   0.000   0.0   0.0000    5.0000\n",
      "fare    179.0  34.043364  64.097184  0.0   7.925  14.5  30.2854  512.3292\n",
      "        count      mean       std  min  25%  50%  75%  max\n",
      "target  712.0  0.383427  0.486563  0.0  0.0  0.0  1.0  1.0\n"
     ]
    }
   ],
   "source": [
    "print(x_train.describe().T)\n",
    "print(x_test.describe().T)\n",
    "print(y_train.describe().T)"
   ]
  },
  {
   "cell_type": "code",
   "execution_count": 149,
   "metadata": {},
   "outputs": [
    {
     "name": "stdout",
     "output_type": "stream",
     "text": [
      "target\n",
      "0         439\n",
      "1         273\n",
      "dtype: int64\n"
     ]
    }
   ],
   "source": [
    "print(y_train.value_counts())"
   ]
  },
  {
   "cell_type": "code",
   "execution_count": 150,
   "metadata": {},
   "outputs": [
    {
     "name": "stdout",
     "output_type": "stream",
     "text": [
      "pclass           0\n",
      "sex              0\n",
      "age            133\n",
      "sibsp            0\n",
      "parch            0\n",
      "fare             0\n",
      "embarked         2\n",
      "class            0\n",
      "who              0\n",
      "adult_male       0\n",
      "deck           548\n",
      "embark_town      2\n",
      "alive            0\n",
      "alone            0\n",
      "dtype: int64\n",
      "pclass           0\n",
      "sex              0\n",
      "age             44\n",
      "sibsp            0\n",
      "parch            0\n",
      "fare             0\n",
      "embarked         0\n",
      "class            0\n",
      "who              0\n",
      "adult_male       0\n",
      "deck           140\n",
      "embark_town      0\n",
      "alive            0\n",
      "alone            0\n",
      "dtype: int64\n"
     ]
    }
   ],
   "source": [
    "print(x_train.isnull().sum())\n",
    "print(x_test.isnull().sum())"
   ]
  },
  {
   "cell_type": "code",
   "execution_count": 151,
   "metadata": {},
   "outputs": [
    {
     "name": "stdout",
     "output_type": "stream",
     "text": [
      "(712, 13)\n",
      "(179, 13)\n"
     ]
    }
   ],
   "source": [
    "# 결측치 있는 컬럼 : deck, age, embark town, embarked\n",
    "# 결측치 대체 및 제거 방법 \n",
    "# 방법 1  : deck 컬럼 제거\n",
    "x_train.drop(columns=['deck'], axis=1,inplace=True)\n",
    "x_test.drop(columns=['deck'], axis=1,inplace=True)\n",
    "\n",
    "print(x_train.shape)\n",
    "print(x_test.shape)"
   ]
  },
  {
   "cell_type": "code",
   "execution_count": 152,
   "metadata": {},
   "outputs": [],
   "source": [
    "# 방법 2 카테고리 추가 및 결측치 대체 \n",
    "# x_train['deck'] = x_train['deck'].cat.add_categories('N')\n",
    "# x_test['deck'] = x_test['deck'].cat.add_categories('N')\n",
    "\n",
    "# x_train['deck'] = x_train['deck'].fillna('N')\n",
    "# x_test['deck'] = x_test['deck'].fillna('N')\n",
    "\n",
    "# print(x_train['deck'].value_counts())\n",
    "# print(x_test['deck'].value_counts())"
   ]
  },
  {
   "cell_type": "code",
   "execution_count": 153,
   "metadata": {},
   "outputs": [
    {
     "name": "stdout",
     "output_type": "stream",
     "text": [
      "28.0\n"
     ]
    }
   ],
   "source": [
    "# age 컬럼은 x 데이터의 median 값으로 대체 \n",
    "age_median = x['age'].median()\n",
    "print(age_median)\n",
    "x_train['age']=x_train['age'].fillna(age_median)\n",
    "x_test['age'] = x_test['age'].fillna(age_median)"
   ]
  },
  {
   "cell_type": "code",
   "execution_count": 154,
   "metadata": {},
   "outputs": [
    {
     "name": "stdout",
     "output_type": "stream",
     "text": [
      "Southampton\n"
     ]
    }
   ],
   "source": [
    "# 방법 3 embark_town 컬럼 최빈값으로 대체\n",
    "embark_mode = x['embark_town'].mode()[0]\n",
    "print(embark_mode)\n",
    "x_train['embark_town'] = x_train['embark_town'].fillna(embark_mode)\n",
    "x_test['embark_town'] = x_test['embark_town'].fillna(embark_mode)\n"
   ]
  },
  {
   "cell_type": "code",
   "execution_count": 155,
   "metadata": {},
   "outputs": [
    {
     "name": "stdout",
     "output_type": "stream",
     "text": [
      "S\n"
     ]
    }
   ],
   "source": [
    "# embarked 컬럼 최빈값으로 대체 \n",
    "embarked_mode = x['embarked'].mode()[0]\n",
    "print(embarked_mode)\n",
    "x_train['embarked'] = x_train['embarked'].fillna(embark_mode)\n",
    "x_test['embarked'] = x_test['embarked'].fillna(embarked_mode)\n",
    "\n"
   ]
  },
  {
   "cell_type": "code",
   "execution_count": 156,
   "metadata": {},
   "outputs": [
    {
     "name": "stdout",
     "output_type": "stream",
     "text": [
      "pclass         0\n",
      "sex            0\n",
      "age            0\n",
      "sibsp          0\n",
      "parch          0\n",
      "fare           0\n",
      "embarked       0\n",
      "class          0\n",
      "who            0\n",
      "adult_male     0\n",
      "embark_town    0\n",
      "alive          0\n",
      "alone          0\n",
      "dtype: int64\n",
      "-------------------------\n",
      "pclass         0\n",
      "sex            0\n",
      "age            0\n",
      "sibsp          0\n",
      "parch          0\n",
      "fare           0\n",
      "embarked       0\n",
      "class          0\n",
      "who            0\n",
      "adult_male     0\n",
      "embark_town    0\n",
      "alive          0\n",
      "alone          0\n",
      "dtype: int64\n"
     ]
    }
   ],
   "source": [
    "# 전처리 결과 확인 - 결측치 대체 잘 됐는지 확인 \n",
    "print(x_train.isnull().sum())\n",
    "print('-------------------------')\n",
    "print(x_test.isnull().sum())"
   ]
  },
  {
   "cell_type": "code",
   "execution_count": 157,
   "metadata": {},
   "outputs": [],
   "source": [
    "# 중복되는 변수 drop 처리\n",
    "x_train.drop(columns=['class','embark_town','alive'],axis=1, inplace = True)\n",
    "x_test.drop(columns=['class','embark_town','alive'], axis=1, inplace = True)"
   ]
  },
  {
   "cell_type": "code",
   "execution_count": 158,
   "metadata": {},
   "outputs": [
    {
     "name": "stdout",
     "output_type": "stream",
     "text": [
      "(712, 16)\n",
      "(179, 15)\n"
     ]
    }
   ],
   "source": [
    "# 범주형 데이터 원핫인코딩 적용\n",
    "x_train = pd.get_dummies(x_train)\n",
    "x_test = pd.get_dummies(x_test)\n",
    "\n",
    "print(x_train.shape)\n",
    "print(x_test.shape)"
   ]
  },
  {
   "cell_type": "code",
   "execution_count": 159,
   "metadata": {},
   "outputs": [
    {
     "data": {
      "text/html": [
       "<div>\n",
       "<style scoped>\n",
       "    .dataframe tbody tr th:only-of-type {\n",
       "        vertical-align: middle;\n",
       "    }\n",
       "\n",
       "    .dataframe tbody tr th {\n",
       "        vertical-align: top;\n",
       "    }\n",
       "\n",
       "    .dataframe thead th {\n",
       "        text-align: right;\n",
       "    }\n",
       "</style>\n",
       "<table border=\"1\" class=\"dataframe\">\n",
       "  <thead>\n",
       "    <tr style=\"text-align: right;\">\n",
       "      <th></th>\n",
       "      <th>pclass</th>\n",
       "      <th>age</th>\n",
       "      <th>sibsp</th>\n",
       "      <th>parch</th>\n",
       "      <th>fare</th>\n",
       "      <th>adult_male</th>\n",
       "      <th>alone</th>\n",
       "      <th>sex_female</th>\n",
       "      <th>sex_male</th>\n",
       "      <th>embarked_C</th>\n",
       "      <th>embarked_Q</th>\n",
       "      <th>embarked_S</th>\n",
       "      <th>embarked_Southampton</th>\n",
       "      <th>who_child</th>\n",
       "      <th>who_man</th>\n",
       "      <th>who_woman</th>\n",
       "    </tr>\n",
       "  </thead>\n",
       "  <tbody>\n",
       "    <tr>\n",
       "      <th>3</th>\n",
       "      <td>1</td>\n",
       "      <td>35.0</td>\n",
       "      <td>1</td>\n",
       "      <td>0</td>\n",
       "      <td>53.10</td>\n",
       "      <td>False</td>\n",
       "      <td>False</td>\n",
       "      <td>1</td>\n",
       "      <td>0</td>\n",
       "      <td>0</td>\n",
       "      <td>0</td>\n",
       "      <td>1</td>\n",
       "      <td>0</td>\n",
       "      <td>0</td>\n",
       "      <td>0</td>\n",
       "      <td>1</td>\n",
       "    </tr>\n",
       "    <tr>\n",
       "      <th>517</th>\n",
       "      <td>3</td>\n",
       "      <td>28.0</td>\n",
       "      <td>0</td>\n",
       "      <td>0</td>\n",
       "      <td>24.15</td>\n",
       "      <td>True</td>\n",
       "      <td>True</td>\n",
       "      <td>0</td>\n",
       "      <td>1</td>\n",
       "      <td>0</td>\n",
       "      <td>1</td>\n",
       "      <td>0</td>\n",
       "      <td>0</td>\n",
       "      <td>0</td>\n",
       "      <td>1</td>\n",
       "      <td>0</td>\n",
       "    </tr>\n",
       "    <tr>\n",
       "      <th>861</th>\n",
       "      <td>2</td>\n",
       "      <td>21.0</td>\n",
       "      <td>1</td>\n",
       "      <td>0</td>\n",
       "      <td>11.50</td>\n",
       "      <td>True</td>\n",
       "      <td>False</td>\n",
       "      <td>0</td>\n",
       "      <td>1</td>\n",
       "      <td>0</td>\n",
       "      <td>0</td>\n",
       "      <td>1</td>\n",
       "      <td>0</td>\n",
       "      <td>0</td>\n",
       "      <td>1</td>\n",
       "      <td>0</td>\n",
       "    </tr>\n",
       "    <tr>\n",
       "      <th>487</th>\n",
       "      <td>1</td>\n",
       "      <td>58.0</td>\n",
       "      <td>0</td>\n",
       "      <td>0</td>\n",
       "      <td>29.70</td>\n",
       "      <td>True</td>\n",
       "      <td>True</td>\n",
       "      <td>0</td>\n",
       "      <td>1</td>\n",
       "      <td>1</td>\n",
       "      <td>0</td>\n",
       "      <td>0</td>\n",
       "      <td>0</td>\n",
       "      <td>0</td>\n",
       "      <td>1</td>\n",
       "      <td>0</td>\n",
       "    </tr>\n",
       "    <tr>\n",
       "      <th>58</th>\n",
       "      <td>2</td>\n",
       "      <td>5.0</td>\n",
       "      <td>1</td>\n",
       "      <td>2</td>\n",
       "      <td>27.75</td>\n",
       "      <td>False</td>\n",
       "      <td>False</td>\n",
       "      <td>1</td>\n",
       "      <td>0</td>\n",
       "      <td>0</td>\n",
       "      <td>0</td>\n",
       "      <td>1</td>\n",
       "      <td>0</td>\n",
       "      <td>1</td>\n",
       "      <td>0</td>\n",
       "      <td>0</td>\n",
       "    </tr>\n",
       "  </tbody>\n",
       "</table>\n",
       "</div>"
      ],
      "text/plain": [
       "     pclass   age  sibsp  parch   fare  adult_male  alone  sex_female  \\\n",
       "3         1  35.0      1      0  53.10       False  False           1   \n",
       "517       3  28.0      0      0  24.15        True   True           0   \n",
       "861       2  21.0      1      0  11.50        True  False           0   \n",
       "487       1  58.0      0      0  29.70        True   True           0   \n",
       "58        2   5.0      1      2  27.75       False  False           1   \n",
       "\n",
       "     sex_male  embarked_C  embarked_Q  embarked_S  embarked_Southampton  \\\n",
       "3           0           0           0           1                     0   \n",
       "517         1           0           1           0                     0   \n",
       "861         1           0           0           1                     0   \n",
       "487         1           1           0           0                     0   \n",
       "58          0           0           0           1                     0   \n",
       "\n",
       "     who_child  who_man  who_woman  \n",
       "3            0        0          1  \n",
       "517          0        1          0  \n",
       "861          0        1          0  \n",
       "487          0        1          0  \n",
       "58           1        0          0  "
      ]
     },
     "execution_count": 159,
     "metadata": {},
     "output_type": "execute_result"
    }
   ],
   "source": [
    "x_train.head()"
   ]
  },
  {
   "cell_type": "code",
   "execution_count": 160,
   "metadata": {},
   "outputs": [
    {
     "name": "stdout",
     "output_type": "stream",
     "text": [
      "Index(['pclass', 'age', 'sibsp', 'parch', 'fare', 'adult_male', 'alone',\n",
      "       'sex_female', 'sex_male', 'embarked_C', 'embarked_Q', 'embarked_S',\n",
      "       'embarked_Southampton', 'who_child', 'who_man', 'who_woman'],\n",
      "      dtype='object')\n",
      "Index(['pclass', 'age', 'sibsp', 'parch', 'fare', 'adult_male', 'alone',\n",
      "       'sex_female', 'sex_male', 'embarked_C', 'embarked_Q', 'embarked_S',\n",
      "       'who_child', 'who_man', 'who_woman'],\n",
      "      dtype='object')\n"
     ]
    }
   ],
   "source": [
    "print(x_train.columns)\n",
    "print(x_test.columns)\n"
   ]
  },
  {
   "cell_type": "code",
   "execution_count": null,
   "metadata": {},
   "outputs": [],
   "source": [
    "# 원핫인코딩 후 feature 변수가 다른 경우\n",
    "# reindex 활용\n",
    "\n",
    "x_train = x_train.reindex(columns = x_test.columns, fill_value=0)"
   ]
  },
  {
   "cell_type": "code",
   "execution_count": 162,
   "metadata": {},
   "outputs": [
    {
     "name": "stdout",
     "output_type": "stream",
     "text": [
      "(712, 15)\n",
      "(179, 15)\n"
     ]
    }
   ],
   "source": [
    "x_train = pd.get_dummies(x_train)\n",
    "x_test = pd.get_dummies(x_test)\n",
    "\n",
    "print(x_train.shape)\n",
    "print(x_test.shape)"
   ]
  },
  {
   "cell_type": "code",
   "execution_count": 163,
   "metadata": {},
   "outputs": [
    {
     "name": "stdout",
     "output_type": "stream",
     "text": [
      "Index(['pclass', 'age', 'sibsp', 'parch', 'fare', 'adult_male', 'alone',\n",
      "       'sex_female', 'sex_male', 'embarked_C', 'embarked_Q', 'embarked_S',\n",
      "       'who_child', 'who_man', 'who_woman'],\n",
      "      dtype='object')\n",
      "Index(['pclass', 'age', 'sibsp', 'parch', 'fare', 'adult_male', 'alone',\n",
      "       'sex_female', 'sex_male', 'embarked_C', 'embarked_Q', 'embarked_S',\n",
      "       'who_child', 'who_man', 'who_woman'],\n",
      "      dtype='object')\n"
     ]
    }
   ],
   "source": [
    "print(x_train.columns)\n",
    "print(x_test.columns)\n"
   ]
  },
  {
   "cell_type": "code",
   "execution_count": 164,
   "metadata": {},
   "outputs": [
    {
     "data": {
      "text/html": [
       "<div>\n",
       "<style scoped>\n",
       "    .dataframe tbody tr th:only-of-type {\n",
       "        vertical-align: middle;\n",
       "    }\n",
       "\n",
       "    .dataframe tbody tr th {\n",
       "        vertical-align: top;\n",
       "    }\n",
       "\n",
       "    .dataframe thead th {\n",
       "        text-align: right;\n",
       "    }\n",
       "</style>\n",
       "<table border=\"1\" class=\"dataframe\">\n",
       "  <thead>\n",
       "    <tr style=\"text-align: right;\">\n",
       "      <th></th>\n",
       "      <th>pclass</th>\n",
       "      <th>age</th>\n",
       "      <th>sibsp</th>\n",
       "      <th>parch</th>\n",
       "      <th>fare</th>\n",
       "      <th>adult_male</th>\n",
       "      <th>alone</th>\n",
       "      <th>sex_female</th>\n",
       "      <th>sex_male</th>\n",
       "      <th>embarked_C</th>\n",
       "      <th>embarked_Q</th>\n",
       "      <th>embarked_S</th>\n",
       "      <th>who_child</th>\n",
       "      <th>who_man</th>\n",
       "      <th>who_woman</th>\n",
       "    </tr>\n",
       "  </thead>\n",
       "  <tbody>\n",
       "    <tr>\n",
       "      <th>3</th>\n",
       "      <td>1</td>\n",
       "      <td>35.0</td>\n",
       "      <td>1</td>\n",
       "      <td>0</td>\n",
       "      <td>53.10</td>\n",
       "      <td>False</td>\n",
       "      <td>False</td>\n",
       "      <td>1</td>\n",
       "      <td>0</td>\n",
       "      <td>0</td>\n",
       "      <td>0</td>\n",
       "      <td>1</td>\n",
       "      <td>0</td>\n",
       "      <td>0</td>\n",
       "      <td>1</td>\n",
       "    </tr>\n",
       "    <tr>\n",
       "      <th>517</th>\n",
       "      <td>3</td>\n",
       "      <td>28.0</td>\n",
       "      <td>0</td>\n",
       "      <td>0</td>\n",
       "      <td>24.15</td>\n",
       "      <td>True</td>\n",
       "      <td>True</td>\n",
       "      <td>0</td>\n",
       "      <td>1</td>\n",
       "      <td>0</td>\n",
       "      <td>1</td>\n",
       "      <td>0</td>\n",
       "      <td>0</td>\n",
       "      <td>1</td>\n",
       "      <td>0</td>\n",
       "    </tr>\n",
       "    <tr>\n",
       "      <th>861</th>\n",
       "      <td>2</td>\n",
       "      <td>21.0</td>\n",
       "      <td>1</td>\n",
       "      <td>0</td>\n",
       "      <td>11.50</td>\n",
       "      <td>True</td>\n",
       "      <td>False</td>\n",
       "      <td>0</td>\n",
       "      <td>1</td>\n",
       "      <td>0</td>\n",
       "      <td>0</td>\n",
       "      <td>1</td>\n",
       "      <td>0</td>\n",
       "      <td>1</td>\n",
       "      <td>0</td>\n",
       "    </tr>\n",
       "    <tr>\n",
       "      <th>487</th>\n",
       "      <td>1</td>\n",
       "      <td>58.0</td>\n",
       "      <td>0</td>\n",
       "      <td>0</td>\n",
       "      <td>29.70</td>\n",
       "      <td>True</td>\n",
       "      <td>True</td>\n",
       "      <td>0</td>\n",
       "      <td>1</td>\n",
       "      <td>1</td>\n",
       "      <td>0</td>\n",
       "      <td>0</td>\n",
       "      <td>0</td>\n",
       "      <td>1</td>\n",
       "      <td>0</td>\n",
       "    </tr>\n",
       "    <tr>\n",
       "      <th>58</th>\n",
       "      <td>2</td>\n",
       "      <td>5.0</td>\n",
       "      <td>1</td>\n",
       "      <td>2</td>\n",
       "      <td>27.75</td>\n",
       "      <td>False</td>\n",
       "      <td>False</td>\n",
       "      <td>1</td>\n",
       "      <td>0</td>\n",
       "      <td>0</td>\n",
       "      <td>0</td>\n",
       "      <td>1</td>\n",
       "      <td>1</td>\n",
       "      <td>0</td>\n",
       "      <td>0</td>\n",
       "    </tr>\n",
       "  </tbody>\n",
       "</table>\n",
       "</div>"
      ],
      "text/plain": [
       "     pclass   age  sibsp  parch   fare  adult_male  alone  sex_female  \\\n",
       "3         1  35.0      1      0  53.10       False  False           1   \n",
       "517       3  28.0      0      0  24.15        True   True           0   \n",
       "861       2  21.0      1      0  11.50        True  False           0   \n",
       "487       1  58.0      0      0  29.70        True   True           0   \n",
       "58        2   5.0      1      2  27.75       False  False           1   \n",
       "\n",
       "     sex_male  embarked_C  embarked_Q  embarked_S  who_child  who_man  \\\n",
       "3           0           0           0           1          0        0   \n",
       "517         1           0           1           0          0        1   \n",
       "861         1           0           0           1          0        1   \n",
       "487         1           1           0           0          0        1   \n",
       "58          0           0           0           1          1        0   \n",
       "\n",
       "     who_woman  \n",
       "3            1  \n",
       "517          0  \n",
       "861          0  \n",
       "487          0  \n",
       "58           0  "
      ]
     },
     "execution_count": 164,
     "metadata": {},
     "output_type": "execute_result"
    }
   ],
   "source": [
    "x_train.head()"
   ]
  },
  {
   "cell_type": "code",
   "execution_count": 165,
   "metadata": {},
   "outputs": [
    {
     "data": {
      "text/plain": [
       "RandomForestClassifier()"
      ]
     },
     "execution_count": 165,
     "metadata": {},
     "output_type": "execute_result"
    }
   ],
   "source": [
    "# 모델링 및 성능평가\n",
    "model = RandomForestClassifier()\n",
    "model.fit(x_train,y_train['target'])\n"
   ]
  },
  {
   "cell_type": "code",
   "execution_count": 166,
   "metadata": {},
   "outputs": [
    {
     "name": "stdout",
     "output_type": "stream",
     "text": [
      "0.8321678321678322\n",
      "0.8227272727272728\n",
      "0.8227272727272728\n"
     ]
    }
   ],
   "source": [
    "# 모델검증\n",
    "x_train, x_val, y_train,y_val = train_test_split(x_train,y_train['target'],stratify=y_train['target'], test_size=0.2, random_state=2024)\n",
    "\n",
    "model_val = RandomForestClassifier()\n",
    "model_val.fit(x_train,y_train)\n",
    "\n",
    "y_pred = model_val.predict(x_val)\n",
    "\n",
    "accuracy = accuracy_score(y_val, y_pred)\n",
    "f1_s = f1_score(y_val,y_pred,average='macro')\n",
    "roc_auc = roc_auc_score(y_val, y_pred)\n",
    "\n",
    "print(accuracy)\n",
    "print(f1_s)\n",
    "print(roc_auc)\n"
   ]
  },
  {
   "cell_type": "code",
   "execution_count": 167,
   "metadata": {},
   "outputs": [],
   "source": [
    "# 예측값 도출 및 결과 제출\n",
    "y_result = model.predict(x_test)\n",
    "\n",
    "result = pd.DataFrame({\"cust_id\":cust_id, \"result\" : y_result})\n",
    "\n",
    "# print(result)\n",
    "\n",
    "result.to_csv('test_result.csv', index=False)\n"
   ]
  },
  {
   "cell_type": "code",
   "execution_count": 168,
   "metadata": {},
   "outputs": [
    {
     "name": "stdout",
     "output_type": "stream",
     "text": [
      "     cust_id  result\n",
      "0        800       0\n",
      "1        341       1\n",
      "2        413       0\n",
      "3        575       0\n",
      "4        202       0\n",
      "..       ...     ...\n",
      "174      402       0\n",
      "175       70       0\n",
      "176       53       1\n",
      "177      743       0\n",
      "178      410       0\n",
      "\n",
      "[179 rows x 2 columns]\n"
     ]
    }
   ],
   "source": [
    "print(pd.read_csv('test_result.csv'))"
   ]
  },
  {
   "cell_type": "code",
   "execution_count": 169,
   "metadata": {},
   "outputs": [
    {
     "name": "stdout",
     "output_type": "stream",
     "text": [
      "0.7821229050279329 0.7153284671532847 0.7687088274044797\n"
     ]
    }
   ],
   "source": [
    "# 최종성능 확인\n",
    "accuracy= accuracy_score(y_test,y_result)\n",
    "f1 = f1_score(y_test,y_result)\n",
    "roc_auc = roc_auc_score(y_test,y_result)\n",
    "\n",
    "print(accuracy,f1,roc_auc)"
   ]
  },
  {
   "cell_type": "code",
   "execution_count": null,
   "metadata": {},
   "outputs": [
    {
     "name": "stdout",
     "output_type": "stream",
     "text": [
      "[[91 19]\n",
      " [20 49]]\n"
     ]
    }
   ],
   "source": [
    "## 참고사항 혼동행렬\n",
    "from sklearn.metrics import confusion_matrix\n",
    "cm = confusion_matrix(y_test,y_result)\n",
    "\n",
    "print(cm)\n",
    "\n",
    "\n",
    "# 읽는 방법\n",
    "#               예측\n",
    "#             0     1\n",
    "#   실    0   TN    FP\n",
    "#   제    0   FN    TP "
   ]
  }
 ],
 "metadata": {
  "kernelspec": {
   "display_name": "base",
   "language": "python",
   "name": "python3"
  },
  "language_info": {
   "codemirror_mode": {
    "name": "ipython",
    "version": 3
   },
   "file_extension": ".py",
   "mimetype": "text/x-python",
   "name": "python",
   "nbconvert_exporter": "python",
   "pygments_lexer": "ipython3",
   "version": "3.9.12"
  }
 },
 "nbformat": 4,
 "nbformat_minor": 2
}
