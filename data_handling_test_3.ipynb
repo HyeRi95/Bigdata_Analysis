{
 "cells": [
  {
   "cell_type": "markdown",
   "metadata": {
    "vscode": {
     "languageId": "plaintext"
    }
   },
   "source": [
    "## 문제풀이 21 - 27"
   ]
  },
  {
   "cell_type": "code",
   "execution_count": 34,
   "metadata": {},
   "outputs": [],
   "source": [
    "import pandas as pd\n",
    "import numpy as np\n",
    "from sklearn.preprocessing import MinMaxScaler,StandardScaler"
   ]
  },
  {
   "cell_type": "markdown",
   "metadata": {},
   "source": [
    "- 문제 21. 22년 1분기 A제품의 매출액을 구하시오\n",
    "- 매출액 = 판매수*개당수익"
   ]
  },
  {
   "cell_type": "code",
   "execution_count": 35,
   "metadata": {},
   "outputs": [],
   "source": [
    "# 데이터 생성\n",
    "df = pd.DataFrame({\n",
    "    '날짜' : ['20220103','20220105', '20230105','20230127','20220203', '20220205','20230210','20230223','20230312','20230422','20220505','20230511'],\n",
    "    '제품' : ['A','B', 'A', 'B', 'A', 'B','A', 'B', 'A', 'B', 'A', 'A'],\n",
    "    '판매수': [3, 5, 5, 10, 10, 10, 15, 15, 20, 25, 30, 40],\n",
    "    '개당수익': [300, 400, 500, 600, 400, 500, 500, 600, 600, 700, 600, 600] \n",
    "})"
   ]
  },
  {
   "cell_type": "code",
   "execution_count": 36,
   "metadata": {},
   "outputs": [
    {
     "data": {
      "text/plain": [
       "4900"
      ]
     },
     "execution_count": 36,
     "metadata": {},
     "output_type": "execute_result"
    }
   ],
   "source": [
    "df21 = df.copy()\n",
    "df21['매출액'] = df21['판매수']*df21['개당수익']\n",
    "df21['날짜'] = pd.to_datetime(df21['날짜'])\n",
    "df21['year'] = df21['날짜'].dt.year\n",
    "df21['month'] = df21['날짜'].dt.month\n",
    "df21['day'] = df21['날짜'].dt.day\n",
    "\n",
    "# 22년 1분기 제품 A\n",
    "df21[(df21['year']==2022)&(df21['month'] < 4)&(df21['제품']=='A')]['매출액'].sum()\n",
    "\n"
   ]
  },
  {
   "cell_type": "code",
   "execution_count": 37,
   "metadata": {},
   "outputs": [
    {
     "name": "stdout",
     "output_type": "stream",
     "text": [
      "4900\n"
     ]
    }
   ],
   "source": [
    "# 다른풀이\n",
    "df21_1 = df.copy()\n",
    "\n",
    "df21_1['날짜'] = pd.to_datetime(df21_1['날짜'])\n",
    "\n",
    "df21_1['매출액'] = df21_1['판매수']*df21_1['개당수익']\n",
    "\n",
    "df_after = df21_1[df21_1['날짜'].between('2022-01-01', '2022-04-01')] # 4월 1일 미포함\n",
    "print(df_after['매출액'][df21_1['제품']=='A'].sum())"
   ]
  },
  {
   "cell_type": "code",
   "execution_count": 38,
   "metadata": {},
   "outputs": [
    {
     "name": "stdout",
     "output_type": "stream",
     "text": [
      "4900\n"
     ]
    }
   ],
   "source": [
    "# 다른풀이 2 \n",
    "df21_2 = df.copy()\n",
    "df21_2['날짜'] = pd.to_datetime(df21_2['날짜'])\n",
    "df21_2['매출액'] = df21_2['판매수']*df21_2['개당수익']\n",
    "df21_2 = df21_2.set_index('날짜')\n",
    "df_alter = df21_2.loc[(df21_2.index<='2022-03-31')&(df21_2.index>='2022-01-01')]\n",
    "print(df_alter['매출액'][df21_2['제품']=='A'].sum())\n"
   ]
  },
  {
   "cell_type": "markdown",
   "metadata": {},
   "source": [
    "- 문제 22 22년과 23년의 총 매출액 차이를 절대값으로 구하시오\n",
    "- 매출액 = 판매수 * 개당수익"
   ]
  },
  {
   "cell_type": "code",
   "execution_count": 39,
   "metadata": {},
   "outputs": [
    {
     "name": "stdout",
     "output_type": "stream",
     "text": [
      "48600\n"
     ]
    }
   ],
   "source": [
    "\n",
    "df22 = df.copy()\n",
    "df22['매출액'] = df22['판매수']*df22['개당수익']\n",
    "df22['날짜'] = pd.to_datetime(df22['날짜'])\n",
    "df22['year'] = df22['날짜'].dt.year\n",
    "df22['month'] = df22['날짜'].dt.month\n",
    "df22['day'] = df22['날짜'].dt.day\n",
    "cond1 = (df22['year'] == 2022)\n",
    "cond2 = (df22['year'] == 2023)\n",
    "total_22 = df22[cond1]['매출액'].sum()\n",
    "total_23 = df22[cond2]['매출액'].sum()\n",
    "print(abs(total_23-total_22))"
   ]
  },
  {
   "cell_type": "markdown",
   "metadata": {},
   "source": [
    "- 문제 23 : 23년 총 매출액이 큰 제품의 23년 판매수를 구하시오\n",
    " - 매출액 = 판매수 * 개당수익"
   ]
  },
  {
   "cell_type": "code",
   "execution_count": 44,
   "metadata": {},
   "outputs": [
    {
     "data": {
      "text/plain": [
       "80"
      ]
     },
     "execution_count": 44,
     "metadata": {},
     "output_type": "execute_result"
    }
   ],
   "source": [
    "df23 = df.copy()\n",
    "df23['매출액'] = df23['판매수']*df23['개당수익']\n",
    "df23['날짜'] = pd.to_datetime(df23['날짜'])\n",
    "df23['year'] = df23['날짜'].dt.year\n",
    "df23_g = df23[df23['year']==2023].groupby(['제품']).sum()\n",
    "df23_g[df23_g['매출액'] == df23_g['매출액'].max()]['판매수'].iloc[0]"
   ]
  },
  {
   "cell_type": "code",
   "execution_count": 41,
   "metadata": {},
   "outputs": [
    {
     "name": "stdout",
     "output_type": "stream",
     "text": [
      "A 80\n"
     ]
    }
   ],
   "source": [
    "# 다른풀이 \n",
    "df23_1 = df.copy()\n",
    "df23_1['매출액'] = df23_1['판매수']*df23_1['개당수익']\n",
    "df23_1['날짜'] = pd.to_datetime(df23_1['날짜'])\n",
    "df23_1['year'] = df23_1['날짜'].dt.year\n",
    "\n",
    "cond_2023 = (df23_1['year'] ==2023)\n",
    "cond_a = (df23_1['제품']=='A')\n",
    "cond_b = (df23_1['제품']=='B')\n",
    "\n",
    "total_a = df23_1['매출액'][cond_2023&cond_a].sum()\n",
    "total_b = df23_1['매출액'][cond_2023&cond_b].sum()\n",
    "\n",
    "if total_a > total_b : \n",
    "    print(df['제품'][cond_2023&cond_a].iloc[0], df23['판매수'][cond_2023&cond_a].sum())\n",
    "else : \n",
    "    print(df['제품'][cond_2023&cond_b].iloc[0], df23['판매수'][cond_2023&cond_b].sum())"
   ]
  },
  {
   "cell_type": "markdown",
   "metadata": {},
   "source": [
    "- 문제24 매출액이 4천원 초과, 1만원 미만인 데이터 수를 출력 하시오\n",
    "- 매출액 = 판매수 * 개당수익"
   ]
  },
  {
   "cell_type": "code",
   "execution_count": 52,
   "metadata": {},
   "outputs": [
    {
     "data": {
      "text/plain": [
       "4"
      ]
     },
     "execution_count": 52,
     "metadata": {},
     "output_type": "execute_result"
    }
   ],
   "source": [
    "df24 = df.copy()\n",
    "df24['매출액'] = df24['판매수']*df24['개당수익']\n",
    "len(df24[(df24['매출액']>4000)&(df24['매출액']<10000)])\n"
   ]
  },
  {
   "cell_type": "code",
   "execution_count": 53,
   "metadata": {},
   "outputs": [
    {
     "name": "stdout",
     "output_type": "stream",
     "text": [
      "<class 'pandas.core.frame.DataFrame'>\n",
      "RangeIndex: 7 entries, 0 to 6\n",
      "Data columns (total 4 columns):\n",
      " #   Column  Non-Null Count  Dtype         \n",
      "---  ------  --------------  -----         \n",
      " 0   time    7 non-null      datetime64[ns]\n",
      " 1   물품      7 non-null      object        \n",
      " 2   판매수     7 non-null      int64         \n",
      " 3   개당수익    7 non-null      int64         \n",
      "dtypes: datetime64[ns](1), int64(2), object(1)\n",
      "memory usage: 352.0+ bytes\n",
      "None\n"
     ]
    },
    {
     "data": {
      "text/html": [
       "<div>\n",
       "<style scoped>\n",
       "    .dataframe tbody tr th:only-of-type {\n",
       "        vertical-align: middle;\n",
       "    }\n",
       "\n",
       "    .dataframe tbody tr th {\n",
       "        vertical-align: top;\n",
       "    }\n",
       "\n",
       "    .dataframe thead th {\n",
       "        text-align: right;\n",
       "    }\n",
       "</style>\n",
       "<table border=\"1\" class=\"dataframe\">\n",
       "  <thead>\n",
       "    <tr style=\"text-align: right;\">\n",
       "      <th></th>\n",
       "      <th>time</th>\n",
       "      <th>물품</th>\n",
       "      <th>판매수</th>\n",
       "      <th>개당수익</th>\n",
       "    </tr>\n",
       "  </thead>\n",
       "  <tbody>\n",
       "    <tr>\n",
       "      <th>0</th>\n",
       "      <td>2023-09-24 12:25:00</td>\n",
       "      <td>A</td>\n",
       "      <td>5</td>\n",
       "      <td>500</td>\n",
       "    </tr>\n",
       "    <tr>\n",
       "      <th>1</th>\n",
       "      <td>2023-09-24 16:48:25</td>\n",
       "      <td>B</td>\n",
       "      <td>10</td>\n",
       "      <td>600</td>\n",
       "    </tr>\n",
       "    <tr>\n",
       "      <th>2</th>\n",
       "      <td>2023-09-24 21:11:50</td>\n",
       "      <td>A</td>\n",
       "      <td>15</td>\n",
       "      <td>500</td>\n",
       "    </tr>\n",
       "    <tr>\n",
       "      <th>3</th>\n",
       "      <td>2023-09-25 01:35:15</td>\n",
       "      <td>B</td>\n",
       "      <td>15</td>\n",
       "      <td>600</td>\n",
       "    </tr>\n",
       "    <tr>\n",
       "      <th>4</th>\n",
       "      <td>2023-09-25 05:58:40</td>\n",
       "      <td>A</td>\n",
       "      <td>20</td>\n",
       "      <td>600</td>\n",
       "    </tr>\n",
       "  </tbody>\n",
       "</table>\n",
       "</div>"
      ],
      "text/plain": [
       "                 time 물품  판매수  개당수익\n",
       "0 2023-09-24 12:25:00  A    5   500\n",
       "1 2023-09-24 16:48:25  B   10   600\n",
       "2 2023-09-24 21:11:50  A   15   500\n",
       "3 2023-09-25 01:35:15  B   15   600\n",
       "4 2023-09-25 05:58:40  A   20   600"
      ]
     },
     "execution_count": 53,
     "metadata": {},
     "output_type": "execute_result"
    }
   ],
   "source": [
    "df = pd.DataFrame( {\n",
    "    '물품' : ['A', 'B', 'A', 'B', 'A', 'B', 'A'],\n",
    "    '판매수': [5, 10, 15, 15, 20, 25, 40],\n",
    "    '개당수익': [500, 600, 500, 600, 600, 700, 600] })\n",
    "time = pd.date_range('2023-09-24 12:25:00','2023-09-25 14:45:30', periods= 7)\n",
    "df['time']=time\n",
    "df = df[ ['time','물품','판매수','개당수익']]\n",
    "\n",
    "print(df.info())\n",
    "df.head()"
   ]
  },
  {
   "cell_type": "markdown",
   "metadata": {},
   "source": [
    "- 문제25 : 23년 9월 24일 16:00~22:00 사이에 전체 제품의 판매수를 구하시오.\n"
   ]
  },
  {
   "cell_type": "code",
   "execution_count": 56,
   "metadata": {},
   "outputs": [
    {
     "data": {
      "text/html": [
       "<div>\n",
       "<style scoped>\n",
       "    .dataframe tbody tr th:only-of-type {\n",
       "        vertical-align: middle;\n",
       "    }\n",
       "\n",
       "    .dataframe tbody tr th {\n",
       "        vertical-align: top;\n",
       "    }\n",
       "\n",
       "    .dataframe thead th {\n",
       "        text-align: right;\n",
       "    }\n",
       "</style>\n",
       "<table border=\"1\" class=\"dataframe\">\n",
       "  <thead>\n",
       "    <tr style=\"text-align: right;\">\n",
       "      <th></th>\n",
       "      <th>time</th>\n",
       "      <th>물품</th>\n",
       "      <th>판매수</th>\n",
       "      <th>개당수익</th>\n",
       "      <th>year</th>\n",
       "    </tr>\n",
       "  </thead>\n",
       "  <tbody>\n",
       "    <tr>\n",
       "      <th>0</th>\n",
       "      <td>2023-09-24 12:25:00</td>\n",
       "      <td>A</td>\n",
       "      <td>5</td>\n",
       "      <td>500</td>\n",
       "      <td>2023</td>\n",
       "    </tr>\n",
       "    <tr>\n",
       "      <th>1</th>\n",
       "      <td>2023-09-24 16:48:25</td>\n",
       "      <td>B</td>\n",
       "      <td>10</td>\n",
       "      <td>600</td>\n",
       "      <td>2023</td>\n",
       "    </tr>\n",
       "    <tr>\n",
       "      <th>2</th>\n",
       "      <td>2023-09-24 21:11:50</td>\n",
       "      <td>A</td>\n",
       "      <td>15</td>\n",
       "      <td>500</td>\n",
       "      <td>2023</td>\n",
       "    </tr>\n",
       "    <tr>\n",
       "      <th>3</th>\n",
       "      <td>2023-09-25 01:35:15</td>\n",
       "      <td>B</td>\n",
       "      <td>15</td>\n",
       "      <td>600</td>\n",
       "      <td>2023</td>\n",
       "    </tr>\n",
       "    <tr>\n",
       "      <th>4</th>\n",
       "      <td>2023-09-25 05:58:40</td>\n",
       "      <td>A</td>\n",
       "      <td>20</td>\n",
       "      <td>600</td>\n",
       "      <td>2023</td>\n",
       "    </tr>\n",
       "  </tbody>\n",
       "</table>\n",
       "</div>"
      ],
      "text/plain": [
       "                 time 물품  판매수  개당수익  year\n",
       "0 2023-09-24 12:25:00  A    5   500  2023\n",
       "1 2023-09-24 16:48:25  B   10   600  2023\n",
       "2 2023-09-24 21:11:50  A   15   500  2023\n",
       "3 2023-09-25 01:35:15  B   15   600  2023\n",
       "4 2023-09-25 05:58:40  A   20   600  2023"
      ]
     },
     "execution_count": 56,
     "metadata": {},
     "output_type": "execute_result"
    }
   ],
   "source": [
    "df25 = df.copy()\n",
    "df25['time'] = pd.to_datetime(df25['time'])\n",
    "df['time'] \n"
   ]
  },
  {
   "cell_type": "code",
   "execution_count": null,
   "metadata": {},
   "outputs": [],
   "source": []
  },
  {
   "cell_type": "code",
   "execution_count": null,
   "metadata": {},
   "outputs": [],
   "source": []
  }
 ],
 "metadata": {
  "kernelspec": {
   "display_name": "base",
   "language": "python",
   "name": "python3"
  },
  "language_info": {
   "codemirror_mode": {
    "name": "ipython",
    "version": 3
   },
   "file_extension": ".py",
   "mimetype": "text/x-python",
   "name": "python",
   "nbconvert_exporter": "python",
   "pygments_lexer": "ipython3",
   "version": "3.9.12"
  }
 },
 "nbformat": 4,
 "nbformat_minor": 2
}
