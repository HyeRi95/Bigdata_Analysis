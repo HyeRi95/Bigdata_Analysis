{
 "cells": [
  {
   "cell_type": "markdown",
   "metadata": {
    "vscode": {
     "languageId": "plaintext"
    }
   },
   "source": [
    "## 문제풀이 21 - 27"
   ]
  },
  {
   "cell_type": "code",
   "execution_count": 2,
   "metadata": {},
   "outputs": [],
   "source": [
    "import pandas as pd\n",
    "import numpy as np\n",
    "from sklearn.preprocessing import MinMaxScaler,StandardScaler"
   ]
  },
  {
   "cell_type": "markdown",
   "metadata": {},
   "source": [
    "- 문제 21. 22년 1분기 A제품의 매출액을 구하시오\n",
    "- 매출액 = 판매수*개당수익"
   ]
  },
  {
   "cell_type": "code",
   "execution_count": 4,
   "metadata": {},
   "outputs": [
    {
     "data": {
      "text/html": [
       "<div>\n",
       "<style scoped>\n",
       "    .dataframe tbody tr th:only-of-type {\n",
       "        vertical-align: middle;\n",
       "    }\n",
       "\n",
       "    .dataframe tbody tr th {\n",
       "        vertical-align: top;\n",
       "    }\n",
       "\n",
       "    .dataframe thead th {\n",
       "        text-align: right;\n",
       "    }\n",
       "</style>\n",
       "<table border=\"1\" class=\"dataframe\">\n",
       "  <thead>\n",
       "    <tr style=\"text-align: right;\">\n",
       "      <th></th>\n",
       "      <th>날짜</th>\n",
       "      <th>제품</th>\n",
       "      <th>판매수</th>\n",
       "      <th>개당수익</th>\n",
       "    </tr>\n",
       "  </thead>\n",
       "  <tbody>\n",
       "    <tr>\n",
       "      <th>0</th>\n",
       "      <td>20220103</td>\n",
       "      <td>A</td>\n",
       "      <td>3</td>\n",
       "      <td>300</td>\n",
       "    </tr>\n",
       "    <tr>\n",
       "      <th>1</th>\n",
       "      <td>20220105</td>\n",
       "      <td>B</td>\n",
       "      <td>5</td>\n",
       "      <td>400</td>\n",
       "    </tr>\n",
       "    <tr>\n",
       "      <th>2</th>\n",
       "      <td>20230105</td>\n",
       "      <td>A</td>\n",
       "      <td>5</td>\n",
       "      <td>500</td>\n",
       "    </tr>\n",
       "    <tr>\n",
       "      <th>3</th>\n",
       "      <td>20230127</td>\n",
       "      <td>B</td>\n",
       "      <td>10</td>\n",
       "      <td>600</td>\n",
       "    </tr>\n",
       "    <tr>\n",
       "      <th>4</th>\n",
       "      <td>20220203</td>\n",
       "      <td>A</td>\n",
       "      <td>10</td>\n",
       "      <td>400</td>\n",
       "    </tr>\n",
       "    <tr>\n",
       "      <th>5</th>\n",
       "      <td>20220205</td>\n",
       "      <td>B</td>\n",
       "      <td>10</td>\n",
       "      <td>500</td>\n",
       "    </tr>\n",
       "    <tr>\n",
       "      <th>6</th>\n",
       "      <td>20230210</td>\n",
       "      <td>A</td>\n",
       "      <td>15</td>\n",
       "      <td>500</td>\n",
       "    </tr>\n",
       "    <tr>\n",
       "      <th>7</th>\n",
       "      <td>20230223</td>\n",
       "      <td>B</td>\n",
       "      <td>15</td>\n",
       "      <td>600</td>\n",
       "    </tr>\n",
       "    <tr>\n",
       "      <th>8</th>\n",
       "      <td>20230312</td>\n",
       "      <td>A</td>\n",
       "      <td>20</td>\n",
       "      <td>600</td>\n",
       "    </tr>\n",
       "    <tr>\n",
       "      <th>9</th>\n",
       "      <td>20230422</td>\n",
       "      <td>B</td>\n",
       "      <td>25</td>\n",
       "      <td>700</td>\n",
       "    </tr>\n",
       "    <tr>\n",
       "      <th>10</th>\n",
       "      <td>20220505</td>\n",
       "      <td>A</td>\n",
       "      <td>30</td>\n",
       "      <td>600</td>\n",
       "    </tr>\n",
       "    <tr>\n",
       "      <th>11</th>\n",
       "      <td>20230511</td>\n",
       "      <td>A</td>\n",
       "      <td>40</td>\n",
       "      <td>600</td>\n",
       "    </tr>\n",
       "  </tbody>\n",
       "</table>\n",
       "</div>"
      ],
      "text/plain": [
       "          날짜 제품  판매수  개당수익\n",
       "0   20220103  A    3   300\n",
       "1   20220105  B    5   400\n",
       "2   20230105  A    5   500\n",
       "3   20230127  B   10   600\n",
       "4   20220203  A   10   400\n",
       "5   20220205  B   10   500\n",
       "6   20230210  A   15   500\n",
       "7   20230223  B   15   600\n",
       "8   20230312  A   20   600\n",
       "9   20230422  B   25   700\n",
       "10  20220505  A   30   600\n",
       "11  20230511  A   40   600"
      ]
     },
     "execution_count": 4,
     "metadata": {},
     "output_type": "execute_result"
    }
   ],
   "source": [
    "# 데이터 생성\n",
    "df = pd.DataFrame({\n",
    "    '날짜' : ['20220103','20220105', '20230105','20230127','20220203', '20220205','20230210','20230223','20230312','20230422','20220505','20230511'],\n",
    "    '제품' : ['A','B', 'A', 'B', 'A', 'B','A', 'B', 'A', 'B', 'A', 'A'],\n",
    "    '판매수': [3, 5, 5, 10, 10, 10, 15, 15, 20, 25, 30, 40],\n",
    "    '개당수익': [300, 400, 500, 600, 400, 500, 500, 600, 600, 700, 600, 600] \n",
    "})"
   ]
  },
  {
   "cell_type": "code",
   "execution_count": 17,
   "metadata": {},
   "outputs": [
    {
     "data": {
      "text/plain": [
       "4900"
      ]
     },
     "execution_count": 17,
     "metadata": {},
     "output_type": "execute_result"
    }
   ],
   "source": [
    "df21 = df.copy()\n",
    "df21['매출액'] = df21['판매수']*df21['개당수익']\n",
    "df21['날짜'] = pd.to_datetime(df21['날짜'])\n",
    "df21['year'] = df21['날짜'].dt.year\n",
    "df21['month'] = df21['날짜'].dt.month\n",
    "df21['day'] = df21['날짜'].dt.day\n",
    "\n",
    "# 22년 1분기 제품 A\n",
    "df21[(df21['year']==2022)&(df21['month'] < 4)&(df21['제품']=='A')]['매출액'].sum()\n",
    "\n"
   ]
  },
  {
   "cell_type": "code",
   "execution_count": 18,
   "metadata": {},
   "outputs": [
    {
     "name": "stdout",
     "output_type": "stream",
     "text": [
      "4900\n"
     ]
    }
   ],
   "source": [
    "# 다른풀이\n",
    "df21_1 = df.copy()\n",
    "\n",
    "df21_1['날짜'] = pd.to_datetime(df21_1['날짜'])\n",
    "\n",
    "df21_1['매출액'] = df21_1['판매수']*df21_1['개당수익']\n",
    "\n",
    "df_after = df21_1[df21_1['날짜'].between('2022-01-01', '2022-04-01')] # 4월 1일 미포함\n",
    "print(df_after['매출액'][df21_1['제품']=='A'].sum())"
   ]
  },
  {
   "cell_type": "code",
   "execution_count": 22,
   "metadata": {},
   "outputs": [
    {
     "name": "stdout",
     "output_type": "stream",
     "text": [
      "4900\n"
     ]
    }
   ],
   "source": [
    "# 다른풀이 2 \n",
    "df21_2 = df.copy()\n",
    "df21_2['날짜'] = pd.to_datetime(df21_2['날짜'])\n",
    "df21_2['매출액'] = df21_2['판매수']*df21_2['개당수익']\n",
    "df21_2 = df21_2.set_index('날짜')\n",
    "df_alter = df21_2.loc[(df21_2.index<='2022-03-31')&(df21_2.index>='2022-01-01')]\n",
    "print(df_alter['매출액'][df21_2['제품']=='A'].sum())\n"
   ]
  },
  {
   "cell_type": "markdown",
   "metadata": {},
   "source": [
    "- 문제 22 22년과 23년의 총 매출액 차이를 절대값으로 구하시오\n",
    "- 매출액 = 판매수 * 개당수익"
   ]
  },
  {
   "cell_type": "code",
   "execution_count": 26,
   "metadata": {},
   "outputs": [
    {
     "name": "stdout",
     "output_type": "stream",
     "text": [
      "48600\n"
     ]
    }
   ],
   "source": [
    "\n",
    "df22 = df.copy()\n",
    "df22['매출액'] = df22['판매수']*df22['개당수익']\n",
    "df22['날짜'] = pd.to_datetime(df22['날짜'])\n",
    "df22['year'] = df22['날짜'].dt.year\n",
    "df22['month'] = df22['날짜'].dt.month\n",
    "df22['day'] = df22['날짜'].dt.day\n",
    "cond1 = (df22['year'] == 2022)\n",
    "cond2 = (df22['year'] == 2023)\n",
    "total_22 = df22[cond1]['매출액'].sum()\n",
    "total_23 = df22[cond2]['매출액'].sum()\n",
    "print(abs(total_23-total_22))"
   ]
  },
  {
   "cell_type": "markdown",
   "metadata": {},
   "source": [
    "- 문제 23 : 23년 총 매출액이 큰 제품의 23년 판매수를 구하시오\n",
    " - 매출액 = 판매수 * 개당수익"
   ]
  },
  {
   "cell_type": "code",
   "execution_count": null,
   "metadata": {},
   "outputs": [],
   "source": []
  },
  {
   "cell_type": "code",
   "execution_count": null,
   "metadata": {},
   "outputs": [],
   "source": []
  }
 ],
 "metadata": {
  "kernelspec": {
   "display_name": "base",
   "language": "python",
   "name": "python3"
  },
  "language_info": {
   "codemirror_mode": {
    "name": "ipython",
    "version": 3
   },
   "file_extension": ".py",
   "mimetype": "text/x-python",
   "name": "python",
   "nbconvert_exporter": "python",
   "pygments_lexer": "ipython3",
   "version": "3.9.12"
  }
 },
 "nbformat": 4,
 "nbformat_minor": 2
}
