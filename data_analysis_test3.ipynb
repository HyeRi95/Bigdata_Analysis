{
 "cells": [
  {
   "cell_type": "markdown",
   "metadata": {},
   "source": [
    "### 제 2유형 연습하기. iris 종 분류 "
   ]
  },
  {
   "cell_type": "code",
   "execution_count": 31,
   "metadata": {},
   "outputs": [],
   "source": [
    "# 라이브러리 불러오기\n",
    "import pandas as pd \n",
    "import numpy as np\n",
    "from sklearn.ensemble import RandomForestRegressor, RandomForestClassifier\n",
    "from sklearn.model_selection import train_test_split\n",
    "from sklearn.preprocessing import MinMaxScaler, StandardScaler\n",
    "from sklearn.metrics import f1_score, recall_score, precision_score, r2_score, mean_squared_error, accuracy_score, roc_auc_score"
   ]
  },
  {
   "cell_type": "code",
   "execution_count": 5,
   "metadata": {},
   "outputs": [],
   "source": [
    "from sklearn.datasets import load_iris\n",
    "iris = load_iris()\n",
    "x = pd.DataFrame(iris.data, columns=['sepal_length','sepal_width','petal_length','petal_width'])\n",
    "y = iris.target\n",
    "\n",
    "# 이진 분류로 변경 (setosa = 0 , 나머지 =1)\n",
    "\n",
    "y= np.where(y>0,1,0)"
   ]
  },
  {
   "cell_type": "markdown",
   "metadata": {},
   "source": [
    "#### 데이터 탐색(EDA)\n",
    "#### 데이터 전처리\n",
    "#### 데이터 분리\n",
    "#### 모델링 및 성능평가"
   ]
  },
  {
   "cell_type": "code",
   "execution_count": 19,
   "metadata": {},
   "outputs": [],
   "source": [
    "# 데이터 분리\n",
    "x_train, x_test, y_train, y_test = train_test_split(x,y,test_size=0.2, random_state=2024)"
   ]
  },
  {
   "cell_type": "code",
   "execution_count": null,
   "metadata": {},
   "outputs": [],
   "source": [
    "x_train = pd.DataFrame(x_train)\n",
    "x_test = pd.DataFrame(x_test)\n",
    "y_train = pd.DataFrame(y_train)\n",
    "\n",
    "# 기존 넘파이 어레이에서 데이터 프레임으로 변경 후 컬럼명 지정\n",
    "y_train.columns = ['species']\n",
    "\n",
    "# 결측치 삽입 (아래에서 처리 연습 위해)\n",
    "x_test['sepal_length'].iloc[0] = None\n",
    "x_train['sepal_width'].iloc[0] = None \n",
    "\n",
    "# 이상치 삽입 (아래에서 처리 연습 위해)\n",
    "x_train['sepal_width'].iloc[0] = 150"
   ]
  },
  {
   "cell_type": "code",
   "execution_count": 20,
   "metadata": {},
   "outputs": [
    {
     "name": "stdout",
     "output_type": "stream",
     "text": [
      "(120, 4)\n",
      "(120,)\n",
      "(30, 4)\n",
      "(30,)\n"
     ]
    }
   ],
   "source": [
    "print(x_train.shape)\n",
    "print(y_train.shape)\n",
    "print(x_test.shape)\n",
    "print(y_test.shape)"
   ]
  },
  {
   "cell_type": "code",
   "execution_count": 23,
   "metadata": {},
   "outputs": [
    {
     "name": "stdout",
     "output_type": "stream",
     "text": [
      "<class 'pandas.core.frame.DataFrame'>\n",
      "Int64Index: 120 entries, 16 to 136\n",
      "Data columns (total 4 columns):\n",
      " #   Column        Non-Null Count  Dtype  \n",
      "---  ------        --------------  -----  \n",
      " 0   sepal_length  120 non-null    float64\n",
      " 1   sepal_width   120 non-null    float64\n",
      " 2   petal_length  120 non-null    float64\n",
      " 3   petal_width   120 non-null    float64\n",
      "dtypes: float64(4)\n",
      "memory usage: 4.7 KB\n",
      "None\n",
      "<class 'pandas.core.frame.DataFrame'>\n",
      "Int64Index: 30 entries, 14 to 24\n",
      "Data columns (total 4 columns):\n",
      " #   Column        Non-Null Count  Dtype  \n",
      "---  ------        --------------  -----  \n",
      " 0   sepal_length  29 non-null     float64\n",
      " 1   sepal_width   30 non-null     float64\n",
      " 2   petal_length  30 non-null     float64\n",
      " 3   petal_width   30 non-null     float64\n",
      "dtypes: float64(4)\n",
      "memory usage: 1.2 KB\n",
      "None\n",
      "<class 'pandas.core.frame.DataFrame'>\n",
      "RangeIndex: 120 entries, 0 to 119\n",
      "Data columns (total 1 columns):\n",
      " #   Column   Non-Null Count  Dtype\n",
      "---  ------   --------------  -----\n",
      " 0   species  120 non-null    int32\n",
      "dtypes: int32(1)\n",
      "memory usage: 608.0 bytes\n",
      "None\n"
     ]
    }
   ],
   "source": [
    "print(x_train.info())\n",
    "print(x_test.info())\n",
    "print(y_train.info())"
   ]
  },
  {
   "cell_type": "code",
   "execution_count": 25,
   "metadata": {},
   "outputs": [
    {
     "name": "stdout",
     "output_type": "stream",
     "text": [
      "sepal_length    0\n",
      "sepal_width     0\n",
      "petal_length    0\n",
      "petal_width     0\n",
      "dtype: int64\n",
      "sepal_length    1\n",
      "sepal_width     0\n",
      "petal_length    0\n",
      "petal_width     0\n",
      "dtype: int64\n",
      "species    0\n",
      "dtype: int64\n"
     ]
    }
   ],
   "source": [
    "print(x_train.isnull().sum())\n",
    "print(x_test.isnull().sum())\n",
    "print(y_train.isnull().sum())"
   ]
  },
  {
   "cell_type": "code",
   "execution_count": 26,
   "metadata": {},
   "outputs": [
    {
     "name": "stdout",
     "output_type": "stream",
     "text": [
      "              count      mean        std  min    25%   50%  75%    max\n",
      "sepal_length  120.0  5.870833   0.843103  4.3  5.175  5.80  6.5    7.9\n",
      "sepal_width   120.0  4.273333  13.420896  2.0  2.800  3.00  3.3  150.0\n",
      "petal_length  120.0  3.821667   1.752270  1.0  1.600  4.35  5.1    6.7\n",
      "petal_width   120.0  1.222500   0.757535  0.1  0.300  1.30  1.8    2.5\n",
      "              count      mean       std  min    25%   50%    75%  max\n",
      "sepal_length   29.0  5.731034  0.781986  4.8  5.100  5.60  6.200  7.7\n",
      "sepal_width    30.0  3.063333  0.524229  2.2  2.725  3.00  3.375  4.4\n",
      "petal_length   30.0  3.503333  1.824259  1.2  1.500  4.15  4.875  6.9\n",
      "petal_width    30.0  1.106667  0.786934  0.1  0.200  1.25  1.800  2.3\n",
      "         count      mean       std  min  25%  50%  75%  max\n",
      "species  120.0  0.683333  0.467127  0.0  0.0  1.0  1.0  1.0\n"
     ]
    }
   ],
   "source": [
    "print(x_train.describe().T)\n",
    "print(x_test.describe().T)\n",
    "print(y_train.describe().T)"
   ]
  },
  {
   "cell_type": "code",
   "execution_count": 27,
   "metadata": {},
   "outputs": [
    {
     "name": "stdout",
     "output_type": "stream",
     "text": [
      "sepal_length    0\n",
      "sepal_width     0\n",
      "petal_length    0\n",
      "petal_width     0\n",
      "dtype: int64\n",
      "sepal_length    0\n",
      "sepal_width     0\n",
      "petal_length    0\n",
      "petal_width     0\n",
      "dtype: int64\n"
     ]
    }
   ],
   "source": [
    "# 결측치 제거\n",
    "# 제거 전 drop 시킬지 대체할지 결정 \n",
    "x_train['sepal_length'] = x_train['sepal_length'].fillna(x['sepal_length'].median())\n",
    "x_test['sepal_length'] = x_test['sepal_length'].fillna(x['sepal_length'].median())\n",
    "\n",
    "print(x_train.isnull().sum())\n",
    "print(x_test.isnull().sum())"
   ]
  },
  {
   "cell_type": "code",
   "execution_count": null,
   "metadata": {},
   "outputs": [],
   "source": [
    "# 이상치 제거 \n",
    "# print(x_trian.describe().T)\n",
    "# print(x_test.describe().T)\n",
    "\n",
    "# sepal_width에서 x_train max 값 불량 확인\n",
    "# Q1 = x_train['sepal_width'].quantile.(.25)\n",
    "# Q3 = x_train['sepal_width'].quantile.(0.75)\n",
    "# IQR = abs(Q1-Q3)\n",
    "# print(Q1, Q3, IQR)\n",
    "\n",
    "# upper = Q3+1.5*IQR\n",
    "# lower = Q1-1.5*IQR\n",
    "\n",
    "# cond1 = (x_train['sepal_width']<=upper)\n",
    "# cond2 = (x_train['sepal_width]>= lower)\n",
    "\n",
    "# print(x_train.describe().T)\n",
    "# print(x_test.describe().T)"
   ]
  },
  {
   "cell_type": "code",
   "execution_count": 28,
   "metadata": {},
   "outputs": [
    {
     "name": "stdout",
     "output_type": "stream",
     "text": [
      "              count      mean       std  min    25%   50%  75%  max\n",
      "sepal_length  120.0  5.870833  0.843103  4.3  5.175  5.80  6.5  7.9\n",
      "sepal_width   120.0  3.058333  0.419400  2.0  2.800  3.00  3.3  4.2\n",
      "petal_length  120.0  3.821667  1.752270  1.0  1.600  4.35  5.1  6.7\n",
      "petal_width   120.0  1.222500  0.757535  0.1  0.300  1.30  1.8  2.5\n",
      "              count      mean       std  min    25%   50%    75%  max\n",
      "sepal_length   30.0  5.733333  0.768489  4.8  5.100  5.65  6.200  7.7\n",
      "sepal_width    30.0  3.063333  0.524229  2.2  2.725  3.00  3.375  4.4\n",
      "petal_length   30.0  3.503333  1.824259  1.2  1.500  4.15  4.875  6.9\n",
      "petal_width    30.0  1.106667  0.786934  0.1  0.200  1.25  1.800  2.3\n"
     ]
    }
   ],
   "source": [
    "# 이상치 대체 (최대값으로 대체)\n",
    "cond1 = (x_train['sepal_width'] <= 10)\n",
    "max_sw = x_train[cond1]['sepal_width'].max()\n",
    "\n",
    "x_train['sepal_width'] = np.where(x_train['sepal_width']>= 10, max_sw, x_train['sepal_width'])\n",
    "\n",
    "print(x_train.describe().T)\n",
    "print(x_test.describe().T)"
   ]
  },
  {
   "cell_type": "code",
   "execution_count": 29,
   "metadata": {},
   "outputs": [
    {
     "name": "stderr",
     "output_type": "stream",
     "text": [
      "C:\\Users\\chohyeri\\AppData\\Local\\Temp\\ipykernel_2156\\3916786330.py:3: DataConversionWarning: A column-vector y was passed when a 1d array was expected. Please change the shape of y to (n_samples,), for example using ravel().\n",
      "  model.fit(x_train, y_train)\n"
     ]
    },
    {
     "data": {
      "text/plain": [
       "RandomForestClassifier()"
      ]
     },
     "execution_count": 29,
     "metadata": {},
     "output_type": "execute_result"
    }
   ],
   "source": [
    "# 모델링 적용\n",
    "model = RandomForestClassifier()\n",
    "model.fit(x_train, y_train)"
   ]
  },
  {
   "cell_type": "code",
   "execution_count": 32,
   "metadata": {},
   "outputs": [
    {
     "name": "stdout",
     "output_type": "stream",
     "text": [
      "1.0\n",
      "1.0\n",
      "1.0\n"
     ]
    }
   ],
   "source": [
    "y_pred = model.predict(x_test)\n",
    "accuracy = accuracy_score(y_test,y_pred)\n",
    "f1_score = f1_score(y_test,y_pred,average='macro')\n",
    "roc_auc = roc_auc_score(y_test,y_pred)\n",
    "\n",
    "print(accuracy)\n",
    "print(f1_score)\n",
    "print(roc_auc)"
   ]
  },
  {
   "cell_type": "code",
   "execution_count": 33,
   "metadata": {},
   "outputs": [],
   "source": [
    "y_prob = model.predict_proba(x_test)"
   ]
  },
  {
   "cell_type": "code",
   "execution_count": 34,
   "metadata": {},
   "outputs": [
    {
     "name": "stdout",
     "output_type": "stream",
     "text": [
      "   result  prob_0\n",
      "0       0    0.97\n",
      "1       0    1.00\n",
      "2       1    0.00\n",
      "3       1    0.00\n",
      "4       0    1.00\n"
     ]
    }
   ],
   "source": [
    "result = pd.DataFrame({\n",
    "    'result' : y_pred,\n",
    "    'prob_0' : y_prob[:,0]\n",
    "})\n",
    "\n",
    "print(result[:5])"
   ]
  },
  {
   "cell_type": "code",
   "execution_count": 35,
   "metadata": {},
   "outputs": [
    {
     "name": "stdout",
     "output_type": "stream",
     "text": [
      "   result  prob_0\n",
      "0       0    0.97\n",
      "1       0    1.00\n",
      "2       1    0.00\n",
      "3       1    0.00\n",
      "4       0    1.00\n"
     ]
    }
   ],
   "source": [
    "result.to_csv('test.csv',index=False)\n",
    "print(pd.read_csv('test.csv').head())"
   ]
  }
 ],
 "metadata": {
  "kernelspec": {
   "display_name": "base",
   "language": "python",
   "name": "python3"
  },
  "language_info": {
   "codemirror_mode": {
    "name": "ipython",
    "version": 3
   },
   "file_extension": ".py",
   "mimetype": "text/x-python",
   "name": "python",
   "nbconvert_exporter": "python",
   "pygments_lexer": "ipython3",
   "version": "3.9.12"
  }
 },
 "nbformat": 4,
 "nbformat_minor": 2
}
