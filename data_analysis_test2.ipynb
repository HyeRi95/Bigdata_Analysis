{
 "cells": [
  {
   "cell_type": "markdown",
   "metadata": {},
   "source": [
    "### 제 2유형 연습하기. 팁 예측하기 (회귀)"
   ]
  },
  {
   "cell_type": "code",
   "execution_count": 2,
   "metadata": {},
   "outputs": [],
   "source": [
    "import pandas as pd \n",
    "import numpy as np \n",
    "\n",
    "# 정규화\n",
    "from sklearn.preprocessing import MinMaxScaler, StandardScaler\n",
    "\n",
    "# 데이터분리\n",
    "from sklearn.model_selection import train_test_split\n",
    "\n",
    "# 모델 선정\n",
    "from sklearn.ensemble import RandomForestRegressor, RandomForestClassifier\n",
    "\n",
    "# 모델 성능 평가 \n",
    "# 회귀 관련 성능 평가 \n",
    "from sklearn.metrics import r2_score, mean_squared_error\n",
    "\n",
    "# 분류 관련 성능 평가\n",
    "from sklearn.metrics import f1_score, recall_score, precision_score,roc_auc_score,accuracy_score"
   ]
  },
  {
   "cell_type": "code",
   "execution_count": 3,
   "metadata": {},
   "outputs": [],
   "source": [
    "import seaborn as sns\n",
    "df = sns.load_dataset('tips')\n",
    "\n",
    "x= df.drop(columns='tip')\n",
    "y = df['tip']\n",
    "\n",
    "x_train, x_test, y_train, y_test = train_test_split(x,y,test_size =0.2, random_state=2024)\n",
    "x_train= pd.DataFrame(x_train.reset_index())\n",
    "x_test= pd.DataFrame(x_test.reset_index())\n",
    "y_train = pd.DataFrame(y_train.reset_index())\n",
    "\n",
    "x_train.rename(columns={'index':'cust_id'},inplace=True)\n",
    "x_test.rename(columns={'index':'cust_id'},inplace=True)\n",
    "y_train.columns=['cust_id','tip']\n",
    "\n",
    "cust_id = x_test['cust_id'].copy()"
   ]
  },
  {
   "cell_type": "markdown",
   "metadata": {},
   "source": [
    "#### 레스토랑의 tip 예측 문제\n",
    "##### - 데이터의 결측치, 이상치, 변수에 대해 처리하고\n",
    "##### - 회귀모델을 사용하여 Rsq, MSE 값을 산출하시오\n",
    "\n",
    "데이터셋 설명    \n",
    "- total_bill(총 청구액) : 손님의 식사 총 청구액\n",
    "- tip(팁) : 팁의 양\n",
    "- sex(성별) : 손님의 성별\n",
    "- smoker(흡연자) : 손님의 흡연 여부 (\"Yes\" 또는 \"No\")\n",
    "- day(요일) : 식사가 이루어진 요일\n",
    "- time(시간) : 점심 또는 저녁 중 언제 식사가 이루어졌는지\n",
    "- size(인원 수) : 식사에 참석한 인원수"
   ]
  },
  {
   "cell_type": "markdown",
   "metadata": {},
   "source": [
    "#### 01. 데이터 탐색(EDA)"
   ]
  },
  {
   "cell_type": "code",
   "execution_count": 4,
   "metadata": {},
   "outputs": [
    {
     "name": "stdout",
     "output_type": "stream",
     "text": [
      "            count        mean        std   min    25%     50%      75%     max\n",
      "cust_id     195.0  122.394872  70.734606  2.00  61.50  123.00  183.500  243.00\n",
      "total_bill  195.0   19.754564   8.699479  3.07  13.38   17.59   24.535   48.33\n",
      "size        195.0    2.589744   0.977002  1.00   2.00    2.00    3.000    6.00\n",
      "            count        mean        std   min    25%     50%     75%     max\n",
      "cust_id      49.0  117.938776  70.579567  0.00  56.00  115.00  172.00  239.00\n",
      "total_bill   49.0   19.910816   9.763248  7.25  13.28   18.24   22.23   50.81\n",
      "size         49.0    2.489796   0.844651  1.00   2.00    2.00    3.00    6.00\n",
      "         count        mean        std  min   25%     50%      75%    max\n",
      "cust_id  195.0  122.394872  70.734606  2.0  61.5  123.00  183.500  243.0\n",
      "tip      195.0    2.946615   1.330591  1.0   2.0    2.71    3.525    9.0\n"
     ]
    }
   ],
   "source": [
    "print(x_train.describe().T)\n",
    "print(x_test.describe().T)\n",
    "print(y_train.describe().T)"
   ]
  },
  {
   "cell_type": "code",
   "execution_count": 5,
   "metadata": {},
   "outputs": [
    {
     "name": "stdout",
     "output_type": "stream",
     "text": [
      "<class 'pandas.core.frame.DataFrame'>\n",
      "RangeIndex: 195 entries, 0 to 194\n",
      "Data columns (total 7 columns):\n",
      " #   Column      Non-Null Count  Dtype   \n",
      "---  ------      --------------  -----   \n",
      " 0   cust_id     195 non-null    int64   \n",
      " 1   total_bill  195 non-null    float64 \n",
      " 2   sex         195 non-null    category\n",
      " 3   smoker      195 non-null    category\n",
      " 4   day         195 non-null    category\n",
      " 5   time        195 non-null    category\n",
      " 6   size        195 non-null    int64   \n",
      "dtypes: category(4), float64(1), int64(2)\n",
      "memory usage: 6.0 KB\n",
      "None\n",
      "<class 'pandas.core.frame.DataFrame'>\n",
      "RangeIndex: 49 entries, 0 to 48\n",
      "Data columns (total 7 columns):\n",
      " #   Column      Non-Null Count  Dtype   \n",
      "---  ------      --------------  -----   \n",
      " 0   cust_id     49 non-null     int64   \n",
      " 1   total_bill  49 non-null     float64 \n",
      " 2   sex         49 non-null     category\n",
      " 3   smoker      49 non-null     category\n",
      " 4   day         49 non-null     category\n",
      " 5   time        49 non-null     category\n",
      " 6   size        49 non-null     int64   \n",
      "dtypes: category(4), float64(1), int64(2)\n",
      "memory usage: 2.0 KB\n",
      "None\n",
      "<class 'pandas.core.frame.DataFrame'>\n",
      "RangeIndex: 195 entries, 0 to 194\n",
      "Data columns (total 2 columns):\n",
      " #   Column   Non-Null Count  Dtype  \n",
      "---  ------   --------------  -----  \n",
      " 0   cust_id  195 non-null    int64  \n",
      " 1   tip      195 non-null    float64\n",
      "dtypes: float64(1), int64(1)\n",
      "memory usage: 3.2 KB\n",
      "None\n"
     ]
    }
   ],
   "source": [
    "print(x_train.info())\n",
    "print(x_test.info())\n",
    "print(y_train.info())"
   ]
  },
  {
   "cell_type": "code",
   "execution_count": 6,
   "metadata": {},
   "outputs": [
    {
     "name": "stdout",
     "output_type": "stream",
     "text": [
      "cust_id       0\n",
      "total_bill    0\n",
      "sex           0\n",
      "smoker        0\n",
      "day           0\n",
      "time          0\n",
      "size          0\n",
      "dtype: int64\n",
      "cust_id       0\n",
      "total_bill    0\n",
      "sex           0\n",
      "smoker        0\n",
      "day           0\n",
      "time          0\n",
      "size          0\n",
      "dtype: int64\n",
      "cust_id    0\n",
      "tip        0\n",
      "dtype: int64\n"
     ]
    }
   ],
   "source": [
    "print(x_train.isnull().sum())\n",
    "print(x_test.isnull().sum())\n",
    "print(y_train.isnull().sum())"
   ]
  },
  {
   "cell_type": "code",
   "execution_count": 7,
   "metadata": {},
   "outputs": [
    {
     "name": "stdout",
     "output_type": "stream",
     "text": [
      "cust_id          int64\n",
      "total_bill     float64\n",
      "sex           category\n",
      "smoker        category\n",
      "day           category\n",
      "time          category\n",
      "size             int64\n",
      "dtype: object\n"
     ]
    }
   ],
   "source": [
    "# 데이터 형태 확인하기\n",
    "print(x_train.dtypes)"
   ]
  },
  {
   "cell_type": "code",
   "execution_count": 9,
   "metadata": {},
   "outputs": [
    {
     "name": "stdout",
     "output_type": "stream",
     "text": [
      "Male      127\n",
      "Female     68\n",
      "Name: sex, dtype: int64\n",
      "No     118\n",
      "Yes     77\n",
      "Name: smoker, dtype: int64\n",
      "Sat     71\n",
      "Sun     57\n",
      "Thur    49\n",
      "Fri     18\n",
      "Name: day, dtype: int64\n",
      "Dinner    140\n",
      "Lunch      55\n",
      "Name: time, dtype: int64\n"
     ]
    }
   ],
   "source": [
    "# 각 카테고리별 종류 확인 (x_train)\n",
    "print(x_train['sex'].value_counts())\n",
    "print(x_train['smoker'].value_counts())\n",
    "print(x_train['day'].value_counts())\n",
    "print(x_train['time'].value_counts())\n"
   ]
  },
  {
   "cell_type": "code",
   "execution_count": 10,
   "metadata": {},
   "outputs": [
    {
     "name": "stdout",
     "output_type": "stream",
     "text": [
      "Male      30\n",
      "Female    19\n",
      "Name: sex, dtype: int64\n",
      "Male      30\n",
      "Female    19\n",
      "Name: sex, dtype: int64\n",
      "Male      30\n",
      "Female    19\n",
      "Name: sex, dtype: int64\n",
      "Male      30\n",
      "Female    19\n",
      "Name: sex, dtype: int64\n"
     ]
    }
   ],
   "source": [
    "# 각 카테고리별 종류 확인 \n",
    "print(x_test['sex'].value_counts())\n",
    "print(x_test['sex'].value_counts())\n",
    "print(x_test['sex'].value_counts())\n",
    "print(x_test['sex'].value_counts())\n"
   ]
  },
  {
   "cell_type": "code",
   "execution_count": 12,
   "metadata": {},
   "outputs": [
    {
     "name": "stdout",
     "output_type": "stream",
     "text": [
      "       count unique     top freq\n",
      "sex      195      2    Male  127\n",
      "smoker   195      2      No  118\n",
      "day      195      4     Sat   71\n",
      "time     195      2  Dinner  140\n",
      "       count unique     top freq\n",
      "sex       49      2    Male   30\n",
      "smoker    49      2      No   33\n",
      "day       49      4     Sun   19\n",
      "time      49      2  Dinner   36\n",
      "----------------------------------\n",
      "          cust_id  total_bill        size\n",
      "count  195.000000  195.000000  195.000000\n",
      "mean   122.394872   19.754564    2.589744\n",
      "std     70.734606    8.699479    0.977002\n",
      "min      2.000000    3.070000    1.000000\n",
      "25%     61.500000   13.380000    2.000000\n",
      "50%    123.000000   17.590000    2.000000\n",
      "75%    183.500000   24.535000    3.000000\n",
      "max    243.000000   48.330000    6.000000\n",
      "          cust_id  total_bill       size\n",
      "count   49.000000   49.000000  49.000000\n",
      "mean   117.938776   19.910816   2.489796\n",
      "std     70.579567    9.763248   0.844651\n",
      "min      0.000000    7.250000   1.000000\n",
      "25%     56.000000   13.280000   2.000000\n",
      "50%    115.000000   18.240000   2.000000\n",
      "75%    172.000000   22.230000   3.000000\n",
      "max    239.000000   50.810000   6.000000\n"
     ]
    }
   ],
   "source": [
    "# 연속값 - 이상치 확인 \n",
    "# 범주형 데이터의 경우 include = 'category' | 'object' \n",
    "print(x_train.describe(include='category').T)\n",
    "print(x_test.describe(include='category').T)\n",
    "print('----------------------------------')\n",
    "print(x_train.describe())\n",
    "print(x_test.describe())"
   ]
  },
  {
   "cell_type": "code",
   "execution_count": 13,
   "metadata": {},
   "outputs": [
    {
     "name": "stdout",
     "output_type": "stream",
     "text": [
      "   cust_id   tip\n",
      "0      209  2.23\n",
      "1       88  5.85\n",
      "2        2  3.50\n",
      "3      142  5.00\n",
      "4      125  4.20\n"
     ]
    }
   ],
   "source": [
    "# y 데이터 분석\n",
    "print(y_train.head())"
   ]
  },
  {
   "cell_type": "markdown",
   "metadata": {},
   "source": [
    "#### 02. 데이터 전처리"
   ]
  },
  {
   "cell_type": "markdown",
   "metadata": {},
   "source": [
    "- 원핫 인코딩 "
   ]
  },
  {
   "cell_type": "code",
   "execution_count": 14,
   "metadata": {},
   "outputs": [],
   "source": [
    "x_train = pd.get_dummies(x_train)\n",
    "x_test= pd.get_dummies(x_test)\n",
    "\n",
    "x_train.drop(columns = {'cust_id'},axis=1, inplace=True)\n",
    "x_test.drop(columns={'cust_id'},axis=1,inplace=True)"
   ]
  },
  {
   "cell_type": "code",
   "execution_count": 16,
   "metadata": {},
   "outputs": [
    {
     "name": "stdout",
     "output_type": "stream",
     "text": [
      "   total_bill  size  sex_Male  sex_Female  smoker_Yes  smoker_No  day_Thur  \\\n",
      "0       12.76     2         0           1           1          0         0   \n",
      "1       24.71     2         1           0           0          1         1   \n",
      "2       21.01     3         1           0           0          1         0   \n",
      "\n",
      "   day_Fri  day_Sat  day_Sun  time_Lunch  time_Dinner  \n",
      "0        0        1        0           0            1  \n",
      "1        0        0        0           1            0  \n",
      "2        0        0        1           0            1  \n",
      "   total_bill  size  sex_Male  sex_Female  smoker_Yes  smoker_No  day_Thur  \\\n",
      "0       29.03     3         1           0           0          1         0   \n",
      "1       35.83     3         0           1           0          1         0   \n",
      "2       50.81     3         1           0           1          0         0   \n",
      "\n",
      "   day_Fri  day_Sat  day_Sun  time_Lunch  time_Dinner  \n",
      "0        0        1        0           0            1  \n",
      "1        0        1        0           0            1  \n",
      "2        0        1        0           0            1  \n"
     ]
    }
   ],
   "source": [
    "print(x_train.head(3))\n",
    "print(x_test.head(3))"
   ]
  },
  {
   "cell_type": "markdown",
   "metadata": {},
   "source": [
    "#### 03. 데이터 분리"
   ]
  },
  {
   "cell_type": "code",
   "execution_count": null,
   "metadata": {},
   "outputs": [],
   "source": [
    "x_trian, x_val, y_train, y_val = train_test_split"
   ]
  },
  {
   "cell_type": "code",
   "execution_count": null,
   "metadata": {},
   "outputs": [],
   "source": []
  },
  {
   "cell_type": "code",
   "execution_count": null,
   "metadata": {},
   "outputs": [],
   "source": []
  }
 ],
 "metadata": {
  "kernelspec": {
   "display_name": "base",
   "language": "python",
   "name": "python3"
  },
  "language_info": {
   "codemirror_mode": {
    "name": "ipython",
    "version": 3
   },
   "file_extension": ".py",
   "mimetype": "text/x-python",
   "name": "python",
   "nbconvert_exporter": "python",
   "pygments_lexer": "ipython3",
   "version": "3.9.12"
  }
 },
 "nbformat": 4,
 "nbformat_minor": 2
}
