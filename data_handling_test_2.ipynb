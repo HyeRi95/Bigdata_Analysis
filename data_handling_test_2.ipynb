{
 "cells": [
  {
   "cell_type": "markdown",
   "metadata": {
    "vscode": {
     "languageId": "plaintext"
    }
   },
   "source": [
    "## 문제풀이 11-20"
   ]
  },
  {
   "cell_type": "code",
   "execution_count": 2,
   "metadata": {},
   "outputs": [
    {
     "data": {
      "text/html": [
       "<div>\n",
       "<style scoped>\n",
       "    .dataframe tbody tr th:only-of-type {\n",
       "        vertical-align: middle;\n",
       "    }\n",
       "\n",
       "    .dataframe tbody tr th {\n",
       "        vertical-align: top;\n",
       "    }\n",
       "\n",
       "    .dataframe thead th {\n",
       "        text-align: right;\n",
       "    }\n",
       "</style>\n",
       "<table border=\"1\" class=\"dataframe\">\n",
       "  <thead>\n",
       "    <tr style=\"text-align: right;\">\n",
       "      <th></th>\n",
       "      <th>Unnamed: 0</th>\n",
       "      <th>mpg</th>\n",
       "      <th>cyl</th>\n",
       "      <th>disp</th>\n",
       "      <th>hp</th>\n",
       "      <th>drat</th>\n",
       "      <th>wt</th>\n",
       "      <th>qsec</th>\n",
       "      <th>vs</th>\n",
       "      <th>am</th>\n",
       "      <th>gear</th>\n",
       "      <th>carb</th>\n",
       "    </tr>\n",
       "  </thead>\n",
       "  <tbody>\n",
       "    <tr>\n",
       "      <th>0</th>\n",
       "      <td>Mazda RX4</td>\n",
       "      <td>21.0</td>\n",
       "      <td>6</td>\n",
       "      <td>160.0</td>\n",
       "      <td>110</td>\n",
       "      <td>3.90</td>\n",
       "      <td>2.620</td>\n",
       "      <td>16.46</td>\n",
       "      <td>0</td>\n",
       "      <td>1</td>\n",
       "      <td>4</td>\n",
       "      <td>4</td>\n",
       "    </tr>\n",
       "    <tr>\n",
       "      <th>1</th>\n",
       "      <td>Mazda RX4 Wag</td>\n",
       "      <td>21.0</td>\n",
       "      <td>6</td>\n",
       "      <td>160.0</td>\n",
       "      <td>110</td>\n",
       "      <td>3.90</td>\n",
       "      <td>2.875</td>\n",
       "      <td>17.02</td>\n",
       "      <td>0</td>\n",
       "      <td>1</td>\n",
       "      <td>4</td>\n",
       "      <td>4</td>\n",
       "    </tr>\n",
       "    <tr>\n",
       "      <th>2</th>\n",
       "      <td>Datsun 710</td>\n",
       "      <td>22.8</td>\n",
       "      <td>4</td>\n",
       "      <td>108.0</td>\n",
       "      <td>93</td>\n",
       "      <td>3.85</td>\n",
       "      <td>2.320</td>\n",
       "      <td>18.61</td>\n",
       "      <td>1</td>\n",
       "      <td>1</td>\n",
       "      <td>4</td>\n",
       "      <td>1</td>\n",
       "    </tr>\n",
       "    <tr>\n",
       "      <th>3</th>\n",
       "      <td>Hornet 4 Drive</td>\n",
       "      <td>21.4</td>\n",
       "      <td>6</td>\n",
       "      <td>258.0</td>\n",
       "      <td>110</td>\n",
       "      <td>3.08</td>\n",
       "      <td>3.215</td>\n",
       "      <td>19.44</td>\n",
       "      <td>1</td>\n",
       "      <td>0</td>\n",
       "      <td>3</td>\n",
       "      <td>1</td>\n",
       "    </tr>\n",
       "    <tr>\n",
       "      <th>4</th>\n",
       "      <td>Hornet Sportabout</td>\n",
       "      <td>18.7</td>\n",
       "      <td>8</td>\n",
       "      <td>360.0</td>\n",
       "      <td>175</td>\n",
       "      <td>3.15</td>\n",
       "      <td>3.440</td>\n",
       "      <td>17.02</td>\n",
       "      <td>0</td>\n",
       "      <td>0</td>\n",
       "      <td>3</td>\n",
       "      <td>2</td>\n",
       "    </tr>\n",
       "  </tbody>\n",
       "</table>\n",
       "</div>"
      ],
      "text/plain": [
       "          Unnamed: 0   mpg  cyl   disp   hp  drat     wt   qsec  vs  am  gear  \\\n",
       "0          Mazda RX4  21.0    6  160.0  110  3.90  2.620  16.46   0   1     4   \n",
       "1      Mazda RX4 Wag  21.0    6  160.0  110  3.90  2.875  17.02   0   1     4   \n",
       "2         Datsun 710  22.8    4  108.0   93  3.85  2.320  18.61   1   1     4   \n",
       "3     Hornet 4 Drive  21.4    6  258.0  110  3.08  3.215  19.44   1   0     3   \n",
       "4  Hornet Sportabout  18.7    8  360.0  175  3.15  3.440  17.02   0   0     3   \n",
       "\n",
       "   carb  \n",
       "0     4  \n",
       "1     4  \n",
       "2     1  \n",
       "3     1  \n",
       "4     2  "
      ]
     },
     "execution_count": 2,
     "metadata": {},
     "output_type": "execute_result"
    }
   ],
   "source": [
    "import pandas as pd \n",
    "import numpy as np \n",
    "from sklearn.preprocessing import MinMaxScaler, StandardScaler\n",
    "\n",
    "df = pd.read_csv('mtcars.csv')\n",
    "df.head()"
   ]
  },
  {
   "cell_type": "markdown",
   "metadata": {
    "vscode": {
     "languageId": "plaintext"
    }
   },
   "source": [
    "- 문제 11. cyl가 4인 자동차와 6인 자동차 그룹의 mpg 평균값 차이를 절대값으로 변환하여 정수로 출력하시오."
   ]
  },
  {
   "cell_type": "code",
   "execution_count": 3,
   "metadata": {},
   "outputs": [
    {
     "name": "stdout",
     "output_type": "stream",
     "text": [
      "7\n"
     ]
    }
   ],
   "source": [
    "# 내 풀이 \n",
    "df11 = df.copy()\n",
    "cyl_4 = df11[df11['cyl'] == 4]\n",
    "cyl_6 = df11[df11['cyl'] == 6]\n",
    "cyl_4_m = cyl_4['mpg'].mean()\n",
    "cyl_6_m = cyl_6['mpg'].mean()\n",
    "print(round(abs(cyl_4_m-cyl_6_m)))"
   ]
  },
  {
   "cell_type": "markdown",
   "metadata": {
    "vscode": {
     "languageId": "plaintext"
    }
   },
   "source": [
    "- 문제 12. hp 변수에 대해 데이터 표준화 (Z-score)를 진행하고 이상치의 수를 구하시오.   \n",
    "(단, 이상치는 Z값이 1.5를 초과하거나 -1.5 미만인 값이다)"
   ]
  },
  {
   "cell_type": "code",
   "execution_count": 4,
   "metadata": {},
   "outputs": [
    {
     "name": "stdout",
     "output_type": "stream",
     "text": [
      "2\n"
     ]
    }
   ],
   "source": [
    "# 답 1\n",
    "df12 = df.copy()\n",
    "zscaler = StandardScaler()\n",
    "df12['hp'] = zscaler.fit_transform(df12[['hp']])\n",
    "cond1 = (df12['hp']>1.5)\n",
    "cond2 = (df12['hp']<-1.5)\n",
    "print(len(df12[cond1|cond2]))"
   ]
  },
  {
   "cell_type": "code",
   "execution_count": 5,
   "metadata": {},
   "outputs": [
    {
     "name": "stdout",
     "output_type": "stream",
     "text": [
      "2\n"
     ]
    }
   ],
   "source": [
    "# 답 2\n",
    "# Z = (X-평균)/표준편차\n",
    "hd_std = df12['hp'].std()\n",
    "hp_mean = df12['hp'].mean()\n",
    "df12['zscore'] = (df12['hp']-hp_mean)/hd_std\n",
    "cond3 = (df12['zscore']>1.5)\n",
    "cond4 = (df12['zscore']<-1.5)\n",
    "print(len(df12[cond3|cond4]))"
   ]
  },
  {
   "cell_type": "markdown",
   "metadata": {
    "vscode": {
     "languageId": "plaintext"
    }
   },
   "source": [
    "- 문제 13. mpg 컬럼을 최소최대 Scaling을 진행한 후 0.7보다 큰 값을 가지는 레코드 수를 구하라."
   ]
  },
  {
   "cell_type": "code",
   "execution_count": 6,
   "metadata": {},
   "outputs": [
    {
     "name": "stdout",
     "output_type": "stream",
     "text": [
      "5\n"
     ]
    }
   ],
   "source": [
    "# 내풀이 \n",
    "df13 = df.copy()\n",
    "mscaler = MinMaxScaler()\n",
    "df13['mpg']=mscaler.fit_transform(df13[['mpg']])\n",
    "cond1 = df13['mpg']>0.7\n",
    "print(len(df13[cond1]))\n"
   ]
  },
  {
   "cell_type": "code",
   "execution_count": 7,
   "metadata": {},
   "outputs": [
    {
     "name": "stdout",
     "output_type": "stream",
     "text": [
      "5\n"
     ]
    }
   ],
   "source": [
    "# 풀이 2 \n",
    "# 공식 (X-min)/(max-min)\n",
    "min_mpg = df13['mpg'].min()\n",
    "max_mpg = df13['mpg'].max()\n",
    "df13['mpg'] = (df13['mpg']-min_mpg)/(max_mpg-min_mpg)\n",
    "cond1 = df13['mpg']>0.7\n",
    "print(len(df13[cond1]))"
   ]
  },
  {
   "cell_type": "markdown",
   "metadata": {
    "vscode": {
     "languageId": "plaintext"
    }
   },
   "source": [
    "- 문제 14. wt 컬럼에 대해 상자그림 기준으로 이상치의 개수를 구하시오."
   ]
  },
  {
   "cell_type": "code",
   "execution_count": 8,
   "metadata": {},
   "outputs": [
    {
     "name": "stdout",
     "output_type": "stream",
     "text": [
      "3\n"
     ]
    }
   ],
   "source": [
    "df14 = df.copy()\n",
    "Q1 = df14['wt'].quantile(0.25)\n",
    "Q3 = df14['wt'].quantile(0.75)\n",
    "IQR = Q3-Q1\n",
    "upper = Q3+1.5*IQR\n",
    "lower = Q1-1.5*IQR\n",
    "cond1 = df14['wt']>upper\n",
    "cond2 = df14['wt']<lower\n",
    "\n",
    "print(len(df14[cond1 | cond2]))"
   ]
  },
  {
   "cell_type": "markdown",
   "metadata": {
    "vscode": {
     "languageId": "plaintext"
    }
   },
   "source": [
    "- 문제 15.   \n",
    "판매수 컬럼의 결측치를 최소값으로 대체하고   \n",
    "결측치가 있을 때와 최소값으로 대체했을 때 평균값의 차이를 절대값으로 출력하시오"
   ]
  },
  {
   "cell_type": "code",
   "execution_count": 9,
   "metadata": {},
   "outputs": [
    {
     "name": "stdout",
     "output_type": "stream",
     "text": [
      "          날짜    제품   판매수  개당수익\n",
      "0   20220103     A   3.0   300\n",
      "1   20220105     B   NaN   400\n",
      "2       None  None   5.0   500\n",
      "3   20230127     B  10.0   600\n",
      "4   20220203     A  10.0   400\n",
      "5   20220205  None  10.0   500\n",
      "6   20230223     A  15.0   500\n",
      "7   20230325     B  15.0   600\n",
      "8   20230427     A  20.0   600\n",
      "9   20230526     B   NaN   700\n",
      "10  20230603     A  30.0   600\n",
      "11  20230723     A  40.0   600\n"
     ]
    }
   ],
   "source": [
    "new_df = pd.DataFrame({\n",
    "  \"날짜\": ['20220103', '20220105', None, '20230127', '20220203', '20220205', '20230223', '20230325', '20230427', '20230526', '20230603', '20230723'],\n",
    "  '제품': ['A', 'B', None, 'B', 'A', None, 'A', 'B', 'A', 'B', 'A', 'A'],\n",
    "  '판매수': [3, None, 5, 10, 10, 10, 15, 15, 20, None, 30, 40],\n",
    "  '개당수익': [300, 400, 500, 600, 400, 500, 500, 600, 600, 700, 600, 600]\n",
    "})\n",
    "\n",
    "print(new_df)"
   ]
  },
  {
   "cell_type": "code",
   "execution_count": 13,
   "metadata": {},
   "outputs": [
    {
     "name": "stdout",
     "output_type": "stream",
     "text": [
      "판매수 컬럼의 Null 개수 :  2\n"
     ]
    },
    {
     "data": {
      "text/html": [
       "<div>\n",
       "<style scoped>\n",
       "    .dataframe tbody tr th:only-of-type {\n",
       "        vertical-align: middle;\n",
       "    }\n",
       "\n",
       "    .dataframe tbody tr th {\n",
       "        vertical-align: top;\n",
       "    }\n",
       "\n",
       "    .dataframe thead th {\n",
       "        text-align: right;\n",
       "    }\n",
       "</style>\n",
       "<table border=\"1\" class=\"dataframe\">\n",
       "  <thead>\n",
       "    <tr style=\"text-align: right;\">\n",
       "      <th></th>\n",
       "      <th>날짜</th>\n",
       "      <th>제품</th>\n",
       "      <th>판매수</th>\n",
       "      <th>개당수익</th>\n",
       "    </tr>\n",
       "  </thead>\n",
       "  <tbody>\n",
       "    <tr>\n",
       "      <th>0</th>\n",
       "      <td>20220103</td>\n",
       "      <td>A</td>\n",
       "      <td>3.0</td>\n",
       "      <td>300</td>\n",
       "    </tr>\n",
       "    <tr>\n",
       "      <th>1</th>\n",
       "      <td>20220105</td>\n",
       "      <td>B</td>\n",
       "      <td>3.0</td>\n",
       "      <td>400</td>\n",
       "    </tr>\n",
       "    <tr>\n",
       "      <th>2</th>\n",
       "      <td>None</td>\n",
       "      <td>None</td>\n",
       "      <td>5.0</td>\n",
       "      <td>500</td>\n",
       "    </tr>\n",
       "    <tr>\n",
       "      <th>3</th>\n",
       "      <td>20230127</td>\n",
       "      <td>B</td>\n",
       "      <td>10.0</td>\n",
       "      <td>600</td>\n",
       "    </tr>\n",
       "    <tr>\n",
       "      <th>4</th>\n",
       "      <td>20220203</td>\n",
       "      <td>A</td>\n",
       "      <td>10.0</td>\n",
       "      <td>400</td>\n",
       "    </tr>\n",
       "  </tbody>\n",
       "</table>\n",
       "</div>"
      ],
      "text/plain": [
       "         날짜    제품   판매수  개당수익\n",
       "0  20220103     A   3.0   300\n",
       "1  20220105     B   3.0   400\n",
       "2      None  None   5.0   500\n",
       "3  20230127     B  10.0   600\n",
       "4  20220203     A  10.0   400"
      ]
     },
     "execution_count": 13,
     "metadata": {},
     "output_type": "execute_result"
    }
   ],
   "source": [
    "# 15번 문제 풀이 \n",
    "df15 = new_df.copy()\n",
    "print('판매수 컬럼의 Null 개수 : ', df15['판매수'].isnull().sum())\n",
    "df15['판매수'] = df15['판매수'].fillna(df15['판매수'].min())\n",
    "df15.head()"
   ]
  },
  {
   "cell_type": "code",
   "execution_count": 17,
   "metadata": {},
   "outputs": [
    {
     "name": "stdout",
     "output_type": "stream",
     "text": [
      "2\n"
     ]
    }
   ],
   "source": [
    "origin_mean = new_df['판매수'].mean()\n",
    "modified_mean = df15['판매수'].mean()\n",
    "print(round(abs(origin_mean-modified_mean)))"
   ]
  },
  {
   "cell_type": "markdown",
   "metadata": {
    "vscode": {
     "languageId": "plaintext"
    }
   },
   "source": [
    "- 문제 16. vs 변수가 0이 아닌 차량 중에 mpg 값이 가장 큰 차량의 hp 값을 출력하시"
   ]
  },
  {
   "cell_type": "code",
   "execution_count": 25,
   "metadata": {},
   "outputs": [
    {
     "data": {
      "text/plain": [
       "65"
      ]
     },
     "execution_count": 25,
     "metadata": {},
     "output_type": "execute_result"
    }
   ],
   "source": [
    "# 16번 문제풀이\n",
    "df16 = df.copy()\n",
    "df16 = df16[df16['vs'] != 0]\n",
    "new_df16=df16[df16['mpg'] == df16['mpg'].max()]\n",
    "new_df16['hp'].iloc[0]"
   ]
  },
  {
   "cell_type": "markdown",
   "metadata": {
    "vscode": {
     "languageId": "plaintext"
    }
   },
   "source": [
    "- 문제 17. gear 변수 값이 3, 4인 두 그룹의 hp 표준편차 값의 차이를 절대값으로 소수점 첫째자리까지 출력하시오."
   ]
  },
  {
   "cell_type": "code",
   "execution_count": null,
   "metadata": {},
   "outputs": [],
   "source": []
  },
  {
   "cell_type": "markdown",
   "metadata": {
    "vscode": {
     "languageId": "plaintext"
    }
   },
   "source": [
    "- 문제 18.   \n",
    "gear 변수의 값별로 그룹화하여 mpg 평균값을 산출하고   \n",
    "평균값이 높은 그룹의 mpg 제3사분위수 값을 구하시오."
   ]
  },
  {
   "cell_type": "code",
   "execution_count": null,
   "metadata": {},
   "outputs": [],
   "source": []
  },
  {
   "cell_type": "markdown",
   "metadata": {
    "vscode": {
     "languageId": "plaintext"
    }
   },
   "source": [
    "- 문제 19.   \n",
    "hp 항목의 상위 7번째 값으로 상위 7개 값을 반환한 후   \n",
    "hp가 150 이상인 데이터를 추출하여 hp의 평균값을 반올림하여 정수로 출력하시오."
   ]
  },
  {
   "cell_type": "code",
   "execution_count": null,
   "metadata": {},
   "outputs": [],
   "source": []
  },
  {
   "cell_type": "markdown",
   "metadata": {
    "vscode": {
     "languageId": "plaintext"
    }
   },
   "source": [
    "- 문제 20. car 변수에 Merc 문구가 포함된 자동차의 mpg 평균값을 정수로 출력하시오."
   ]
  },
  {
   "cell_type": "code",
   "execution_count": null,
   "metadata": {},
   "outputs": [],
   "source": []
  }
 ],
 "metadata": {
  "kernelspec": {
   "display_name": "base",
   "language": "python",
   "name": "python3"
  },
  "language_info": {
   "codemirror_mode": {
    "name": "ipython",
    "version": 3
   },
   "file_extension": ".py",
   "mimetype": "text/x-python",
   "name": "python",
   "nbconvert_exporter": "python",
   "pygments_lexer": "ipython3",
   "version": "3.9.12"
  }
 },
 "nbformat": 4,
 "nbformat_minor": 2
}
