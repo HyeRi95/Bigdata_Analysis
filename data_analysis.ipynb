{
 "cells": [
  {
   "cell_type": "markdown",
   "metadata": {
    "vscode": {
     "languageId": "plaintext"
    }
   },
   "source": [
    "## 제 2유형 : 모델링 및 평가 \n",
    "### 지도학습 : 회귀 / 분류\n",
    "- 회귀모델 성능지표 : R2 , MSE, RMSE ..\n",
    "- 분류모델 성능지표 : 정확도, 민감도(재현율), 특이도, F1Score\n",
    "- train / validation set으로 데이터 나눠서 validation set으로 성능평가 진행 해야함 \n",
    "- 분류(Classification)분석시 주의사항     \n",
    "*** Y(종속변수) 분리할때 train_test_split 함수에서 \"stratify\" 옵션 꼭 해줘야 한다(층화샘플링)"
   ]
  },
  {
   "cell_type": "markdown",
   "metadata": {},
   "source": [
    "#### 데이터 분석 순서    \n",
    "1. 라이브러리 및 데이터 확인    \n",
    "2. 데이터 탐색(EDA)    \n",
    "3. 데이터 전처리 및 분리    \n",
    "4. 모델링 및 성능평가    \n",
    "5. 예측값 제출 "
   ]
  },
  {
   "cell_type": "markdown",
   "metadata": {
    "vscode": {
     "languageId": "plaintext"
    }
   },
   "source": [
    "### 제2유형 연습하기    \n",
    "#### 와인 종류 분류\n",
    "##### 데이터 분석 순서    \n",
    "1. 라이브러리 및 데이터 확인    \n",
    "2. 데이터 탐색(EDA)    \n",
    "3. 데이터 전처리 및 분리    \n",
    "4. 모델링 및 성능평가    \n",
    "5. 예측값 제출 "
   ]
  },
  {
   "cell_type": "markdown",
   "metadata": {},
   "source": [
    "##### **필요한 패키지 설치 (암기필요)**\n"
   ]
  },
  {
   "cell_type": "code",
   "execution_count": 1,
   "metadata": {},
   "outputs": [],
   "source": [
    "import pandas as pd \n",
    "import numpy as np\n",
    "\n",
    "# 표준화 정규화 \n",
    "from sklearn.preprocessing import MinMaxScaler, StandardScaler\n",
    "\n",
    "# 데이터 분리\n",
    "from sklearn.model_selection import train_test_split\n",
    "\n",
    "# 모델 가져오기\n",
    "from sklearn.ensemble import RandomForestClassifier,RandomForestRegressor\n",
    "\n",
    "# 모델 성능 평가 (roc_auc_score는 이진분류일때만 사용가능!)\n",
    "from sklearn.metrics import accuracy_score,f1_score, recall_score, precision_score,roc_auc_score"
   ]
  },
  {
   "cell_type": "code",
   "execution_count": 5,
   "metadata": {},
   "outputs": [],
   "source": [
    "from sklearn.datasets import load_wine\n",
    "wine = load_wine()\n",
    "x= pd.DataFrame(wine.data, columns=wine.feature_names)\n",
    "y = pd.DataFrame(wine.target)\n",
    "\n",
    "# 데이터 나누기 \n",
    "x_train, x_test, y_train, y_test = train_test_split(x,y,test_size=0.2, stratify=y, random_state=2024)\n",
    "\n",
    "x_train = pd.DataFrame(x_train)\n",
    "x_test = pd.DataFrame(x_test)\n",
    "y_train = pd.DataFrame(y_train)\n",
    "\n",
    "x_test.reset_index()\n",
    "y_train.columns=['target']\n",
    "\n",
    "### 참고사항 ###\n",
    "# y_test는 실기 문제상에 주어지지 않음!!!\n",
    "\n",
    "# Tip : X를 대문자로 쓰지말고 소문자로 쓸 것! (시험에서 실수가 빈번하게 발생)\n",
    "# (참고 : 보통 X는 2차원 배열(행렬)이기 때문에 대문자로 쓰고, y는 1차원 배열(벡터)이기 때문에 소문자로 쓴다)\n",
    "\n",
    "# (참고) 실기시험 데이터 형식 (실제 시험장에서 다를 수 있으니 반드시 체크)\n",
    "# X_test = pd.read_csv(\"data/X_test.csv\")\n",
    "# X_test = pd.read_csv(\"data/X_train.csv\")\n",
    "# y_train = pd.read_csv(\"data/y_train.csv\")"
   ]
  },
  {
   "cell_type": "markdown",
   "metadata": {},
   "source": [
    "##### 데이터의 결측치, 이상치에 대해 처리하고 분류모델을 사용하여 정확도, f1 score, auc 값을 산출     \n",
    "- 제출은 result 변수에 담아 양식에 맞게 제출하시오 "
   ]
  },
  {
   "cell_type": "code",
   "execution_count": 6,
   "metadata": {},
   "outputs": [
    {
     "name": "stdout",
     "output_type": "stream",
     "text": [
      ".. _wine_dataset:\n",
      "\n",
      "Wine recognition dataset\n",
      "------------------------\n",
      "\n",
      "**Data Set Characteristics:**\n",
      "\n",
      "    :Number of Instances: 178 (50 in each of three classes)\n",
      "    :Number of Attributes: 13 numeric, predictive attributes and the class\n",
      "    :Attribute Information:\n",
      " \t\t- Alcohol\n",
      " \t\t- Malic acid\n",
      " \t\t- Ash\n",
      "\t\t- Alcalinity of ash  \n",
      " \t\t- Magnesium\n",
      "\t\t- Total phenols\n",
      " \t\t- Flavanoids\n",
      " \t\t- Nonflavanoid phenols\n",
      " \t\t- Proanthocyanins\n",
      "\t\t- Color intensity\n",
      " \t\t- Hue\n",
      " \t\t- OD280/OD315 of diluted wines\n",
      " \t\t- Proline\n",
      "\n",
      "    - class:\n",
      "            - class_0\n",
      "            - class_1\n",
      "            - class_2\n",
      "\t\t\n",
      "    :Summary Statistics:\n",
      "    \n",
      "    ============================= ==== ===== ======= =====\n",
      "                                   Min   Max   Mean     SD\n",
      "    ============================= ==== ===== ======= =====\n",
      "    Alcohol:                      11.0  14.8    13.0   0.8\n",
      "    Malic Acid:                   0.74  5.80    2.34  1.12\n",
      "    Ash:                          1.36  3.23    2.36  0.27\n",
      "    Alcalinity of Ash:            10.6  30.0    19.5   3.3\n",
      "    Magnesium:                    70.0 162.0    99.7  14.3\n",
      "    Total Phenols:                0.98  3.88    2.29  0.63\n",
      "    Flavanoids:                   0.34  5.08    2.03  1.00\n",
      "    Nonflavanoid Phenols:         0.13  0.66    0.36  0.12\n",
      "    Proanthocyanins:              0.41  3.58    1.59  0.57\n",
      "    Colour Intensity:              1.3  13.0     5.1   2.3\n",
      "    Hue:                          0.48  1.71    0.96  0.23\n",
      "    OD280/OD315 of diluted wines: 1.27  4.00    2.61  0.71\n",
      "    Proline:                       278  1680     746   315\n",
      "    ============================= ==== ===== ======= =====\n",
      "\n",
      "    :Missing Attribute Values: None\n",
      "    :Class Distribution: class_0 (59), class_1 (71), class_2 (48)\n",
      "    :Creator: R.A. Fisher\n",
      "    :Donor: Michael Marshall (MARSHALL%PLU@io.arc.nasa.gov)\n",
      "    :Date: July, 1988\n",
      "\n",
      "This is a copy of UCI ML Wine recognition datasets.\n",
      "https://archive.ics.uci.edu/ml/machine-learning-databases/wine/wine.data\n",
      "\n",
      "The data is the results of a chemical analysis of wines grown in the same\n",
      "region in Italy by three different cultivators. There are thirteen different\n",
      "measurements taken for different constituents found in the three types of\n",
      "wine.\n",
      "\n",
      "Original Owners: \n",
      "\n",
      "Forina, M. et al, PARVUS - \n",
      "An Extendible Package for Data Exploration, Classification and Correlation. \n",
      "Institute of Pharmaceutical and Food Analysis and Technologies,\n",
      "Via Brigata Salerno, 16147 Genoa, Italy.\n",
      "\n",
      "Citation:\n",
      "\n",
      "Lichman, M. (2013). UCI Machine Learning Repository\n",
      "[https://archive.ics.uci.edu/ml]. Irvine, CA: University of California,\n",
      "School of Information and Computer Science. \n",
      "\n",
      ".. topic:: References\n",
      "\n",
      "  (1) S. Aeberhard, D. Coomans and O. de Vel, \n",
      "  Comparison of Classifiers in High Dimensional Settings, \n",
      "  Tech. Rep. no. 92-02, (1992), Dept. of Computer Science and Dept. of  \n",
      "  Mathematics and Statistics, James Cook University of North Queensland. \n",
      "  (Also submitted to Technometrics). \n",
      "\n",
      "  The data was used with many others for comparing various \n",
      "  classifiers. The classes are separable, though only RDA \n",
      "  has achieved 100% correct classification. \n",
      "  (RDA : 100%, QDA 99.4%, LDA 98.9%, 1NN 96.1% (z-transformed data)) \n",
      "  (All results using the leave-one-out technique) \n",
      "\n",
      "  (2) S. Aeberhard, D. Coomans and O. de Vel, \n",
      "  \"THE CLASSIFICATION PERFORMANCE OF RDA\" \n",
      "  Tech. Rep. no. 92-01, (1992), Dept. of Computer Science and Dept. of \n",
      "  Mathematics and Statistics, James Cook University of North Queensland. \n",
      "  (Also submitted to Journal of Chemometrics).\n",
      "\n"
     ]
    }
   ],
   "source": [
    "# 데이터 설명\n",
    "print(wine.DESCR)"
   ]
  },
  {
   "cell_type": "markdown",
   "metadata": {},
   "source": [
    "#### 문제 풀이"
   ]
  },
  {
   "cell_type": "markdown",
   "metadata": {},
   "source": [
    "##### 01. 데이터 탐색 (EDA)"
   ]
  },
  {
   "cell_type": "code",
   "execution_count": 7,
   "metadata": {},
   "outputs": [
    {
     "name": "stdout",
     "output_type": "stream",
     "text": [
      "(142, 13)\n",
      "(36, 13)\n",
      "(142, 1)\n"
     ]
    }
   ],
   "source": [
    "# 데이터 행, 열 확인\n",
    "print(x_train.shape)\n",
    "print(x_test.shape)\n",
    "print(y_train.shape)"
   ]
  },
  {
   "cell_type": "code",
   "execution_count": 9,
   "metadata": {},
   "outputs": [
    {
     "name": "stdout",
     "output_type": "stream",
     "text": [
      "    alcohol  malic_acid   ash  alcalinity_of_ash  magnesium  total_phenols  \\\n",
      "39    14.22        3.99  2.51               13.2      128.0           3.00   \n",
      "83    13.05        3.86  2.32               22.5       85.0           1.65   \n",
      "68    13.34        0.94  2.36               17.0      110.0           2.53   \n",
      "\n",
      "    flavanoids  nonflavanoid_phenols  proanthocyanins  color_intensity   hue  \\\n",
      "39        3.04                  0.20             2.08             5.10  0.89   \n",
      "83        1.59                  0.61             1.62             4.80  0.84   \n",
      "68        1.30                  0.55             0.42             3.17  1.02   \n",
      "\n",
      "    od280/od315_of_diluted_wines  proline  \n",
      "39                          3.53    760.0  \n",
      "83                          2.01    515.0  \n",
      "68                          1.93    750.0  \n",
      "     alcohol  malic_acid   ash  alcalinity_of_ash  magnesium  total_phenols  \\\n",
      "81     12.72        1.81  2.20               18.8       86.0           2.20   \n",
      "88     11.64        2.06  2.46               21.6       84.0           1.95   \n",
      "134    12.51        1.24  2.25               17.5       85.0           2.00   \n",
      "\n",
      "     flavanoids  nonflavanoid_phenols  proanthocyanins  color_intensity   hue  \\\n",
      "81         2.53                  0.26             1.77             3.90  1.16   \n",
      "88         1.69                  0.48             1.35             2.80  1.00   \n",
      "134        0.58                  0.60             1.25             5.45  0.75   \n",
      "\n",
      "     od280/od315_of_diluted_wines  proline  \n",
      "81                           3.14    714.0  \n",
      "88                           2.75    680.0  \n",
      "134                          1.51    650.0  \n",
      "    target\n",
      "39       0\n",
      "83       1\n",
      "68       1\n"
     ]
    }
   ],
   "source": [
    "# 초기 데이터 확인\n",
    "print(x_train.head(3))\n",
    "print(x_test.head(3))\n",
    "print(y_train.head(3))"
   ]
  },
  {
   "cell_type": "code",
   "execution_count": 12,
   "metadata": {},
   "outputs": [
    {
     "name": "stdout",
     "output_type": "stream",
     "text": [
      "<class 'pandas.core.frame.DataFrame'>\n",
      "Int64Index: 142 entries, 39 to 6\n",
      "Data columns (total 13 columns):\n",
      " #   Column                        Non-Null Count  Dtype  \n",
      "---  ------                        --------------  -----  \n",
      " 0   alcohol                       142 non-null    float64\n",
      " 1   malic_acid                    142 non-null    float64\n",
      " 2   ash                           142 non-null    float64\n",
      " 3   alcalinity_of_ash             142 non-null    float64\n",
      " 4   magnesium                     142 non-null    float64\n",
      " 5   total_phenols                 142 non-null    float64\n",
      " 6   flavanoids                    142 non-null    float64\n",
      " 7   nonflavanoid_phenols          142 non-null    float64\n",
      " 8   proanthocyanins               142 non-null    float64\n",
      " 9   color_intensity               142 non-null    float64\n",
      " 10  hue                           142 non-null    float64\n",
      " 11  od280/od315_of_diluted_wines  142 non-null    float64\n",
      " 12  proline                       142 non-null    float64\n",
      "dtypes: float64(13)\n",
      "memory usage: 15.5 KB\n",
      "None\n",
      "<class 'pandas.core.frame.DataFrame'>\n",
      "Int64Index: 36 entries, 81 to 148\n",
      "Data columns (total 13 columns):\n",
      " #   Column                        Non-Null Count  Dtype  \n",
      "---  ------                        --------------  -----  \n",
      " 0   alcohol                       36 non-null     float64\n",
      " 1   malic_acid                    36 non-null     float64\n",
      " 2   ash                           36 non-null     float64\n",
      " 3   alcalinity_of_ash             36 non-null     float64\n",
      " 4   magnesium                     36 non-null     float64\n",
      " 5   total_phenols                 36 non-null     float64\n",
      " 6   flavanoids                    36 non-null     float64\n",
      " 7   nonflavanoid_phenols          36 non-null     float64\n",
      " 8   proanthocyanins               36 non-null     float64\n",
      " 9   color_intensity               36 non-null     float64\n",
      " 10  hue                           36 non-null     float64\n",
      " 11  od280/od315_of_diluted_wines  36 non-null     float64\n",
      " 12  proline                       36 non-null     float64\n",
      "dtypes: float64(13)\n",
      "memory usage: 3.9 KB\n",
      "None\n",
      "<class 'pandas.core.frame.DataFrame'>\n",
      "Int64Index: 142 entries, 39 to 6\n",
      "Data columns (total 1 columns):\n",
      " #   Column  Non-Null Count  Dtype\n",
      "---  ------  --------------  -----\n",
      " 0   target  142 non-null    int32\n",
      "dtypes: int32(1)\n",
      "memory usage: 1.7 KB\n",
      "None\n"
     ]
    }
   ],
   "source": [
    "# 변수명과 데이터 타입이 매칭되는지, 결측치 있는지 확인\n",
    "print(x_train.info())\n",
    "print(x_test.info())\n",
    "print(y_train.info())"
   ]
  },
  {
   "cell_type": "code",
   "execution_count": 15,
   "metadata": {},
   "outputs": [
    {
     "name": "stdout",
     "output_type": "stream",
     "text": [
      "                              count        mean         std     min       25%  \\\n",
      "alcohol                       142.0   13.020845    0.820986   11.03   12.3450   \n",
      "malic_acid                    142.0    2.303099    1.103127    0.74    1.5400   \n",
      "ash                           142.0    2.377606    0.272854    1.70    2.2225   \n",
      "alcalinity_of_ash             142.0   19.652113    3.389025   11.40   17.1250   \n",
      "magnesium                     142.0  100.978873   14.747746   70.00   89.0000   \n",
      "total_phenols                 142.0    2.322394    0.649696    0.98    1.7050   \n",
      "flavanoids                    142.0    2.064155    1.004367    0.34    1.2500   \n",
      "nonflavanoid_phenols          142.0    0.354225    0.119219    0.13    0.2600   \n",
      "proanthocyanins               142.0    1.608380    0.577259    0.42    1.2500   \n",
      "color_intensity               142.0    5.044155    2.299338    1.74    3.1025   \n",
      "hue                           142.0    0.962930    0.229242    0.48    0.7925   \n",
      "od280/od315_of_diluted_wines  142.0    2.624085    0.700862    1.27    2.0200   \n",
      "proline                       142.0  739.098592  324.248532  278.00  483.7500   \n",
      "\n",
      "                                  50%       75%      max  \n",
      "alcohol                        13.050   13.7175    14.75  \n",
      "malic_acid                      1.845    3.0300     5.80  \n",
      "ash                             2.365    2.5800     3.23  \n",
      "alcalinity_of_ash              19.500   21.5000    30.00  \n",
      "magnesium                      98.000  109.5000   162.00  \n",
      "total_phenols                   2.415    2.8450     3.88  \n",
      "flavanoids                      2.170    2.8975     5.08  \n",
      "nonflavanoid_phenols            0.340    0.4300     0.66  \n",
      "proanthocyanins                 1.560    1.9700     3.58  \n",
      "color_intensity                 4.800    6.2375    13.00  \n",
      "hue                             0.960    1.1200     1.71  \n",
      "od280/od315_of_diluted_wines    2.795    3.1875     4.00  \n",
      "proline                       650.000  981.2500  1680.00  \n",
      "                              count        mean         std     min       25%  \\\n",
      "alcohol                        36.0   12.920833    0.780664   11.45   12.3700   \n",
      "malic_acid                     36.0    2.467500    1.177664    0.94    1.6950   \n",
      "ash                            36.0    2.322778    0.279700    1.36    2.2000   \n",
      "alcalinity_of_ash              36.0   18.875000    3.104041   10.60   17.4250   \n",
      "magnesium                      36.0   94.861111   11.166667   78.00   86.0000   \n",
      "total_phenols                  36.0    2.187500    0.515189    1.38    1.7800   \n",
      "flavanoids                     36.0    1.891667    0.978446    0.51    0.7750   \n",
      "nonflavanoid_phenols           36.0    0.391944    0.141074    0.21    0.2775   \n",
      "proanthocyanins                36.0    1.521944    0.555095    0.41    1.2475   \n",
      "color_intensity                36.0    5.113056    2.424166    1.28    3.2925   \n",
      "hue                            36.0    0.935833    0.227814    0.55    0.7500   \n",
      "od280/od315_of_diluted_wines   36.0    2.562778    0.753186    1.48    1.7050   \n",
      "proline                        36.0  777.638889  277.000170  380.00  576.0000   \n",
      "\n",
      "                                  50%        75%      max  \n",
      "alcohol                        12.910    13.3050    14.83  \n",
      "malic_acid                      2.015     3.2550     5.51  \n",
      "ash                             2.290     2.4375     2.92  \n",
      "alcalinity_of_ash              18.900    20.5500    25.00  \n",
      "magnesium                      94.000   101.0000   127.00  \n",
      "total_phenols                   2.105     2.6625     3.00  \n",
      "flavanoids                      1.960     2.7675     3.32  \n",
      "nonflavanoid_phenols            0.330     0.4800     0.63  \n",
      "proanthocyanins                 1.460     1.8625     2.91  \n",
      "color_intensity                 4.490     5.8125    10.52  \n",
      "hue                             1.010     1.0825     1.36  \n",
      "od280/od315_of_diluted_wines    2.760     3.1625     3.92  \n",
      "proline                       680.000  1001.2500  1510.00  \n"
     ]
    }
   ],
   "source": [
    "# x_trian과 x_test 데이터 기초 통계량 비교\n",
    "print(x_train.describe().T)\n",
    "print(x_test.describe().T)"
   ]
  },
  {
   "cell_type": "code",
   "execution_count": 16,
   "metadata": {},
   "outputs": [
    {
     "name": "stdout",
     "output_type": "stream",
     "text": [
      "    target\n",
      "39       0\n",
      "83       1\n",
      "68       1\n",
      "target\n",
      "1         57\n",
      "0         47\n",
      "2         38\n",
      "dtype: int64\n"
     ]
    }
   ],
   "source": [
    "# y 데이터 확인 \n",
    "print(y_train.head(3))\n",
    "print(y_train.value_counts())"
   ]
  },
  {
   "cell_type": "markdown",
   "metadata": {},
   "source": [
    "##### 02. 데이터 전처리 및 분리\n",
    "- 1) 결측치\n",
    "  2) 이상치\n",
    "  3) 변수처리 "
   ]
  },
  {
   "cell_type": "code",
   "execution_count": 17,
   "metadata": {},
   "outputs": [
    {
     "name": "stdout",
     "output_type": "stream",
     "text": [
      "alcohol                         0\n",
      "malic_acid                      0\n",
      "ash                             0\n",
      "alcalinity_of_ash               0\n",
      "magnesium                       0\n",
      "total_phenols                   0\n",
      "flavanoids                      0\n",
      "nonflavanoid_phenols            0\n",
      "proanthocyanins                 0\n",
      "color_intensity                 0\n",
      "hue                             0\n",
      "od280/od315_of_diluted_wines    0\n",
      "proline                         0\n",
      "dtype: int64\n",
      "alcohol                         0\n",
      "malic_acid                      0\n",
      "ash                             0\n",
      "alcalinity_of_ash               0\n",
      "magnesium                       0\n",
      "total_phenols                   0\n",
      "flavanoids                      0\n",
      "nonflavanoid_phenols            0\n",
      "proanthocyanins                 0\n",
      "color_intensity                 0\n",
      "hue                             0\n",
      "od280/od315_of_diluted_wines    0\n",
      "proline                         0\n",
      "dtype: int64\n",
      "target    0\n",
      "dtype: int64\n"
     ]
    }
   ],
   "source": [
    "# 결측치 확인 \n",
    "print(x_train.isnull().sum())\n",
    "print(x_test.isnull().sum())\n",
    "print(y_train.isnull().sum())\n"
   ]
  },
  {
   "cell_type": "code",
   "execution_count": null,
   "metadata": {},
   "outputs": [],
   "source": [
    "# 결측치 제거\n",
    "\n",
    "# 만약 결측치가 있는 경우 dropna() 사용\n",
    "# Default : 행을 기준으로 삭제 !\n",
    "# df = df.dropna()\n",
    "# print(df)\n",
    "# print(df.dropna().shape)"
   ]
  },
  {
   "cell_type": "code",
   "execution_count": null,
   "metadata": {},
   "outputs": [],
   "source": [
    "# 결측치 대체 (평균값, 중앙값, 최빈값)\n",
    "\n",
    "# 연속형의 경우 이상값에 영향이 가장 적은 중앙값 활용 \n",
    "# 범주형의 경우 최빈값 활용\n",
    "# 평균(mean), 중앙값(median), 최빈값(mode)\n",
    "# df['예시'].median()\n",
    "# df['예시'] = df['예시'].fillna.(대체값)\n",
    "\n",
    "# 예시) df['예시'] = df['예시'].fillna.(df['예시'].median())"
   ]
  },
  {
   "cell_type": "code",
   "execution_count": null,
   "metadata": {},
   "outputs": [],
   "source": [
    "# 변수 처리\n",
    "\n",
    "# 불필요한 변수 제거\n",
    "# 방법 1. df = df.drop(columns = ['변수1','변수2'])\n",
    "# 방법 2. df = df.drop(['변수1','변수2'],axis=1)\n",
    "\n",
    "# 필요시 변수 추가 (파생변수 생성)\n",
    "# df['파생변수'] = df['A']+df['B'] (파생변수 생성 형태)\n",
    "\n",
    "# 원핫인코딩 (가변수 처리) : 범주형 데이터 다룰때\n",
    "# x_train = pd.get_dummies(x_train)\n",
    "# x_test = pd.get_dummies(x_test)\n",
    "# y_train = pd.get_dummies(y_train)"
   ]
  },
  {
   "cell_type": "markdown",
   "metadata": {},
   "source": [
    "##### 03. 데이터 분리"
   ]
  },
  {
   "cell_type": "code",
   "execution_count": 18,
   "metadata": {},
   "outputs": [
    {
     "name": "stdout",
     "output_type": "stream",
     "text": [
      "(113, 13)\n",
      "(29, 13)\n",
      "(113,)\n",
      "(29,)\n"
     ]
    }
   ],
   "source": [
    "# 데이터 훈련 세트와 검증용 세트로 분할 (80% 훈련, 20% 검증)\n",
    "x_train, x_val, y_train, y_val = train_test_split(x_train,y_train['target'],test_size=0.2, stratify=y_train['target'],random_state=2024)\n",
    "print(x_train.shape)\n",
    "print(x_val.shape)\n",
    "print(y_train.shape)\n",
    "print(y_val.shape)\n"
   ]
  },
  {
   "cell_type": "markdown",
   "metadata": {},
   "source": [
    "##### 04. 모델링 및 성능평가"
   ]
  },
  {
   "cell_type": "code",
   "execution_count": 20,
   "metadata": {},
   "outputs": [
    {
     "data": {
      "text/plain": [
       "RandomForestClassifier()"
      ]
     },
     "execution_count": 20,
     "metadata": {},
     "output_type": "execute_result"
    }
   ],
   "source": [
    "# 랜덤 포레스트 사용\n",
    "# 회귀 : RandomForestRegressor , 분류 : RandomForestClassifier\n",
    "\n",
    "model  = RandomForestClassifier()\n",
    "model.fit(x_train,y_train) "
   ]
  },
  {
   "cell_type": "code",
   "execution_count": 21,
   "metadata": {},
   "outputs": [],
   "source": [
    "# 모델을 사용하에 테스트 데이터 예측\n",
    "y_pred = model.predict(x_val)"
   ]
  },
  {
   "cell_type": "code",
   "execution_count": 22,
   "metadata": {},
   "outputs": [
    {
     "name": "stdout",
     "output_type": "stream",
     "text": [
      "정확도 :  0.9655172413793104\n",
      "macro f1 score :  0.9658994032395567\n"
     ]
    }
   ],
   "source": [
    "# 모델 성능 평가 (정확도 : accuracy_score, 민감도(재현율) : recall_score, 특이도 : precision_score, ROC_AUC : roc_auc_score(이진 분류때만 사용))\n",
    "\n",
    "acc = accuracy_score(y_val, y_pred) # 순서 주의 (실제값, 예측값)\n",
    "f1 = f1_score(y_val, y_pred,average='macro')  # 순서 주의 (실제값, 예측값)\n",
    "\n",
    "print('정확도 : ', acc)\n",
    "print('macro f1 score : ', f1)"
   ]
  },
  {
   "cell_type": "markdown",
   "metadata": {},
   "source": [
    "##### 05. 예측값 제출 \n",
    "- 주의 ! test 셋을 모델에 넣어 나온 예측값을 제출해야함 "
   ]
  },
  {
   "cell_type": "code",
   "execution_count": 23,
   "metadata": {},
   "outputs": [
    {
     "name": "stdout",
     "output_type": "stream",
     "text": [
      "[1 1 2 0 0]\n",
      "[[0.26 0.73 0.01]\n",
      " [0.01 0.99 0.  ]\n",
      " [0.04 0.17 0.79]\n",
      " [0.95 0.05 0.  ]\n",
      " [0.83 0.14 0.03]]\n"
     ]
    }
   ],
   "source": [
    "# 아래 코드 예측변수와 수험번호를 개인별로 변경하여 활용\n",
    "# pd.DataFrame({'result' : y_result}).to_csv('수험번호.csv',index=False)\n",
    "\n",
    "# 모델을 사용하여 테스트 데이터 예측\n",
    "\n",
    "# 1. 특정 클래스로 분류할 경우 (predict)\n",
    "y_result = model.predict(x_test)\n",
    "print(y_result[:5])\n",
    "\n",
    "# 2. 특정 클래스로 분류될 확률을 구할 경우 (predict_proba)\n",
    "y_result_proba = model.predict_proba(x_test)\n",
    "print(y_result_proba[:5])"
   ]
  },
  {
   "cell_type": "code",
   "execution_count": 24,
   "metadata": {},
   "outputs": [
    {
     "data": {
      "text/html": [
       "<div>\n",
       "<style scoped>\n",
       "    .dataframe tbody tr th:only-of-type {\n",
       "        vertical-align: middle;\n",
       "    }\n",
       "\n",
       "    .dataframe tbody tr th {\n",
       "        vertical-align: top;\n",
       "    }\n",
       "\n",
       "    .dataframe thead th {\n",
       "        text-align: right;\n",
       "    }\n",
       "</style>\n",
       "<table border=\"1\" class=\"dataframe\">\n",
       "  <thead>\n",
       "    <tr style=\"text-align: right;\">\n",
       "      <th></th>\n",
       "      <th>result</th>\n",
       "      <th>prob_0</th>\n",
       "      <th>prob_1</th>\n",
       "      <th>prob_2</th>\n",
       "    </tr>\n",
       "  </thead>\n",
       "  <tbody>\n",
       "    <tr>\n",
       "      <th>0</th>\n",
       "      <td>1</td>\n",
       "      <td>0.26</td>\n",
       "      <td>0.73</td>\n",
       "      <td>0.01</td>\n",
       "    </tr>\n",
       "    <tr>\n",
       "      <th>1</th>\n",
       "      <td>1</td>\n",
       "      <td>0.01</td>\n",
       "      <td>0.99</td>\n",
       "      <td>0.00</td>\n",
       "    </tr>\n",
       "    <tr>\n",
       "      <th>2</th>\n",
       "      <td>2</td>\n",
       "      <td>0.04</td>\n",
       "      <td>0.17</td>\n",
       "      <td>0.79</td>\n",
       "    </tr>\n",
       "    <tr>\n",
       "      <th>3</th>\n",
       "      <td>0</td>\n",
       "      <td>0.95</td>\n",
       "      <td>0.05</td>\n",
       "      <td>0.00</td>\n",
       "    </tr>\n",
       "    <tr>\n",
       "      <th>4</th>\n",
       "      <td>0</td>\n",
       "      <td>0.83</td>\n",
       "      <td>0.14</td>\n",
       "      <td>0.03</td>\n",
       "    </tr>\n",
       "  </tbody>\n",
       "</table>\n",
       "</div>"
      ],
      "text/plain": [
       "   result  prob_0  prob_1  prob_2\n",
       "0       1    0.26    0.73    0.01\n",
       "1       1    0.01    0.99    0.00\n",
       "2       2    0.04    0.17    0.79\n",
       "3       0    0.95    0.05    0.00\n",
       "4       0    0.83    0.14    0.03"
      ]
     },
     "execution_count": 24,
     "metadata": {},
     "output_type": "execute_result"
    }
   ],
   "source": [
    "result_prob = pd.DataFrame({\n",
    "    'result' : y_result,\n",
    "    'prob_0' : y_result_proba[:,0],\n",
    "    'prob_1' : y_result_proba[:,1],\n",
    "    'prob_2' : y_result_proba[:,2]\n",
    "})\n",
    "\n",
    "# class가 0일 확률 : prob_0\n",
    "# class가 0일 확률 : prob_1\n",
    "# class가 0일 확률 : prob_2\n",
    "\n",
    "result_prob.head()"
   ]
  },
  {
   "cell_type": "code",
   "execution_count": null,
   "metadata": {},
   "outputs": [],
   "source": [
    "# 데이터 저장\n",
    "# pd.DataFrame({\"result\": y_result}).to_csv('수험번호1.csv', index=False)\n",
    "\n",
    "# tip! 데이터를 저장한 다음 불러와서 제대로 제출했는지 확인해보자\n",
    "df_check = pd.read_csv('수험번호.csv')\n",
    "print(df_check.head())"
   ]
  }
 ],
 "metadata": {
  "kernelspec": {
   "display_name": "base",
   "language": "python",
   "name": "python3"
  },
  "language_info": {
   "codemirror_mode": {
    "name": "ipython",
    "version": 3
   },
   "file_extension": ".py",
   "mimetype": "text/x-python",
   "name": "python",
   "nbconvert_exporter": "python",
   "pygments_lexer": "ipython3",
   "version": "3.9.12"
  }
 },
 "nbformat": 4,
 "nbformat_minor": 2
}
