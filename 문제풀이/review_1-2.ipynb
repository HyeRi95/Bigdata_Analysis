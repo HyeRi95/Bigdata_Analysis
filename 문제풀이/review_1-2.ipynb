{
 "cells": [
  {
   "cell_type": "code",
   "execution_count": 3,
   "metadata": {},
   "outputs": [],
   "source": [
    "# 데이터 불러오기\n",
    "import pandas as pd \n",
    "import numpy as numpy\n",
    "from sklearn.preprocessing import MinMaxScaler, StandardScaler\n",
    "\n",
    "df_mtcars=pd.read_csv('../mtcars.csv')"
   ]
  },
  {
   "cell_type": "markdown",
   "metadata": {
    "vscode": {
     "languageId": "plaintext"
    }
   },
   "source": [
    "> 문제1) mpg 변수의 제 1사분위수를 구하고 정수값으로 출력하시오"
   ]
  },
  {
   "cell_type": "code",
   "execution_count": 4,
   "metadata": {},
   "outputs": [
    {
     "data": {
      "text/plain": [
       "15"
      ]
     },
     "execution_count": 4,
     "metadata": {},
     "output_type": "execute_result"
    }
   ],
   "source": [
    "round(df_mtcars['mpg'].quantile(0.25))"
   ]
  },
  {
   "cell_type": "markdown",
   "metadata": {
    "vscode": {
     "languageId": "plaintext"
    }
   },
   "source": [
    "> 문제2) mpg 값이 19 이상 21이하인데 데이터의 수를 구하시오 "
   ]
  },
  {
   "cell_type": "code",
   "execution_count": 5,
   "metadata": {},
   "outputs": [
    {
     "data": {
      "text/plain": [
       "5"
      ]
     },
     "execution_count": 5,
     "metadata": {},
     "output_type": "execute_result"
    }
   ],
   "source": [
    "len(df_mtcars[(df_mtcars['mpg']>=19)&(df_mtcars['mpg']<=21)])"
   ]
  },
  {
   "cell_type": "markdown",
   "metadata": {
    "vscode": {
     "languageId": "plaintext"
    }
   },
   "source": [
    "> 문제3) hp변수의 IQR 값을 구하시오 "
   ]
  },
  {
   "cell_type": "code",
   "execution_count": 7,
   "metadata": {},
   "outputs": [
    {
     "data": {
      "text/plain": [
       "83.5"
      ]
     },
     "execution_count": 7,
     "metadata": {},
     "output_type": "execute_result"
    }
   ],
   "source": [
    "q1_hp = df_mtcars['hp'].quantile(0.25)\n",
    "q3_hp = df_mtcars['hp'].quantile(0.75)\n",
    "\n",
    "iqr_hp = abs(q1_hp-q3_hp)\n",
    "iqr_hp"
   ]
  },
  {
   "cell_type": "markdown",
   "metadata": {
    "vscode": {
     "languageId": "plaintext"
    }
   },
   "source": [
    "> 문제4) wt 변수의 상위 10개 값의 총합을 구하여 소수점을 버리고 정수로 출력하시오"
   ]
  },
  {
   "cell_type": "code",
   "execution_count": 10,
   "metadata": {},
   "outputs": [
    {
     "data": {
      "text/plain": [
       "42"
      ]
     },
     "execution_count": 10,
     "metadata": {},
     "output_type": "execute_result"
    }
   ],
   "source": [
    "round(df_mtcars.sort_values(by='wt',ascending=False).wt.head(10).sum())"
   ]
  },
  {
   "cell_type": "markdown",
   "metadata": {
    "vscode": {
     "languageId": "plaintext"
    }
   },
   "source": [
    "> 문제5) 전체 자동차에서 cyl가 6인 비율이 얼마인지 소수점 첫째 자리까지 출력하시오"
   ]
  },
  {
   "cell_type": "code",
   "execution_count": 14,
   "metadata": {},
   "outputs": [
    {
     "data": {
      "text/plain": [
       "0.2"
      ]
     },
     "execution_count": 14,
     "metadata": {},
     "output_type": "execute_result"
    }
   ],
   "source": [
    "round(len(df_mtcars[df_mtcars['cyl']==6])/len(df_mtcars),1)"
   ]
  },
  {
   "cell_type": "markdown",
   "metadata": {
    "vscode": {
     "languageId": "plaintext"
    }
   },
   "source": [
    "> 문제6) 첫번 째 행부터 순서대로 10개 뽑은 후 mpg 열의 평균값을 반올림하여 정수로 출력하시오"
   ]
  },
  {
   "cell_type": "code",
   "execution_count": 16,
   "metadata": {},
   "outputs": [
    {
     "data": {
      "text/plain": [
       "20"
      ]
     },
     "execution_count": 16,
     "metadata": {},
     "output_type": "execute_result"
    }
   ],
   "source": [
    "round(df_mtcars.mpg.head(10).mean())"
   ]
  },
  {
   "cell_type": "markdown",
   "metadata": {
    "vscode": {
     "languageId": "plaintext"
    }
   },
   "source": [
    "> 문제7) 첫번째 행부터 순서대로 50% 까지 데이터를 뽑아 wt 변수의 중앙값을 구하시오"
   ]
  },
  {
   "cell_type": "code",
   "execution_count": null,
   "metadata": {},
   "outputs": [
    {
     "data": {
      "text/plain": [
       "3.44"
      ]
     },
     "execution_count": 20,
     "metadata": {},
     "output_type": "execute_result"
    }
   ],
   "source": [
    "df_mtcars.wt.head(len(df_mtcars)//2).median()"
   ]
  },
  {
   "cell_type": "markdown",
   "metadata": {
    "vscode": {
     "languageId": "plaintext"
    }
   },
   "source": [
    "> 문제8) 결측값이 있는 데이터의 수를 출력하시오"
   ]
  },
  {
   "cell_type": "code",
   "execution_count": 22,
   "metadata": {},
   "outputs": [
    {
     "data": {
      "text/plain": [
       "날짜      1\n",
       "제품      2\n",
       "판매수     2\n",
       "개당수익    0\n",
       "dtype: int64"
      ]
     },
     "execution_count": 22,
     "metadata": {},
     "output_type": "execute_result"
    }
   ],
   "source": [
    "# 답 \n",
    "new_df = pd.DataFrame({\n",
    "  \"날짜\": ['20220103', '20220105', None, '20230127', '20220203', '20220205', '20230223', '20230325', '20230427', '20230526', '20230603', '20230723'],\n",
    "  '제품': ['A', 'B', None, 'B', 'A', None, 'A', 'B', 'A', 'B', 'A', 'A'],\n",
    "  '판매수': [3, None, 5, 10, 10, 10, 15, 15, 20, None, 30, 40],\n",
    "  '개당수익': [300, 400, 500, 600, 400, 500, 500, 600, 600, 700, 600, 600]\n",
    "})\n",
    "\n",
    "# print(sum(new_df.isnull().sum()))\n",
    "new_df.isnull().sum()"
   ]
  },
  {
   "cell_type": "markdown",
   "metadata": {
    "vscode": {
     "languageId": "plaintext"
    }
   },
   "source": [
    "> 문제9) '판매수' 컬럼의 결측값을 판매수의 중앙값으로 대체하고 판매수의 평균값을 정수로 출력하시오"
   ]
  },
  {
   "cell_type": "code",
   "execution_count": 36,
   "metadata": {},
   "outputs": [
    {
     "data": {
      "text/plain": [
       "15"
      ]
     },
     "execution_count": 36,
     "metadata": {},
     "output_type": "execute_result"
    }
   ],
   "source": [
    "new_df2 = new_df.copy()\n",
    "new_df2['판매수'] = new_df2['판매수'].fillna(new_df2['판매수'].median(),)\n",
    "round(new_df2['판매수'].mean())"
   ]
  },
  {
   "cell_type": "markdown",
   "metadata": {
    "vscode": {
     "languageId": "plaintext"
    }
   },
   "source": [
    "> 문제10) - 문제 10.\n",
    "판매수 컬럼에 결측치가 있는 행을 제거하고,   \n",
    "첫번째 행부터 순서대로 50%까지 데이터를 추출하여   \n",
    "판매수 변수의 Q1(제1사분위수) 값을 정수로 출력하시오.   "
   ]
  },
  {
   "cell_type": "code",
   "execution_count": null,
   "metadata": {},
   "outputs": [
    {
     "data": {
      "text/plain": [
       "5"
      ]
     },
     "execution_count": 37,
     "metadata": {},
     "output_type": "execute_result"
    }
   ],
   "source": [
    "new_df3 = new_df.copy()\n",
    "new_df3['판매수'].dropna(inplace=True)\n",
    "round(new_df3.head(len(new_df3)//2)['판매수'].quantile(0.25))"
   ]
  }
 ],
 "metadata": {
  "kernelspec": {
   "display_name": "base",
   "language": "python",
   "name": "python3"
  },
  "language_info": {
   "codemirror_mode": {
    "name": "ipython",
    "version": 3
   },
   "file_extension": ".py",
   "mimetype": "text/x-python",
   "name": "python",
   "nbconvert_exporter": "python",
   "pygments_lexer": "ipython3",
   "version": "3.9.12"
  }
 },
 "nbformat": 4,
 "nbformat_minor": 2
}
