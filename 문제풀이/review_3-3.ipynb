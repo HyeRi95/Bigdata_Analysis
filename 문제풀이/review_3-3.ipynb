{
 "cells": [
  {
   "cell_type": "code",
   "execution_count": 4,
   "metadata": {},
   "outputs": [],
   "source": [
    "import pandas as pd \n",
    "import numpy as np \n",
    "from sklearn.preprocessing import StandardScaler,MinMaxScaler\n",
    "from sklearn.model_selection import train_test_split\n",
    "from sklearn.ensemble import RandomForestClassifier, RandomForestRegressor\n",
    "from sklearn.metrics import accuracy_score, precision_score, recall_score,f1_score,r2_score, mean_squared_error\n",
    "from scipy.stats import ttest_1samp, ttest_rel, ttest_ind, f_oneway,wilcoxon, ranksums,kruskal,shapiro,bartlett, levene, chisquare,chi2_contingency"
   ]
  },
  {
   "cell_type": "markdown",
   "metadata": {},
   "source": [
    "> 문제1) 다음은 A,B,C 그룹 인원 성적 데이터이다.\n",
    "세 그룹의 성적 평균이 같다고 할 수 있는지 ANOVA 분석을 실시하시오.    \n",
    "(유의수준 5%)   "
   ]
  },
  {
   "cell_type": "markdown",
   "metadata": {},
   "source": [
    "    * A,B,C : 각 그룹 인원의 성적\n",
    "    * 귀무가설(H0) : 세그룹의 성적 평균이 같다  \n",
    "    * 대립가설(H1) : 세 그룹의 성적 평균이 같지 않다 "
   ]
  },
  {
   "cell_type": "code",
   "execution_count": 5,
   "metadata": {},
   "outputs": [
    {
     "data": {
      "text/html": [
       "<div>\n",
       "<style scoped>\n",
       "    .dataframe tbody tr th:only-of-type {\n",
       "        vertical-align: middle;\n",
       "    }\n",
       "\n",
       "    .dataframe tbody tr th {\n",
       "        vertical-align: top;\n",
       "    }\n",
       "\n",
       "    .dataframe thead th {\n",
       "        text-align: right;\n",
       "    }\n",
       "</style>\n",
       "<table border=\"1\" class=\"dataframe\">\n",
       "  <thead>\n",
       "    <tr style=\"text-align: right;\">\n",
       "      <th></th>\n",
       "      <th>A</th>\n",
       "      <th>B</th>\n",
       "      <th>C</th>\n",
       "    </tr>\n",
       "  </thead>\n",
       "  <tbody>\n",
       "    <tr>\n",
       "      <th>0</th>\n",
       "      <td>120</td>\n",
       "      <td>110</td>\n",
       "      <td>130</td>\n",
       "    </tr>\n",
       "    <tr>\n",
       "      <th>1</th>\n",
       "      <td>135</td>\n",
       "      <td>132</td>\n",
       "      <td>120</td>\n",
       "    </tr>\n",
       "    <tr>\n",
       "      <th>2</th>\n",
       "      <td>122</td>\n",
       "      <td>123</td>\n",
       "      <td>115</td>\n",
       "    </tr>\n",
       "    <tr>\n",
       "      <th>3</th>\n",
       "      <td>124</td>\n",
       "      <td>119</td>\n",
       "      <td>122</td>\n",
       "    </tr>\n",
       "    <tr>\n",
       "      <th>4</th>\n",
       "      <td>135</td>\n",
       "      <td>123</td>\n",
       "      <td>133</td>\n",
       "    </tr>\n",
       "  </tbody>\n",
       "</table>\n",
       "</div>"
      ],
      "text/plain": [
       "     A    B    C\n",
       "0  120  110  130\n",
       "1  135  132  120\n",
       "2  122  123  115\n",
       "3  124  119  122\n",
       "4  135  123  133"
      ]
     },
     "execution_count": 5,
     "metadata": {},
     "output_type": "execute_result"
    }
   ],
   "source": [
    "# 데이터 만들기\n",
    "df = pd.DataFrame( {\n",
    "    'A': [120, 135, 122, 124, 135, 122, 145, 160, 155, 142, 144, 135, 167],\n",
    "    'B' : [110, 132, 123, 119, 123, 115, 140, 162, 142, 138, 135, 142, 160],\n",
    "    'C' : [130, 120, 115, 122, 133, 144, 122, 120, 110, 134, 125, 122, 122]})\n",
    "\n",
    "df.head()"
   ]
  },
  {
   "cell_type": "code",
   "execution_count": 6,
   "metadata": {},
   "outputs": [
    {
     "name": "stdout",
     "output_type": "stream",
     "text": [
      "세그룹 모두 정규성을 만족한다\n"
     ]
    }
   ],
   "source": [
    "# 모집단 3개 이상 (ANOVA) -> f_oneway / kruskal\n",
    "# 정규성 검정 shapiro\n",
    "# 등분산성 검정 bartlett/levene\n",
    "\n",
    "# 정규성 검정\n",
    "a_s , a_p = shapiro(df['A'])\n",
    "b_s , b_p = shapiro(df['B'])\n",
    "c_s , c_p = shapiro(df['C'])\n",
    "\n",
    "if (a_p>0.05)&(b_p>0.05)&(c_p>0.05) :\n",
    "    print('세그룹 모두 정규성을 만족한다')\n",
    "else :\n",
    "    print('세그룹중 하나라도 정규성을 만족하지 않는다')\n"
   ]
  },
  {
   "cell_type": "code",
   "execution_count": null,
   "metadata": {},
   "outputs": [
    {
     "name": "stdout",
     "output_type": "stream",
     "text": [
      "0.12110174433684852\n"
     ]
    }
   ],
   "source": [
    "# 등분산성 검정\n",
    "eq_s, eq_p = bartlett(df['A'],df['B'],df['C'])\n",
    "\n",
    "print(eq_p)\n",
    "# 등분산성 만족 "
   ]
  },
  {
   "cell_type": "code",
   "execution_count": 8,
   "metadata": {},
   "outputs": [
    {
     "name": "stdout",
     "output_type": "stream",
     "text": [
      "A,B,C 그룹 성적 평균이 같지 않다\n"
     ]
    }
   ],
   "source": [
    "statistic, pvalue = f_oneway(df['A'],df['B'],df['C'])\n",
    "if pvalue>0.05 : \n",
    "    print('A,B,C 그룹 성적 평균이 같다')\n",
    "else :\n",
    "    print('A,B,C 그룹 성적 평균이 같지 않다')"
   ]
  },
  {
   "cell_type": "code",
   "execution_count": 9,
   "metadata": {},
   "outputs": [
    {
     "name": "stdout",
     "output_type": "stream",
     "text": [
      "A,B,C 그룹 성적 평균이 같지 않다\n"
     ]
    }
   ],
   "source": [
    "# 만약 정규성을 따르지 않는다면 -> kruskal\n",
    "x_s, x_p = kruskal(df['A'],df['B'],df['C'])\n",
    "\n",
    "if x_p >0.05 : \n",
    "    print('A,B,C 그룹 성적 평균이 같다')\n",
    "else :\n",
    "    print('A,B,C 그룹 성적 평균이 같지 않다')"
   ]
  },
  {
   "cell_type": "markdown",
   "metadata": {},
   "source": [
    "> 문제2 ) 문제 1과 동일한 문제이지만 데이터 형태가 다를때 "
   ]
  },
  {
   "cell_type": "code",
   "execution_count": 10,
   "metadata": {},
   "outputs": [
    {
     "data": {
      "text/html": [
       "<div>\n",
       "<style scoped>\n",
       "    .dataframe tbody tr th:only-of-type {\n",
       "        vertical-align: middle;\n",
       "    }\n",
       "\n",
       "    .dataframe tbody tr th {\n",
       "        vertical-align: top;\n",
       "    }\n",
       "\n",
       "    .dataframe thead th {\n",
       "        text-align: right;\n",
       "    }\n",
       "</style>\n",
       "<table border=\"1\" class=\"dataframe\">\n",
       "  <thead>\n",
       "    <tr style=\"text-align: right;\">\n",
       "      <th></th>\n",
       "      <th>항목</th>\n",
       "      <th>value</th>\n",
       "    </tr>\n",
       "  </thead>\n",
       "  <tbody>\n",
       "    <tr>\n",
       "      <th>0</th>\n",
       "      <td>A</td>\n",
       "      <td>120</td>\n",
       "    </tr>\n",
       "    <tr>\n",
       "      <th>1</th>\n",
       "      <td>A</td>\n",
       "      <td>135</td>\n",
       "    </tr>\n",
       "    <tr>\n",
       "      <th>2</th>\n",
       "      <td>A</td>\n",
       "      <td>122</td>\n",
       "    </tr>\n",
       "    <tr>\n",
       "      <th>3</th>\n",
       "      <td>A</td>\n",
       "      <td>124</td>\n",
       "    </tr>\n",
       "    <tr>\n",
       "      <th>4</th>\n",
       "      <td>A</td>\n",
       "      <td>135</td>\n",
       "    </tr>\n",
       "  </tbody>\n",
       "</table>\n",
       "</div>"
      ],
      "text/plain": [
       "  항목  value\n",
       "0  A    120\n",
       "1  A    135\n",
       "2  A    122\n",
       "3  A    124\n",
       "4  A    135"
      ]
     },
     "execution_count": 10,
     "metadata": {},
     "output_type": "execute_result"
    }
   ],
   "source": [
    "df2 = pd.DataFrame( {\n",
    "    '항목': ['A','A','A','A','A','A','A','A','A','A','A','A','A',\n",
    "           'B','B','B','B','B','B','B','B','B','B','B','B','B',\n",
    "           'C','C','C','C','C','C','C','C','C','C','C','C','C',],\n",
    "    'value': [120, 135, 122, 124, 135, 122, 145, 160, 155, 142, 144, 135, 167,\n",
    "             110, 132, 123, 119, 123, 115, 140, 162, 142, 138, 135, 142, 160,\n",
    "             130, 120, 115, 122, 133, 144, 122, 120, 110, 134, 125, 122, 122]\n",
    "    })\n",
    "\n",
    "df2.head()"
   ]
  },
  {
   "cell_type": "markdown",
   "metadata": {},
   "source": [
    "- 항목에 따라 데이터를 만들어서 진행해야한다"
   ]
  },
  {
   "cell_type": "code",
   "execution_count": 13,
   "metadata": {},
   "outputs": [
    {
     "data": {
      "text/plain": [
       "0    120\n",
       "1    135\n",
       "2    122\n",
       "3    124\n",
       "4    135\n",
       "Name: value, dtype: int64"
      ]
     },
     "execution_count": 13,
     "metadata": {},
     "output_type": "execute_result"
    }
   ],
   "source": [
    "df_a = df2[df2['항목']=='A']['value']\n",
    "df_b = df2[df2['항목']=='B']['value']\n",
    "df_c = df2[df2['항목']=='C']['value']\n",
    "\n",
    "df_a.head()"
   ]
  },
  {
   "cell_type": "code",
   "execution_count": 15,
   "metadata": {},
   "outputs": [
    {
     "name": "stdout",
     "output_type": "stream",
     "text": [
      "세그룹 모두 정규성을 만족한다\n",
      "0.35584837198257446 0.5955665707588196 0.452654629945755\n"
     ]
    }
   ],
   "source": [
    "# 정규성 확인 \n",
    "a_s, a_p = shapiro(df_a)\n",
    "b_s, b_p = shapiro(df_b)\n",
    "c_s, c_p = shapiro(df_c)\n",
    "\n",
    "if (a_p>0.05)&(b_p>0.05)&(c_p>0.05) :\n",
    "    print('세그룹 모두 정규성을 만족한다')\n",
    "else :\n",
    "    print('세그룹중 하나라도 정규성을 만족하지 않는다')\n",
    "\n",
    "print(a_p, b_p,c_p)\n"
   ]
  },
  {
   "cell_type": "code",
   "execution_count": 16,
   "metadata": {},
   "outputs": [
    {
     "name": "stdout",
     "output_type": "stream",
     "text": [
      "0.12110174433684852\n"
     ]
    }
   ],
   "source": [
    "# 등분산성 확인 \n",
    "eq_s, eq_p = bartlett(df_a,df_b,df_c)\n",
    "print(eq_p)"
   ]
  },
  {
   "cell_type": "code",
   "execution_count": 17,
   "metadata": {},
   "outputs": [
    {
     "name": "stdout",
     "output_type": "stream",
     "text": [
      "0.0346491232068625\n",
      "A,B,C 그룹 성적 평균이 같지 않다\n"
     ]
    }
   ],
   "source": [
    "# 정규성, 등분산성 만족 -> f_oneway\n",
    "statistic, pvalue = f_oneway(df_a,df_b,df_c)\n",
    "print(pvalue)\n",
    "if pvalue > 0.05 :\n",
    "    print('A,B,C 그룹 성적 평균이 같다')\n",
    "else :\n",
    "    print('A,B,C 그룹 성적 평균이 같지 않다')\n",
    "\n"
   ]
  }
 ],
 "metadata": {
  "kernelspec": {
   "display_name": "base",
   "language": "python",
   "name": "python3"
  },
  "language_info": {
   "codemirror_mode": {
    "name": "ipython",
    "version": 3
   },
   "file_extension": ".py",
   "mimetype": "text/x-python",
   "name": "python",
   "nbconvert_exporter": "python",
   "pygments_lexer": "ipython3",
   "version": "3.9.12"
  }
 },
 "nbformat": 4,
 "nbformat_minor": 2
}
