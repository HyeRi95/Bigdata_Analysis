{
 "cells": [
  {
   "cell_type": "code",
   "execution_count": 2,
   "metadata": {},
   "outputs": [],
   "source": [
    "import pandas as pd \n",
    "import numpy as np\n",
    "from sklearn.preprocessing import StandardScaler, MinMaxScaler"
   ]
  },
  {
   "cell_type": "code",
   "execution_count": 3,
   "metadata": {},
   "outputs": [],
   "source": [
    "# 데이터 생성\n",
    "df = pd.DataFrame({\n",
    "    '날짜' : ['20220103','20220105', '20230105','20230127','20220203', '20220205','20230210','20230223','20230312','20230422','20220505','20230511'],\n",
    "    '제품' : ['A','B', 'A', 'B', 'A', 'B','A', 'B', 'A', 'B', 'A', 'A'],\n",
    "    '판매수': [3, 5, 5, 10, 10, 10, 15, 15, 20, 25, 30, 40],\n",
    "    '개당수익': [300, 400, 500, 600, 400, 500, 500, 600, 600, 700, 600, 600] \n",
    "})"
   ]
  },
  {
   "cell_type": "markdown",
   "metadata": {},
   "source": [
    "> 문제 21) 문제 21. 22년 1분기 A제품의 매출액을 구하시오\n",
    "- 매출액 = 판매수*개당수익"
   ]
  },
  {
   "cell_type": "code",
   "execution_count": 5,
   "metadata": {},
   "outputs": [
    {
     "name": "stdout",
     "output_type": "stream",
     "text": [
      "<class 'pandas.core.frame.DataFrame'>\n",
      "RangeIndex: 12 entries, 0 to 11\n",
      "Data columns (total 4 columns):\n",
      " #   Column  Non-Null Count  Dtype         \n",
      "---  ------  --------------  -----         \n",
      " 0   날짜      12 non-null     datetime64[ns]\n",
      " 1   제품      12 non-null     object        \n",
      " 2   판매수     12 non-null     int64         \n",
      " 3   개당수익    12 non-null     int64         \n",
      "dtypes: datetime64[ns](1), int64(2), object(1)\n",
      "memory usage: 512.0+ bytes\n"
     ]
    }
   ],
   "source": [
    "df['날짜']= pd.to_datetime(df['날짜'])\n",
    "df.info()"
   ]
  },
  {
   "cell_type": "markdown",
   "metadata": {},
   "source": [
    "## 참고 - between 공부 "
   ]
  },
  {
   "cell_type": "code",
   "execution_count": 15,
   "metadata": {},
   "outputs": [
    {
     "name": "stderr",
     "output_type": "stream",
     "text": [
      "C:\\Users\\chohyeri\\AppData\\Local\\Temp\\ipykernel_10096\\1003508068.py:2: SettingWithCopyWarning: \n",
      "A value is trying to be set on a copy of a slice from a DataFrame.\n",
      "Try using .loc[row_indexer,col_indexer] = value instead\n",
      "\n",
      "See the caveats in the documentation: https://pandas.pydata.org/pandas-docs/stable/user_guide/indexing.html#returning-a-view-versus-a-copy\n",
      "  df_1['매출액'] = df_1['판매수'] * df_1['개당수익']\n"
     ]
    },
    {
     "data": {
      "text/plain": [
       "4900"
      ]
     },
     "execution_count": 15,
     "metadata": {},
     "output_type": "execute_result"
    }
   ],
   "source": [
    "df_1 = df[(df['날짜']<='20220430')&(df['날짜']>='20220101')]\n",
    "df_1['매출액'] = df_1['판매수'] * df_1['개당수익']\n",
    "df_1[df_1['제품']=='A'].매출액.sum()"
   ]
  },
  {
   "cell_type": "markdown",
   "metadata": {},
   "source": [
    "> 문제 22) 22년과 23년의 총 매출액 차이를 절대값으로 구하시오"
   ]
  },
  {
   "cell_type": "code",
   "execution_count": 20,
   "metadata": {},
   "outputs": [
    {
     "data": {
      "text/plain": [
       "48600"
      ]
     },
     "execution_count": 20,
     "metadata": {},
     "output_type": "execute_result"
    }
   ],
   "source": [
    "df['year'] = df['날짜'].dt.year\n",
    "df['month'] = df['날짜'].dt.month\n",
    "df['day'] = df['날짜'].dt.day\n",
    "\n",
    "df['매출액'] = df['판매수'] * df['개당수익']\n",
    "sum_22 = df[df['year']==2022]['매출액'].sum()\n",
    "sum_23 = df[df['year']==2023]['매출액'].sum()\n",
    "\n",
    "abs(sum_22-sum_23)"
   ]
  },
  {
   "cell_type": "markdown",
   "metadata": {},
   "source": [
    "> 문제 23) 23년 총 매출액이 큰 제품의 23년 판매수를 구하시오"
   ]
  },
  {
   "cell_type": "code",
   "execution_count": 27,
   "metadata": {},
   "outputs": [
    {
     "data": {
      "text/plain": [
       "제품\n",
       "A    80\n",
       "B    50\n",
       "Name: 판매수, dtype: int64"
      ]
     },
     "execution_count": 27,
     "metadata": {},
     "output_type": "execute_result"
    }
   ],
   "source": [
    "df23 = df.copy()\n",
    "df23 = df23[df23['year']==2023]\n",
    "df23.groupby('제품').매출액.sum()\n",
    "df23.groupby('제품').판매수.sum()"
   ]
  },
  {
   "cell_type": "markdown",
   "metadata": {},
   "source": [
    "> 문제 24) 매출액이 4천원 초과, 1만원 미만인 데이터 수를 출력 하시오"
   ]
  },
  {
   "cell_type": "code",
   "execution_count": 28,
   "metadata": {},
   "outputs": [
    {
     "data": {
      "text/plain": [
       "4"
      ]
     },
     "execution_count": 28,
     "metadata": {},
     "output_type": "execute_result"
    }
   ],
   "source": [
    "len(df[(df['매출액']>4000)&(df['매출액']<10000)])"
   ]
  },
  {
   "cell_type": "markdown",
   "metadata": {},
   "source": [
    "> 문제 25) 23년 9월 24일 16:00~22:00 사이에 전체 제품의 판매수를 구하시오."
   ]
  },
  {
   "cell_type": "code",
   "execution_count": 34,
   "metadata": {},
   "outputs": [
    {
     "name": "stdout",
     "output_type": "stream",
     "text": [
      "<class 'pandas.core.frame.DataFrame'>\n",
      "RangeIndex: 7 entries, 0 to 6\n",
      "Data columns (total 4 columns):\n",
      " #   Column  Non-Null Count  Dtype         \n",
      "---  ------  --------------  -----         \n",
      " 0   time    7 non-null      datetime64[ns]\n",
      " 1   물품      7 non-null      object        \n",
      " 2   판매수     7 non-null      int64         \n",
      " 3   개당수익    7 non-null      int64         \n",
      "dtypes: datetime64[ns](1), int64(2), object(1)\n",
      "memory usage: 352.0+ bytes\n",
      "None\n"
     ]
    },
    {
     "data": {
      "text/html": [
       "<div>\n",
       "<style scoped>\n",
       "    .dataframe tbody tr th:only-of-type {\n",
       "        vertical-align: middle;\n",
       "    }\n",
       "\n",
       "    .dataframe tbody tr th {\n",
       "        vertical-align: top;\n",
       "    }\n",
       "\n",
       "    .dataframe thead th {\n",
       "        text-align: right;\n",
       "    }\n",
       "</style>\n",
       "<table border=\"1\" class=\"dataframe\">\n",
       "  <thead>\n",
       "    <tr style=\"text-align: right;\">\n",
       "      <th></th>\n",
       "      <th>time</th>\n",
       "      <th>물품</th>\n",
       "      <th>판매수</th>\n",
       "      <th>개당수익</th>\n",
       "    </tr>\n",
       "  </thead>\n",
       "  <tbody>\n",
       "    <tr>\n",
       "      <th>0</th>\n",
       "      <td>2023-09-24 12:25:00</td>\n",
       "      <td>A</td>\n",
       "      <td>5</td>\n",
       "      <td>500</td>\n",
       "    </tr>\n",
       "    <tr>\n",
       "      <th>1</th>\n",
       "      <td>2023-09-24 16:48:25</td>\n",
       "      <td>B</td>\n",
       "      <td>10</td>\n",
       "      <td>600</td>\n",
       "    </tr>\n",
       "    <tr>\n",
       "      <th>2</th>\n",
       "      <td>2023-09-24 21:11:50</td>\n",
       "      <td>A</td>\n",
       "      <td>15</td>\n",
       "      <td>500</td>\n",
       "    </tr>\n",
       "    <tr>\n",
       "      <th>3</th>\n",
       "      <td>2023-09-25 01:35:15</td>\n",
       "      <td>B</td>\n",
       "      <td>15</td>\n",
       "      <td>600</td>\n",
       "    </tr>\n",
       "    <tr>\n",
       "      <th>4</th>\n",
       "      <td>2023-09-25 05:58:40</td>\n",
       "      <td>A</td>\n",
       "      <td>20</td>\n",
       "      <td>600</td>\n",
       "    </tr>\n",
       "  </tbody>\n",
       "</table>\n",
       "</div>"
      ],
      "text/plain": [
       "                 time 물품  판매수  개당수익\n",
       "0 2023-09-24 12:25:00  A    5   500\n",
       "1 2023-09-24 16:48:25  B   10   600\n",
       "2 2023-09-24 21:11:50  A   15   500\n",
       "3 2023-09-25 01:35:15  B   15   600\n",
       "4 2023-09-25 05:58:40  A   20   600"
      ]
     },
     "execution_count": 34,
     "metadata": {},
     "output_type": "execute_result"
    }
   ],
   "source": [
    "df = pd.DataFrame( {\n",
    "    '물품' : ['A', 'B', 'A', 'B', 'A', 'B', 'A'],\n",
    "    '판매수': [5, 10, 15, 15, 20, 25, 40],\n",
    "    '개당수익': [500, 600, 500, 600, 600, 700, 600] })\n",
    "time = pd.date_range('2023-09-24 12:25:00','2023-09-25 14:45:30', periods= 7)\n",
    "df['time']=time\n",
    "df = df[ ['time','물품','판매수','개당수익']]\n",
    "\n",
    "print(df.info())\n",
    "df.head()"
   ]
  },
  {
   "cell_type": "code",
   "execution_count": 40,
   "metadata": {},
   "outputs": [],
   "source": [
    "df['매출액']= df['판매수']*df['개당수익']"
   ]
  },
  {
   "cell_type": "code",
   "execution_count": 35,
   "metadata": {},
   "outputs": [],
   "source": [
    "df['time'] = pd.to_datetime(df['time'])"
   ]
  },
  {
   "cell_type": "code",
   "execution_count": 36,
   "metadata": {},
   "outputs": [
    {
     "data": {
      "text/plain": [
       "25"
      ]
     },
     "execution_count": 36,
     "metadata": {},
     "output_type": "execute_result"
    }
   ],
   "source": [
    "cond1 = df['time']>='2023-09-24 16:00'\n",
    "cond2 = df['time']<='2023-09-24 22:00'\n",
    "df[cond1&cond2]['판매수'].sum()"
   ]
  },
  {
   "cell_type": "markdown",
   "metadata": {},
   "source": [
    "> 문제 26) : 9월 25일 00:00 ~ 12:00 까지의 B물품의 매출액 총합을 구하시오 "
   ]
  },
  {
   "cell_type": "code",
   "execution_count": 42,
   "metadata": {},
   "outputs": [
    {
     "data": {
      "text/plain": [
       "26500"
      ]
     },
     "execution_count": 42,
     "metadata": {},
     "output_type": "execute_result"
    }
   ],
   "source": [
    "cond1 = df['time'] >= '2023-09-25 00:00'\n",
    "cond2 = df['time'] <= '2023-09-25 12:00'\n",
    "cond3 = df['물품'] == 'B'\n",
    "df[cond1&cond2&cond3]['매출액'].sum()"
   ]
  },
  {
   "cell_type": "markdown",
   "metadata": {},
   "source": [
    "> 문제 27) 9월 24일 12:00 ~ 24:00 까지의 A 물품의 매출액 총합을 구하시오"
   ]
  },
  {
   "cell_type": "code",
   "execution_count": 44,
   "metadata": {},
   "outputs": [
    {
     "data": {
      "text/plain": [
       "10000"
      ]
     },
     "execution_count": 44,
     "metadata": {},
     "output_type": "execute_result"
    }
   ],
   "source": [
    "cond1 = df['time'] >= '2023-09-24 12:00'\n",
    "cond2 = df['time'] <= '2023-09-25 00:00'\n",
    "cond3 = df['물품'] == 'A'\n",
    "df[cond1&cond2&cond3]['매출액'].sum()"
   ]
  }
 ],
 "metadata": {
  "kernelspec": {
   "display_name": "base",
   "language": "python",
   "name": "python3"
  },
  "language_info": {
   "codemirror_mode": {
    "name": "ipython",
    "version": 3
   },
   "file_extension": ".py",
   "mimetype": "text/x-python",
   "name": "python",
   "nbconvert_exporter": "python",
   "pygments_lexer": "ipython3",
   "version": "3.9.12"
  }
 },
 "nbformat": 4,
 "nbformat_minor": 2
}
