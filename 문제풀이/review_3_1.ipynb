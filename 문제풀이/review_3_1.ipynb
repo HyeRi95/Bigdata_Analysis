{
 "cells": [
  {
   "cell_type": "code",
   "execution_count": 2,
   "metadata": {},
   "outputs": [],
   "source": [
    "import pandas as pd \n",
    "import numpy as np \n",
    "from sklearn.preprocessing import StandardScaler, MinMaxScaler\n",
    "from sklearn.model_selection import train_test_split\n",
    "from sklearn.ensemble import RandomForestRegressor , RandomForestClassifier\n",
    "from sklearn.metrics import accuracy_score, precision_score,recall_score, roc_auc_score, f1_score\n",
    "from sklearn.metrics import mean_squared_error, r2_score\n",
    "\n",
    "from scipy.stats import ttest_1samp, ttest_rel, ttest_ind, shapiro, levene, bartlett, f_oneway, wilcoxon, mannwhitneyu,pearsonr,chisquare, chi2_contingency"
   ]
  },
  {
   "cell_type": "code",
   "execution_count": 4,
   "metadata": {},
   "outputs": [
    {
     "data": {
      "text/html": [
       "<div>\n",
       "<style scoped>\n",
       "    .dataframe tbody tr th:only-of-type {\n",
       "        vertical-align: middle;\n",
       "    }\n",
       "\n",
       "    .dataframe tbody tr th {\n",
       "        vertical-align: top;\n",
       "    }\n",
       "\n",
       "    .dataframe thead th {\n",
       "        text-align: right;\n",
       "    }\n",
       "</style>\n",
       "<table border=\"1\" class=\"dataframe\">\n",
       "  <thead>\n",
       "    <tr style=\"text-align: right;\">\n",
       "      <th></th>\n",
       "      <th>car</th>\n",
       "      <th>mpg</th>\n",
       "      <th>cyl</th>\n",
       "      <th>disp</th>\n",
       "      <th>hp</th>\n",
       "      <th>drat</th>\n",
       "      <th>wt</th>\n",
       "      <th>qsec</th>\n",
       "      <th>vs</th>\n",
       "      <th>am</th>\n",
       "      <th>gear</th>\n",
       "      <th>carb</th>\n",
       "    </tr>\n",
       "  </thead>\n",
       "  <tbody>\n",
       "    <tr>\n",
       "      <th>0</th>\n",
       "      <td>Mazda RX4</td>\n",
       "      <td>21.0</td>\n",
       "      <td>6</td>\n",
       "      <td>160.0</td>\n",
       "      <td>110</td>\n",
       "      <td>3.90</td>\n",
       "      <td>2.620</td>\n",
       "      <td>16.46</td>\n",
       "      <td>0</td>\n",
       "      <td>1</td>\n",
       "      <td>4</td>\n",
       "      <td>4</td>\n",
       "    </tr>\n",
       "    <tr>\n",
       "      <th>1</th>\n",
       "      <td>Mazda RX4 Wag</td>\n",
       "      <td>21.0</td>\n",
       "      <td>6</td>\n",
       "      <td>160.0</td>\n",
       "      <td>110</td>\n",
       "      <td>3.90</td>\n",
       "      <td>2.875</td>\n",
       "      <td>17.02</td>\n",
       "      <td>0</td>\n",
       "      <td>1</td>\n",
       "      <td>4</td>\n",
       "      <td>4</td>\n",
       "    </tr>\n",
       "    <tr>\n",
       "      <th>2</th>\n",
       "      <td>Datsun 710</td>\n",
       "      <td>22.8</td>\n",
       "      <td>4</td>\n",
       "      <td>108.0</td>\n",
       "      <td>93</td>\n",
       "      <td>3.85</td>\n",
       "      <td>2.320</td>\n",
       "      <td>18.61</td>\n",
       "      <td>1</td>\n",
       "      <td>1</td>\n",
       "      <td>4</td>\n",
       "      <td>1</td>\n",
       "    </tr>\n",
       "  </tbody>\n",
       "</table>\n",
       "</div>"
      ],
      "text/plain": [
       "             car   mpg  cyl   disp   hp  drat     wt   qsec  vs  am  gear  \\\n",
       "0      Mazda RX4  21.0    6  160.0  110  3.90  2.620  16.46   0   1     4   \n",
       "1  Mazda RX4 Wag  21.0    6  160.0  110  3.90  2.875  17.02   0   1     4   \n",
       "2     Datsun 710  22.8    4  108.0   93  3.85  2.320  18.61   1   1     4   \n",
       "\n",
       "   carb  \n",
       "0     4  \n",
       "1     4  \n",
       "2     1  "
      ]
     },
     "execution_count": 4,
     "metadata": {},
     "output_type": "execute_result"
    }
   ],
   "source": [
    "df = pd.read_csv('../mtcars.csv',encoding='cp949')\n",
    "df.rename(columns = {'Unnamed: 0' : 'car'}, inplace=True)\n",
    "df.head(3)"
   ]
  },
  {
   "cell_type": "markdown",
   "metadata": {},
   "source": [
    "> 예제 문제 1) mtcars 데이터셋의 mpg열 데이터의 평균이 20과 같다고 할 수 있는지 검정하시오. (유의수준 5%)\n"
   ]
  },
  {
   "cell_type": "markdown",
   "metadata": {},
   "source": [
    "- 1. 귀무가설 설정\n",
    "- 2. 대립가설 설정 \n",
    "- 3. 모집단 몇개인지 파악, 어떤 함수 사용할지 파악\n",
    "- 4. 정규성 검정 / 등분산성 검정 \n",
    "- 5. 검정"
   ]
  },
  {
   "cell_type": "markdown",
   "metadata": {},
   "source": [
    "    * H0 : mpg 데이터 평균이 20과 같다. (모평균 =20)\n",
    "    * H1 : mpg 데이터 평균이 20과 같지 않다 (모평균 <> 20)\n"
   ]
  },
  {
   "cell_type": "markdown",
   "metadata": {},
   "source": [
    "모집단 1개 : 집단의 평균 vs 특정값 \n",
    ">> 정규성 만족시 : ttset_1samp    \n",
    ">> 정규성 만족안할시 : wilcoxon"
   ]
  },
  {
   "cell_type": "code",
   "execution_count": 6,
   "metadata": {},
   "outputs": [
    {
     "name": "stdout",
     "output_type": "stream",
     "text": [
      "정규성을 만족한다\n"
     ]
    }
   ],
   "source": [
    "# 정규성 검정 \n",
    "n_s, n_pvalue = shapiro(df['mpg'])\n",
    "\n",
    "if n_pvalue >0.05 : \n",
    "    print('정규성을 만족한다')\n",
    "else : \n",
    "    print('정규성을 따르지 않는다 ')\n",
    " "
   ]
  },
  {
   "cell_type": "code",
   "execution_count": 8,
   "metadata": {},
   "outputs": [
    {
     "name": "stdout",
     "output_type": "stream",
     "text": [
      "귀무가설 채택\n"
     ]
    }
   ],
   "source": [
    "t, p_value = ttest_1samp(df['mpg'],popmean=20, alternative='two-sided')\n",
    "\n",
    "if p_value >0.05:\n",
    "    print('귀무가설 채택')\n",
    "else : \n",
    "    print('대립가설 채택')"
   ]
  },
  {
   "cell_type": "code",
   "execution_count": 9,
   "metadata": {},
   "outputs": [
    {
     "data": {
      "text/plain": [
       "20.090624999999996"
      ]
     },
     "execution_count": 9,
     "metadata": {},
     "output_type": "execute_result"
    }
   ],
   "source": [
    "# 실제 평균값\n",
    "df['mpg'].mean()"
   ]
  },
  {
   "cell_type": "markdown",
   "metadata": {},
   "source": [
    "만약 정규성을 만족 하지 않는다면? > wilcoson 비모수 검정 사용 "
   ]
  },
  {
   "cell_type": "code",
   "execution_count": 10,
   "metadata": {},
   "outputs": [
    {
     "name": "stdout",
     "output_type": "stream",
     "text": [
      "0.7790732036774985\n"
     ]
    }
   ],
   "source": [
    "s, pvalue = wilcoxon(df['mpg']-20)\n",
    "print(pvalue)"
   ]
  },
  {
   "cell_type": "markdown",
   "metadata": {},
   "source": [
    "> 문제 2) mtcars 데이터셋의 mpg 열 데이터의 평균이 17보다 크다고 할 수 있는지 검정하시오 (유의수준 5%)"
   ]
  },
  {
   "cell_type": "markdown",
   "metadata": {},
   "source": [
    "    * H0: mpg 데이터의 평균이 17보다 작다 (모평균 <= 17 )    \n",
    "    * H1: mpg 데이터의 평균이 17보다 크다 (모평균 >17)"
   ]
  },
  {
   "cell_type": "code",
   "execution_count": null,
   "metadata": {},
   "outputs": [
    {
     "name": "stdout",
     "output_type": "stream",
     "text": [
      "정규성을 만족한다\n"
     ]
    }
   ],
   "source": [
    "n_s, n_p = shapiro(df['mpg'])\n",
    "if n_p > 0.05 : \n",
    "    print('정규성을 만족한다')\n",
    "else : \n",
    "    print('정규성을 따르지 않는다')"
   ]
  },
  {
   "cell_type": "code",
   "execution_count": 14,
   "metadata": {},
   "outputs": [
    {
     "name": "stdout",
     "output_type": "stream",
     "text": [
      "평균이 17보다 크다 \n"
     ]
    }
   ],
   "source": [
    "n_s, pvalue = ttest_1samp(df['mpg'],popmean=17,alternative='greater')\n",
    "if pvalue >0.05 :\n",
    "    print('평균이 17보다 작거나 같다')\n",
    "else : \n",
    "    print('평균이 17보다 크다 ')"
   ]
  },
  {
   "cell_type": "code",
   "execution_count": 15,
   "metadata": {},
   "outputs": [
    {
     "name": "stdout",
     "output_type": "stream",
     "text": [
      "평균이 17보다 크다 \n"
     ]
    }
   ],
   "source": [
    "# 정규성을 만족하지 않는경우\n",
    "s, pvalue = wilcoxon(df['mpg']-17, alternative='greater')\n",
    "if pvalue >0.05 :\n",
    "    print('평균이 17보다 작거나 같다')\n",
    "else : \n",
    "    print('평균이 17보다 크다 ')"
   ]
  },
  {
   "cell_type": "markdown",
   "metadata": {},
   "source": [
    "> 예상 문제 3) mtcars 데이터셋의 mpg열 데이터의 평균이 17보다 작다고 할 수있는지 검정하시오 (유의수준 5%)\n"
   ]
  },
  {
   "cell_type": "markdown",
   "metadata": {},
   "source": [
    "    * H0: mpg 데이터 평균이 17 보다 크거나 같다 (모평균 >=17)\n",
    "    * H1: mpg 데이터 평균이 17보다 작다 (모평균 <17)"
   ]
  },
  {
   "cell_type": "code",
   "execution_count": 16,
   "metadata": {},
   "outputs": [
    {
     "name": "stdout",
     "output_type": "stream",
     "text": [
      "정규성을 만족한다\n"
     ]
    }
   ],
   "source": [
    "n_s, n_p = shapiro(df['mpg'])\n",
    "if n_p >0.05 : \n",
    "    print('정규성을 만족한다')\n",
    "else : \n",
    "    print('정규성을 만족하지 않는다')"
   ]
  },
  {
   "cell_type": "code",
   "execution_count": 17,
   "metadata": {},
   "outputs": [
    {
     "name": "stdout",
     "output_type": "stream",
     "text": [
      "mpg 평균값은 17보다 크거나 같다\n"
     ]
    }
   ],
   "source": [
    "s, p = ttest_1samp(df['mpg'],popmean=17,alternative='less')\n",
    "if p >0.05 :\n",
    "    print('mpg 평균값은 17보다 크거나 같다')\n",
    "else :\n",
    "    print('mpg 평균값은 17보다 작다')"
   ]
  },
  {
   "cell_type": "code",
   "execution_count": 18,
   "metadata": {},
   "outputs": [
    {
     "name": "stdout",
     "output_type": "stream",
     "text": [
      "mpg 평균값은 17보다 크거나 같다\n"
     ]
    }
   ],
   "source": [
    "n, p = wilcoxon(df['mpg']-17, alternative='less')\n",
    "if p >0.05 :\n",
    "    print('mpg 평균값은 17보다 크거나 같다')\n",
    "else :\n",
    "    print('mpg 평균값은 17보다 작다')"
   ]
  }
 ],
 "metadata": {
  "kernelspec": {
   "display_name": "base",
   "language": "python",
   "name": "python3"
  },
  "language_info": {
   "codemirror_mode": {
    "name": "ipython",
    "version": 3
   },
   "file_extension": ".py",
   "mimetype": "text/x-python",
   "name": "python",
   "nbconvert_exporter": "python",
   "pygments_lexer": "ipython3",
   "version": "3.9.12"
  }
 },
 "nbformat": 4,
 "nbformat_minor": 2
}
