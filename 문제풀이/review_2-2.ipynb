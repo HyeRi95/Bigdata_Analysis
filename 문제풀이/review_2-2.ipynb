{
 "cells": [
  {
   "cell_type": "markdown",
   "metadata": {
    "vscode": {
     "languageId": "plaintext"
    }
   },
   "source": [
    "> 문제 2) 당뇨 진척 정도 모델 생성 "
   ]
  },
  {
   "cell_type": "code",
   "execution_count": 164,
   "metadata": {},
   "outputs": [],
   "source": [
    "import pandas as pd \n",
    "import numpy as np \n",
    "\n",
    "from sklearn.preprocessing import StandardScaler, MinMaxScaler\n",
    "from sklearn.model_selection import train_test_split\n",
    "from sklearn.ensemble import RandomForestRegressor, RandomForestClassifier\n",
    "from sklearn.metrics import accuracy_score, precision_score, recall_score,f1_score,roc_auc_score, r2_score, mean_squared_error\n"
   ]
  },
  {
   "cell_type": "code",
   "execution_count": 165,
   "metadata": {},
   "outputs": [],
   "source": [
    "from sklearn.datasets import load_diabetes\n",
    "\n",
    "# diabetes 데이터셋 로드\n",
    "diabets = load_diabetes()\n",
    "\n",
    "x=pd.DataFrame(diabets.data, columns=diabets.feature_names)\n",
    "y = pd.DataFrame(diabets.target)\n",
    "\n",
    "# 실기시험 데이터 셋팅\n",
    "x_train, x_test, y_train, y_test = train_test_split(x,y,test_size=0.2, random_state=2024)\n",
    "\n",
    "# y_test는 실제로 주어지는 값 아니므로 무시\n",
    "\n",
    "x_train = pd.DataFrame(x_train.reset_index())\n",
    "x_test = pd.DataFrame(x_test.reset_index())\n",
    "y_train = pd.DataFrame(y_train.reset_index())\n",
    "\n",
    "x_train.rename(columns={'index':'cust_id'},inplace=True)\n",
    "x_test.rename(columns={'index' : 'cust_id'},inplace=True)\n",
    "y_train.columns = ({'cust_id', 'target'})"
   ]
  },
  {
   "cell_type": "code",
   "execution_count": 166,
   "metadata": {},
   "outputs": [
    {
     "name": "stdout",
     "output_type": "stream",
     "text": [
      "   cust_id       age       sex       bmi        bp        s1        s2  \\\n",
      "0      424  0.001751  0.050680  0.011039 -0.019442 -0.016704 -0.003819   \n",
      "1      121  0.063504 -0.044642  0.017506  0.021872  0.008063  0.021546   \n",
      "2       15 -0.052738  0.050680 -0.018062  0.080401  0.089244  0.107662   \n",
      "3        5 -0.092695 -0.044642 -0.040696 -0.019442 -0.068991 -0.079288   \n",
      "4       21 -0.085430  0.050680 -0.022373  0.001215 -0.037344 -0.026366   \n",
      "\n",
      "         s3        s4        s5        s6  \n",
      "0 -0.047082  0.034309  0.024053  0.023775  \n",
      "1 -0.036038  0.034309  0.019908  0.011349  \n",
      "2 -0.039719  0.108111  0.036056 -0.042499  \n",
      "3  0.041277 -0.076395 -0.041180 -0.096346  \n",
      "4  0.015505 -0.039493 -0.072128 -0.017646  \n",
      "   cust_id       age       sex       bmi        bp        s1        s2  \\\n",
      "0      334 -0.060003  0.050680 -0.047163 -0.022885 -0.071743 -0.057681   \n",
      "1      313  0.059871  0.050680  0.053074  0.052858  0.032830  0.019667   \n",
      "2      133 -0.041840  0.050680 -0.053630 -0.040099 -0.084126 -0.071772   \n",
      "3      152 -0.034575  0.050680 -0.000817  0.070073  0.039710  0.066952   \n",
      "4      250  0.067136 -0.044642  0.056307  0.073515 -0.013953 -0.039205   \n",
      "\n",
      "         s3        s4        s5        s6  \n",
      "0 -0.006584 -0.039493 -0.062913 -0.054925  \n",
      "1 -0.010266  0.034309  0.055205 -0.001078  \n",
      "2 -0.002903 -0.039493 -0.072128 -0.030072  \n",
      "3 -0.065491  0.108111  0.026714  0.073480  \n",
      "4 -0.032356 -0.002592  0.075738  0.036201  \n"
     ]
    }
   ],
   "source": [
    "print(x_train.head())\n",
    "print(x_test.head())"
   ]
  },
  {
   "cell_type": "code",
   "execution_count": 167,
   "metadata": {},
   "outputs": [
    {
     "name": "stdout",
     "output_type": "stream",
     "text": [
      "   target  cust_id\n",
      "0     424    111.0\n",
      "1     121    173.0\n",
      "2      15    171.0\n",
      "3       5     97.0\n",
      "4      21     49.0\n"
     ]
    }
   ],
   "source": [
    "print(y_train.head())"
   ]
  },
  {
   "cell_type": "code",
   "execution_count": 168,
   "metadata": {},
   "outputs": [
    {
     "data": {
      "text/html": [
       "<div>\n",
       "<style scoped>\n",
       "    .dataframe tbody tr th:only-of-type {\n",
       "        vertical-align: middle;\n",
       "    }\n",
       "\n",
       "    .dataframe tbody tr th {\n",
       "        vertical-align: top;\n",
       "    }\n",
       "\n",
       "    .dataframe thead th {\n",
       "        text-align: right;\n",
       "    }\n",
       "</style>\n",
       "<table border=\"1\" class=\"dataframe\">\n",
       "  <thead>\n",
       "    <tr style=\"text-align: right;\">\n",
       "      <th></th>\n",
       "      <th>count</th>\n",
       "      <th>mean</th>\n",
       "      <th>std</th>\n",
       "      <th>min</th>\n",
       "      <th>25%</th>\n",
       "      <th>50%</th>\n",
       "      <th>75%</th>\n",
       "      <th>max</th>\n",
       "    </tr>\n",
       "  </thead>\n",
       "  <tbody>\n",
       "    <tr>\n",
       "      <th>cust_id</th>\n",
       "      <td>353.0</td>\n",
       "      <td>219.444759</td>\n",
       "      <td>130.610642</td>\n",
       "      <td>0.000000</td>\n",
       "      <td>105.000000</td>\n",
       "      <td>220.000000</td>\n",
       "      <td>337.000000</td>\n",
       "      <td>441.000000</td>\n",
       "    </tr>\n",
       "    <tr>\n",
       "      <th>age</th>\n",
       "      <td>353.0</td>\n",
       "      <td>-0.000729</td>\n",
       "      <td>0.047086</td>\n",
       "      <td>-0.107226</td>\n",
       "      <td>-0.038207</td>\n",
       "      <td>0.009016</td>\n",
       "      <td>0.034443</td>\n",
       "      <td>0.110727</td>\n",
       "    </tr>\n",
       "    <tr>\n",
       "      <th>sex</th>\n",
       "      <td>353.0</td>\n",
       "      <td>-0.001166</td>\n",
       "      <td>0.047544</td>\n",
       "      <td>-0.044642</td>\n",
       "      <td>-0.044642</td>\n",
       "      <td>-0.044642</td>\n",
       "      <td>0.050680</td>\n",
       "      <td>0.050680</td>\n",
       "    </tr>\n",
       "    <tr>\n",
       "      <th>bmi</th>\n",
       "      <td>353.0</td>\n",
       "      <td>-0.001373</td>\n",
       "      <td>0.048839</td>\n",
       "      <td>-0.089197</td>\n",
       "      <td>-0.036385</td>\n",
       "      <td>-0.008362</td>\n",
       "      <td>0.028284</td>\n",
       "      <td>0.170555</td>\n",
       "    </tr>\n",
       "    <tr>\n",
       "      <th>bp</th>\n",
       "      <td>353.0</td>\n",
       "      <td>-0.000485</td>\n",
       "      <td>0.048083</td>\n",
       "      <td>-0.112400</td>\n",
       "      <td>-0.036656</td>\n",
       "      <td>-0.005671</td>\n",
       "      <td>0.032201</td>\n",
       "      <td>0.132044</td>\n",
       "    </tr>\n",
       "    <tr>\n",
       "      <th>s1</th>\n",
       "      <td>353.0</td>\n",
       "      <td>-0.001284</td>\n",
       "      <td>0.048113</td>\n",
       "      <td>-0.126781</td>\n",
       "      <td>-0.035968</td>\n",
       "      <td>-0.004321</td>\n",
       "      <td>0.027326</td>\n",
       "      <td>0.153914</td>\n",
       "    </tr>\n",
       "    <tr>\n",
       "      <th>s2</th>\n",
       "      <td>353.0</td>\n",
       "      <td>-0.001635</td>\n",
       "      <td>0.048175</td>\n",
       "      <td>-0.112795</td>\n",
       "      <td>-0.032629</td>\n",
       "      <td>-0.005072</td>\n",
       "      <td>0.027496</td>\n",
       "      <td>0.198788</td>\n",
       "    </tr>\n",
       "    <tr>\n",
       "      <th>s3</th>\n",
       "      <td>353.0</td>\n",
       "      <td>0.002004</td>\n",
       "      <td>0.048396</td>\n",
       "      <td>-0.102307</td>\n",
       "      <td>-0.032356</td>\n",
       "      <td>-0.002903</td>\n",
       "      <td>0.030232</td>\n",
       "      <td>0.181179</td>\n",
       "    </tr>\n",
       "    <tr>\n",
       "      <th>s4</th>\n",
       "      <td>353.0</td>\n",
       "      <td>-0.002704</td>\n",
       "      <td>0.047260</td>\n",
       "      <td>-0.076395</td>\n",
       "      <td>-0.039493</td>\n",
       "      <td>-0.002592</td>\n",
       "      <td>0.034309</td>\n",
       "      <td>0.185234</td>\n",
       "    </tr>\n",
       "    <tr>\n",
       "      <th>s5</th>\n",
       "      <td>353.0</td>\n",
       "      <td>-0.001932</td>\n",
       "      <td>0.047925</td>\n",
       "      <td>-0.126097</td>\n",
       "      <td>-0.034524</td>\n",
       "      <td>-0.006080</td>\n",
       "      <td>0.029936</td>\n",
       "      <td>0.133599</td>\n",
       "    </tr>\n",
       "    <tr>\n",
       "      <th>s6</th>\n",
       "      <td>353.0</td>\n",
       "      <td>-0.000550</td>\n",
       "      <td>0.047128</td>\n",
       "      <td>-0.137767</td>\n",
       "      <td>-0.030072</td>\n",
       "      <td>-0.001078</td>\n",
       "      <td>0.027917</td>\n",
       "      <td>0.135612</td>\n",
       "    </tr>\n",
       "  </tbody>\n",
       "</table>\n",
       "</div>"
      ],
      "text/plain": [
       "         count        mean         std       min         25%         50%  \\\n",
       "cust_id  353.0  219.444759  130.610642  0.000000  105.000000  220.000000   \n",
       "age      353.0   -0.000729    0.047086 -0.107226   -0.038207    0.009016   \n",
       "sex      353.0   -0.001166    0.047544 -0.044642   -0.044642   -0.044642   \n",
       "bmi      353.0   -0.001373    0.048839 -0.089197   -0.036385   -0.008362   \n",
       "bp       353.0   -0.000485    0.048083 -0.112400   -0.036656   -0.005671   \n",
       "s1       353.0   -0.001284    0.048113 -0.126781   -0.035968   -0.004321   \n",
       "s2       353.0   -0.001635    0.048175 -0.112795   -0.032629   -0.005072   \n",
       "s3       353.0    0.002004    0.048396 -0.102307   -0.032356   -0.002903   \n",
       "s4       353.0   -0.002704    0.047260 -0.076395   -0.039493   -0.002592   \n",
       "s5       353.0   -0.001932    0.047925 -0.126097   -0.034524   -0.006080   \n",
       "s6       353.0   -0.000550    0.047128 -0.137767   -0.030072   -0.001078   \n",
       "\n",
       "                75%         max  \n",
       "cust_id  337.000000  441.000000  \n",
       "age        0.034443    0.110727  \n",
       "sex        0.050680    0.050680  \n",
       "bmi        0.028284    0.170555  \n",
       "bp         0.032201    0.132044  \n",
       "s1         0.027326    0.153914  \n",
       "s2         0.027496    0.198788  \n",
       "s3         0.030232    0.181179  \n",
       "s4         0.034309    0.185234  \n",
       "s5         0.029936    0.133599  \n",
       "s6         0.027917    0.135612  "
      ]
     },
     "execution_count": 168,
     "metadata": {},
     "output_type": "execute_result"
    }
   ],
   "source": [
    "x_train.describe().T"
   ]
  },
  {
   "cell_type": "code",
   "execution_count": 169,
   "metadata": {},
   "outputs": [
    {
     "name": "stdout",
     "output_type": "stream",
     "text": [
      "<class 'pandas.core.frame.DataFrame'>\n",
      "RangeIndex: 353 entries, 0 to 352\n",
      "Data columns (total 11 columns):\n",
      " #   Column   Non-Null Count  Dtype  \n",
      "---  ------   --------------  -----  \n",
      " 0   cust_id  353 non-null    int64  \n",
      " 1   age      353 non-null    float64\n",
      " 2   sex      353 non-null    float64\n",
      " 3   bmi      353 non-null    float64\n",
      " 4   bp       353 non-null    float64\n",
      " 5   s1       353 non-null    float64\n",
      " 6   s2       353 non-null    float64\n",
      " 7   s3       353 non-null    float64\n",
      " 8   s4       353 non-null    float64\n",
      " 9   s5       353 non-null    float64\n",
      " 10  s6       353 non-null    float64\n",
      "dtypes: float64(10), int64(1)\n",
      "memory usage: 30.5 KB\n"
     ]
    }
   ],
   "source": [
    "x_train.info()"
   ]
  },
  {
   "cell_type": "code",
   "execution_count": 170,
   "metadata": {},
   "outputs": [
    {
     "data": {
      "text/plain": [
       "cust_id    0\n",
       "age        0\n",
       "sex        0\n",
       "bmi        0\n",
       "bp         0\n",
       "s1         0\n",
       "s2         0\n",
       "s3         0\n",
       "s4         0\n",
       "s5         0\n",
       "s6         0\n",
       "dtype: int64"
      ]
     },
     "execution_count": 170,
     "metadata": {},
     "output_type": "execute_result"
    }
   ],
   "source": [
    "# null 값 확인 \n",
    "x_train.isnull().sum()"
   ]
  },
  {
   "cell_type": "code",
   "execution_count": 171,
   "metadata": {},
   "outputs": [],
   "source": [
    "cust_id = x_train['cust_id'].copy()\n",
    "x_train.drop(columns='cust_id',axis=1,inplace=True)\n",
    "x_test.drop(columns='cust_id',inplace=True)"
   ]
  },
  {
   "cell_type": "code",
   "execution_count": 172,
   "metadata": {},
   "outputs": [
    {
     "data": {
      "text/html": [
       "<div>\n",
       "<style scoped>\n",
       "    .dataframe tbody tr th:only-of-type {\n",
       "        vertical-align: middle;\n",
       "    }\n",
       "\n",
       "    .dataframe tbody tr th {\n",
       "        vertical-align: top;\n",
       "    }\n",
       "\n",
       "    .dataframe thead th {\n",
       "        text-align: right;\n",
       "    }\n",
       "</style>\n",
       "<table border=\"1\" class=\"dataframe\">\n",
       "  <thead>\n",
       "    <tr style=\"text-align: right;\">\n",
       "      <th></th>\n",
       "      <th>age</th>\n",
       "      <th>sex</th>\n",
       "      <th>bmi</th>\n",
       "      <th>bp</th>\n",
       "      <th>s1</th>\n",
       "      <th>s2</th>\n",
       "      <th>s3</th>\n",
       "      <th>s4</th>\n",
       "      <th>s5</th>\n",
       "      <th>s6</th>\n",
       "    </tr>\n",
       "  </thead>\n",
       "  <tbody>\n",
       "    <tr>\n",
       "      <th>0</th>\n",
       "      <td>0.001751</td>\n",
       "      <td>0.050680</td>\n",
       "      <td>0.011039</td>\n",
       "      <td>-0.019442</td>\n",
       "      <td>-0.016704</td>\n",
       "      <td>-0.003819</td>\n",
       "      <td>-0.047082</td>\n",
       "      <td>0.034309</td>\n",
       "      <td>0.024053</td>\n",
       "      <td>0.023775</td>\n",
       "    </tr>\n",
       "    <tr>\n",
       "      <th>1</th>\n",
       "      <td>0.063504</td>\n",
       "      <td>-0.044642</td>\n",
       "      <td>0.017506</td>\n",
       "      <td>0.021872</td>\n",
       "      <td>0.008063</td>\n",
       "      <td>0.021546</td>\n",
       "      <td>-0.036038</td>\n",
       "      <td>0.034309</td>\n",
       "      <td>0.019908</td>\n",
       "      <td>0.011349</td>\n",
       "    </tr>\n",
       "    <tr>\n",
       "      <th>2</th>\n",
       "      <td>-0.052738</td>\n",
       "      <td>0.050680</td>\n",
       "      <td>-0.018062</td>\n",
       "      <td>0.080401</td>\n",
       "      <td>0.089244</td>\n",
       "      <td>0.107662</td>\n",
       "      <td>-0.039719</td>\n",
       "      <td>0.108111</td>\n",
       "      <td>0.036056</td>\n",
       "      <td>-0.042499</td>\n",
       "    </tr>\n",
       "    <tr>\n",
       "      <th>3</th>\n",
       "      <td>-0.092695</td>\n",
       "      <td>-0.044642</td>\n",
       "      <td>-0.040696</td>\n",
       "      <td>-0.019442</td>\n",
       "      <td>-0.068991</td>\n",
       "      <td>-0.079288</td>\n",
       "      <td>0.041277</td>\n",
       "      <td>-0.076395</td>\n",
       "      <td>-0.041180</td>\n",
       "      <td>-0.096346</td>\n",
       "    </tr>\n",
       "    <tr>\n",
       "      <th>4</th>\n",
       "      <td>-0.085430</td>\n",
       "      <td>0.050680</td>\n",
       "      <td>-0.022373</td>\n",
       "      <td>0.001215</td>\n",
       "      <td>-0.037344</td>\n",
       "      <td>-0.026366</td>\n",
       "      <td>0.015505</td>\n",
       "      <td>-0.039493</td>\n",
       "      <td>-0.072128</td>\n",
       "      <td>-0.017646</td>\n",
       "    </tr>\n",
       "  </tbody>\n",
       "</table>\n",
       "</div>"
      ],
      "text/plain": [
       "        age       sex       bmi        bp        s1        s2        s3  \\\n",
       "0  0.001751  0.050680  0.011039 -0.019442 -0.016704 -0.003819 -0.047082   \n",
       "1  0.063504 -0.044642  0.017506  0.021872  0.008063  0.021546 -0.036038   \n",
       "2 -0.052738  0.050680 -0.018062  0.080401  0.089244  0.107662 -0.039719   \n",
       "3 -0.092695 -0.044642 -0.040696 -0.019442 -0.068991 -0.079288  0.041277   \n",
       "4 -0.085430  0.050680 -0.022373  0.001215 -0.037344 -0.026366  0.015505   \n",
       "\n",
       "         s4        s5        s6  \n",
       "0  0.034309  0.024053  0.023775  \n",
       "1  0.034309  0.019908  0.011349  \n",
       "2  0.108111  0.036056 -0.042499  \n",
       "3 -0.076395 -0.041180 -0.096346  \n",
       "4 -0.039493 -0.072128 -0.017646  "
      ]
     },
     "execution_count": 172,
     "metadata": {},
     "output_type": "execute_result"
    }
   ],
   "source": [
    "x_train.head()"
   ]
  },
  {
   "cell_type": "code",
   "execution_count": 173,
   "metadata": {},
   "outputs": [],
   "source": [
    "# 데이터 분리 \n",
    "x_train, x_val, y_train, y_val = train_test_split(x_train,y_train['target'],test_size=0.2,random_state=2024)\n"
   ]
  },
  {
   "cell_type": "code",
   "execution_count": 174,
   "metadata": {},
   "outputs": [
    {
     "data": {
      "text/plain": [
       "315    119\n",
       "75     407\n",
       "216     68\n",
       "132    418\n",
       "0      424\n",
       "      ... \n",
       "36     348\n",
       "27     171\n",
       "128    405\n",
       "96     101\n",
       "136     67\n",
       "Name: target, Length: 282, dtype: int64"
      ]
     },
     "execution_count": 174,
     "metadata": {},
     "output_type": "execute_result"
    }
   ],
   "source": [
    "y_train"
   ]
  },
  {
   "cell_type": "code",
   "execution_count": 175,
   "metadata": {},
   "outputs": [
    {
     "data": {
      "text/plain": [
       "RandomForestRegressor()"
      ]
     },
     "execution_count": 175,
     "metadata": {},
     "output_type": "execute_result"
    }
   ],
   "source": [
    "# 모델 생성 및 학습 \n",
    "model = RandomForestRegressor()\n",
    "model.fit(x_train,y_train)"
   ]
  },
  {
   "cell_type": "code",
   "execution_count": 176,
   "metadata": {},
   "outputs": [],
   "source": [
    "y_pred = model.predict(x_val)"
   ]
  },
  {
   "cell_type": "code",
   "execution_count": 177,
   "metadata": {},
   "outputs": [
    {
     "name": "stdout",
     "output_type": "stream",
     "text": [
      "MSE :  20611.803112676058\n",
      "r2 :  -0.12611580495255925\n"
     ]
    }
   ],
   "source": [
    "mse = mean_squared_error(y_val,y_pred)\n",
    "r2 = r2_score(y_val,y_pred)\n",
    "print('MSE : ',mse )\n",
    "print('r2 : ', r2)"
   ]
  }
 ],
 "metadata": {
  "kernelspec": {
   "display_name": "base",
   "language": "python",
   "name": "python3"
  },
  "language_info": {
   "codemirror_mode": {
    "name": "ipython",
    "version": 3
   },
   "file_extension": ".py",
   "mimetype": "text/x-python",
   "name": "python",
   "nbconvert_exporter": "python",
   "pygments_lexer": "ipython3",
   "version": "3.9.12"
  }
 },
 "nbformat": 4,
 "nbformat_minor": 2
}
