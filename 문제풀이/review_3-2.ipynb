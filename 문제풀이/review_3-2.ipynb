{
 "cells": [
  {
   "cell_type": "code",
   "execution_count": 60,
   "metadata": {},
   "outputs": [],
   "source": [
    "import pandas as pd \n",
    "import numpy as np \n",
    "from sklearn.preprocessing import MinMaxScaler, StandardScaler\n",
    "from sklearn.model_selection import train_test_split\n",
    "from sklearn.ensemble import RandomForestRegressor, RandomForestClassifier\n",
    "from sklearn.metrics import accuracy_score, recall_score, precision_score,f1_score,mean_squared_error, r2_score\n",
    "from scipy.stats import ttest_1samp, ttest_rel, ttest_ind, chisquare, chi2_contingency, shapiro, bartlett, levene, wilcoxon,f_oneway,kruskal,ranksums"
   ]
  },
  {
   "cell_type": "markdown",
   "metadata": {},
   "source": [
    "> 문제 1) 다음은 혈압약을 먹은 전, 후의 혈압 데이터이다. 혈압약을 먹기 전, 후의 차이가 있는지 쌍체 t 검정을 실시하시오    \n",
    "(유의수준5%)   "
   ]
  },
  {
   "cell_type": "markdown",
   "metadata": {},
   "source": [
    "    * before : 혈압약을 먹기 전 혈압\n",
    "    * after : 혈압약을 먹은 후의 혈압\n",
    "    * 귀무가설(H0) : 먹기전, 후가 같다 (after-before =0)\n",
    "    * 대립가설(H1) : 먹기전, 후가 다르다 (after-before <>0)"
   ]
  },
  {
   "cell_type": "code",
   "execution_count": 61,
   "metadata": {},
   "outputs": [],
   "source": [
    "# 모집단은 2개 - 동일객체 전후 : ttest_rel / wilcoxon\n",
    "# 데이터 만들기\n",
    "df = pd.DataFrame( {\n",
    "    'before': [120, 135, 122, 124, 135, 122, 145, 160, 155, 142, 144, 135, 167],\n",
    "    'after' : [110, 132, 123, 119, 123, 115, 140, 162, 142, 138, 135, 142, 160] })"
   ]
  },
  {
   "cell_type": "code",
   "execution_count": 62,
   "metadata": {},
   "outputs": [
    {
     "name": "stdout",
     "output_type": "stream",
     "text": [
      "정규성을 만족한다\n"
     ]
    }
   ],
   "source": [
    "# 정규성 검정 \n",
    "diff = df['after']-df['before']\n",
    "n_s, n_p = shapiro(diff)\n",
    "if n_p >0.05 : \n",
    "    print('정규성을 만족한다')\n",
    "else : \n",
    "    print('정규성을 만족 하지 않는다 ')"
   ]
  },
  {
   "cell_type": "code",
   "execution_count": 63,
   "metadata": {},
   "outputs": [
    {
     "name": "stdout",
     "output_type": "stream",
     "text": [
      "혈압약을 먹기 전 후가 다르다\n"
     ]
    }
   ],
   "source": [
    "# 정규성 만족 -> ttest_rel \n",
    "# 정규성 만족 x -> wilcoxon\n",
    "\n",
    "n_s,n_p = ttest_rel(df['after'],df['before']) # 순서 주의 부호 바뀐다\n",
    "if n_p >0.05 :\n",
    "    print('혈압약을 먹기 전 후가 같다')\n",
    "else : \n",
    "    print('혈압약을 먹기 전 후가 다르다')"
   ]
  },
  {
   "cell_type": "code",
   "execution_count": null,
   "metadata": {},
   "outputs": [
    {
     "name": "stdout",
     "output_type": "stream",
     "text": [
      "혈압약을 먹기\n"
     ]
    }
   ],
   "source": [
    "# 만약 정규성을 따르지 않는다면 -> wilcoxon\n",
    "n_s, n_p =wilcoxon(diff)\n",
    "if n_p >0.05 : \n",
    "    print('혈압약을 먹기 전 후가 같다')\n",
    "else:\n",
    "    print('혈압약을 먹기 전 후가 다르다')"
   ]
  },
  {
   "cell_type": "markdown",
   "metadata": {},
   "source": [
    "> 문제2) 다음은 A그룹과 B 그룹 인원의 혈압 데이터이다. 두 그룹의 혈압 평균이 다르다고 할 수 있는지 독립표본 t검정을 실시하시오     \n",
    "(유의수준 5%)"
   ]
  },
  {
   "cell_type": "markdown",
   "metadata": {},
   "source": [
    "    * A : A 그룹 인원의 혈압\n",
    "    * B : B 그룹 인원의 혈압\n",
    "    * H0 (귀무가설) : 두 그룹 혈압이 동일하다 (A=B)\n",
    "    * H1 (대립가설) : 두 그룹 혈압이 다르다 (A<>B)"
   ]
  },
  {
   "cell_type": "code",
   "execution_count": 65,
   "metadata": {},
   "outputs": [
    {
     "name": "stdout",
     "output_type": "stream",
     "text": [
      "     A    B\n",
      "0  120  110\n",
      "1  135  132\n",
      "2  122  123\n",
      "3  124  119\n",
      "4  135  123\n"
     ]
    }
   ],
   "source": [
    "df = pd.DataFrame({\n",
    "  'A' : [120, 135, 122, 124, 135, 122, 145, 160, 155, 142, 144, 135, 167],\n",
    "  'B' : [110, 132, 123, 119, 123, 115, 140, 162, 142, 138, 135, 142, 160]\n",
    "})\n",
    "\n",
    "print(df.head())"
   ]
  },
  {
   "cell_type": "code",
   "execution_count": 66,
   "metadata": {},
   "outputs": [
    {
     "name": "stdout",
     "output_type": "stream",
     "text": [
      "A,B 그룹 둘다 정규성을 만족한다\n"
     ]
    }
   ],
   "source": [
    "# 모집단은 2개 - 서로다른 그룹(A,B)간의 비교 : ttest_ind / ranksum\n",
    "# 독립표본검정 에서는 등분산성 고려 해야한다!!! -> bartlett / levene(정규성 확실하지 않을때)\n",
    "# A,B 그룹 모두 정규성 만족 -> ttest_ind\n",
    "# 둘장 하나라도 정규성 만족 x -> ranksum\n",
    "\n",
    "a_n_s, a_n_p = shapiro(df['A'])\n",
    "b_n_s, b_n_p = shapiro(df['B'])\n",
    "\n",
    "if (a_n_p >0.05) & (b_n_p >0.05):\n",
    "    print('A,B 그룹 둘다 정규성을 만족한다')\n",
    "else : \n",
    "    print('둘중 하나라도 정규성을 만족하지 않는다')\n",
    "\n"
   ]
  },
  {
   "cell_type": "code",
   "execution_count": 67,
   "metadata": {},
   "outputs": [
    {
     "name": "stdout",
     "output_type": "stream",
     "text": [
      "등분산성을 가진다\n",
      "0.867271716287991\n"
     ]
    }
   ],
   "source": [
    "# 등분산성 확인 \n",
    "eq_s, eq_p = bartlett(df['A'],df['B'])\n",
    "if eq_p>0.05 : \n",
    "    print('등분산성을 가진다')\n",
    "else : \n",
    "    print('등분산성을 가지지 않는다')\n",
    "\n",
    "print(eq_p)"
   ]
  },
  {
   "cell_type": "code",
   "execution_count": null,
   "metadata": {},
   "outputs": [
    {
     "name": "stdout",
     "output_type": "stream",
     "text": [
      "두 그룹 혈압이 동일하다\n",
      "0.4207486213941666\n"
     ]
    }
   ],
   "source": [
    "# equal_var = True : 등분산\n",
    "# equal_var = False : 등분산 x\n",
    "s, p = ttest_ind(df['A'],df['B'],equal_var=True,alternative='two-sided')\n",
    "if p >0.05 : \n",
    "    print('두 그룹 혈압이 동일하다')\n",
    "else: \n",
    "    print('두 그룹 혈압이 다르다')\n",
    "print(p)"
   ]
  },
  {
   "cell_type": "code",
   "execution_count": 71,
   "metadata": {},
   "outputs": [
    {
     "name": "stdout",
     "output_type": "stream",
     "text": [
      "0.39746692542259277\n"
     ]
    }
   ],
   "source": [
    "# 정규성을 만족 하지 않는 경우 비모수 검정 (ranksums)\n",
    "r_s, r_p = ranksums(df['A'],df['B'],alternative='two-sided')\n",
    "print(r_p)"
   ]
  },
  {
   "cell_type": "markdown",
   "metadata": {},
   "source": [
    "> 문제 2) 다음은 A그룹과 B그룹 인원의 혈압 데이터이다.    \n",
    "A그룹의 혈압 평균이 B그룹보다 크다고 할 수 있는지 독립표본 t검정을 실시하시오 (단측검정)    "
   ]
  },
  {
   "cell_type": "markdown",
   "metadata": {},
   "source": [
    "    * 귀무가설(H0) : A 그룹 혈압 평균 <= B 그룹 혈압 평균\n",
    "    * 대립가설(H1) : A 그룹 혈압형균 > B 그룹 혈압 평균"
   ]
  },
  {
   "cell_type": "code",
   "execution_count": 72,
   "metadata": {},
   "outputs": [
    {
     "name": "stdout",
     "output_type": "stream",
     "text": [
      "두 그룹 모두 정규성을 만족한다\n"
     ]
    }
   ],
   "source": [
    "# 모집단 2개 독립검정 -> ttest_ind /ranksums\n",
    "# 정규성 검정 : shapiro\n",
    "# 등분산 검정 : bartlett / levene\n",
    "\n",
    "# 두 그룹 모두 정규성 만족 & 등분산성 만족시 -> ttest_ind (equal_var=True)\n",
    "# 하나라도 정규성 만족 하지 않을때 -> ranksums\n",
    "\n",
    "a_n_s, a_n_p = shapiro(df['A'])\n",
    "b_n_s, b_n_p = shapiro(df['B'])\n",
    "\n",
    "if (a_n_s >0.05)&(b_n_s >0.05) :\n",
    "    print('두 그룹 모두 정규성을 만족한다')\n",
    "else :\n",
    "    print('두 그룹중 하나라도 정규성을 만족하지 않는다')"
   ]
  },
  {
   "cell_type": "code",
   "execution_count": 73,
   "metadata": {},
   "outputs": [
    {
     "name": "stdout",
     "output_type": "stream",
     "text": [
      "등분산성을 만족한다\n"
     ]
    }
   ],
   "source": [
    "b_s,b_p = bartlett(df['A'],df['B'])\n",
    "\n",
    "if b_p >0.05 : \n",
    "    print('등분산성을 만족한다')\n",
    "else : \n",
    "    print('등분산성을 만족하지 않는다')\n"
   ]
  },
  {
   "cell_type": "code",
   "execution_count": 75,
   "metadata": {},
   "outputs": [
    {
     "name": "stdout",
     "output_type": "stream",
     "text": [
      "A 그룹 혈압 평균이  B 그룹 혈압평균보다 작거나 같다\n"
     ]
    }
   ],
   "source": [
    "n_s, n_p = ttest_ind(df['A'],df['B'],equal_var=True, alternative='greater')\n",
    "\n",
    "if n_p >0.05 : \n",
    "    print('A 그룹 혈압 평균이  B 그룹 혈압평균보다 작거나 같다')\n",
    "else : \n",
    "    print('A 그룹 혈압 평균이 B 그룹 혈압 평균보다 크다')"
   ]
  },
  {
   "cell_type": "code",
   "execution_count": 76,
   "metadata": {},
   "outputs": [
    {
     "name": "stdout",
     "output_type": "stream",
     "text": [
      "A 그룹 혈압 평균이  B 그룹 혈압평균보다 작거나 같다\n"
     ]
    }
   ],
   "source": [
    "# 만약 정규성을 만족하지 않는 경우 -> ranksums 순위합 검정 실시\n",
    "x_s, x_p = ranksums(df['A'],df['B'],alternative='greater')\n",
    "\n",
    "if x_p >0.05:\n",
    "    print('A 그룹 혈압 평균이  B 그룹 혈압평균보다 작거나 같다')\n",
    "else : \n",
    "    print('A 그룹 혈압 평균이 B 그룹 혈압 평균보다 크다')"
   ]
  }
 ],
 "metadata": {
  "kernelspec": {
   "display_name": "base",
   "language": "python",
   "name": "python3"
  },
  "language_info": {
   "codemirror_mode": {
    "name": "ipython",
    "version": 3
   },
   "file_extension": ".py",
   "mimetype": "text/x-python",
   "name": "python",
   "nbconvert_exporter": "python",
   "pygments_lexer": "ipython3",
   "version": "3.9.12"
  }
 },
 "nbformat": 4,
 "nbformat_minor": 2
}
